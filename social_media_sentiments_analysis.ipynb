{
 "cells": [
  {
   "cell_type": "markdown",
   "metadata": {},
   "source": [
    "# Social Media Sentiments Analysis\n",
    "\n",
    "## Table of Contents  <a id='back'></a> \n",
    "- [Project Introduction](#project-introduction)\n",
    "    - [Analysis Outline](#analysis-outline)\n",
    "    - [Results](#results)\n",
    "- [Importing Libraries and Opening Data Files](#importing-libraries-and-opening-data-files)\n",
    "- [Pre-Processing Data](#pre-processing-data)\n",
    "    - [Header Style](#header-style)\n",
    "    - [Duplicates](#duplicates)\n",
    "    - [Missing Values](#missing-values)\n",
    "    - [Data Usage and Formatting](#data-usage-and-formatting)\n",
    "- [Data Analysis](#data-analysis)\n",
    "- [Conclusion](#conclusion)\n",
    "\n",
    "<a name='headers'>"
   ]
  },
  {
   "cell_type": "markdown",
   "metadata": {},
   "source": [
    "## Project Introduction\n",
    "\n",
    "\n",
    "### Analysis Outline\n",
    "\n",
    "\n",
    "### Results"
   ]
  },
  {
   "cell_type": "markdown",
   "metadata": {},
   "source": [
    "## Importing Libraries and Opening Data Files"
   ]
  },
  {
   "cell_type": "code",
   "execution_count": 1,
   "metadata": {},
   "outputs": [],
   "source": [
    "# Importing the needed libraries for this assignment\n",
    "import pandas as pd\n",
    "import numpy as np\n",
    "from matplotlib import pyplot as plt\n",
    "import seaborn as sns"
   ]
  },
  {
   "cell_type": "code",
   "execution_count": 2,
   "metadata": {},
   "outputs": [],
   "source": [
    "# Importing file for assignment\n",
    "try:\n",
    "    sm = pd.read_csv('sentimentdataset.csv')\n",
    "except:\n",
    "    sm = pd.read_csv('/datasets/sentimentdataset.csv')"
   ]
  },
  {
   "cell_type": "markdown",
   "metadata": {},
   "source": [
    "[Back to Table of Contents](#back)"
   ]
  },
  {
   "cell_type": "markdown",
   "metadata": {},
   "source": [
    "## Pre-Processing Data"
   ]
  },
  {
   "cell_type": "markdown",
   "metadata": {},
   "source": [
    "### Header Style"
   ]
  },
  {
   "cell_type": "code",
   "execution_count": 3,
   "metadata": {},
   "outputs": [
    {
     "name": "stdout",
     "output_type": "stream",
     "text": [
      "<class 'pandas.core.frame.DataFrame'>\n",
      "RangeIndex: 732 entries, 0 to 731\n",
      "Data columns (total 15 columns):\n",
      " #   Column        Non-Null Count  Dtype  \n",
      "---  ------        --------------  -----  \n",
      " 0   Unnamed: 0.1  732 non-null    int64  \n",
      " 1   Unnamed: 0    732 non-null    int64  \n",
      " 2   Text          732 non-null    object \n",
      " 3   Sentiment     732 non-null    object \n",
      " 4   Timestamp     732 non-null    object \n",
      " 5   User          732 non-null    object \n",
      " 6   Platform      732 non-null    object \n",
      " 7   Hashtags      732 non-null    object \n",
      " 8   Retweets      732 non-null    float64\n",
      " 9   Likes         732 non-null    float64\n",
      " 10  Country       732 non-null    object \n",
      " 11  Year          732 non-null    int64  \n",
      " 12  Month         732 non-null    int64  \n",
      " 13  Day           732 non-null    int64  \n",
      " 14  Hour          732 non-null    int64  \n",
      "dtypes: float64(2), int64(6), object(7)\n",
      "memory usage: 85.9+ KB\n"
     ]
    },
    {
     "data": {
      "text/html": [
       "<div>\n",
       "<style scoped>\n",
       "    .dataframe tbody tr th:only-of-type {\n",
       "        vertical-align: middle;\n",
       "    }\n",
       "\n",
       "    .dataframe tbody tr th {\n",
       "        vertical-align: top;\n",
       "    }\n",
       "\n",
       "    .dataframe thead th {\n",
       "        text-align: right;\n",
       "    }\n",
       "</style>\n",
       "<table border=\"1\" class=\"dataframe\">\n",
       "  <thead>\n",
       "    <tr style=\"text-align: right;\">\n",
       "      <th></th>\n",
       "      <th>Unnamed: 0.1</th>\n",
       "      <th>Unnamed: 0</th>\n",
       "      <th>Text</th>\n",
       "      <th>Sentiment</th>\n",
       "      <th>Timestamp</th>\n",
       "      <th>User</th>\n",
       "      <th>Platform</th>\n",
       "      <th>Hashtags</th>\n",
       "      <th>Retweets</th>\n",
       "      <th>Likes</th>\n",
       "      <th>Country</th>\n",
       "      <th>Year</th>\n",
       "      <th>Month</th>\n",
       "      <th>Day</th>\n",
       "      <th>Hour</th>\n",
       "    </tr>\n",
       "  </thead>\n",
       "  <tbody>\n",
       "    <tr>\n",
       "      <th>0</th>\n",
       "      <td>0</td>\n",
       "      <td>0</td>\n",
       "      <td>Enjoying a beautiful day at the park!        ...</td>\n",
       "      <td>Positive</td>\n",
       "      <td>2023-01-15 12:30:00</td>\n",
       "      <td>User123</td>\n",
       "      <td>Twitter</td>\n",
       "      <td>#Nature #Park</td>\n",
       "      <td>15.0</td>\n",
       "      <td>30.0</td>\n",
       "      <td>USA</td>\n",
       "      <td>2023</td>\n",
       "      <td>1</td>\n",
       "      <td>15</td>\n",
       "      <td>12</td>\n",
       "    </tr>\n",
       "    <tr>\n",
       "      <th>1</th>\n",
       "      <td>1</td>\n",
       "      <td>1</td>\n",
       "      <td>Traffic was terrible this morning.           ...</td>\n",
       "      <td>Negative</td>\n",
       "      <td>2023-01-15 08:45:00</td>\n",
       "      <td>CommuterX</td>\n",
       "      <td>Twitter</td>\n",
       "      <td>#Traffic #Morning</td>\n",
       "      <td>5.0</td>\n",
       "      <td>10.0</td>\n",
       "      <td>Canada</td>\n",
       "      <td>2023</td>\n",
       "      <td>1</td>\n",
       "      <td>15</td>\n",
       "      <td>8</td>\n",
       "    </tr>\n",
       "    <tr>\n",
       "      <th>2</th>\n",
       "      <td>2</td>\n",
       "      <td>2</td>\n",
       "      <td>Just finished an amazing workout! 💪          ...</td>\n",
       "      <td>Positive</td>\n",
       "      <td>2023-01-15 15:45:00</td>\n",
       "      <td>FitnessFan</td>\n",
       "      <td>Instagram</td>\n",
       "      <td>#Fitness #Workout</td>\n",
       "      <td>20.0</td>\n",
       "      <td>40.0</td>\n",
       "      <td>USA</td>\n",
       "      <td>2023</td>\n",
       "      <td>1</td>\n",
       "      <td>15</td>\n",
       "      <td>15</td>\n",
       "    </tr>\n",
       "    <tr>\n",
       "      <th>3</th>\n",
       "      <td>3</td>\n",
       "      <td>3</td>\n",
       "      <td>Excited about the upcoming weekend getaway!  ...</td>\n",
       "      <td>Positive</td>\n",
       "      <td>2023-01-15 18:20:00</td>\n",
       "      <td>AdventureX</td>\n",
       "      <td>Facebook</td>\n",
       "      <td>#Travel #Adventure</td>\n",
       "      <td>8.0</td>\n",
       "      <td>15.0</td>\n",
       "      <td>UK</td>\n",
       "      <td>2023</td>\n",
       "      <td>1</td>\n",
       "      <td>15</td>\n",
       "      <td>18</td>\n",
       "    </tr>\n",
       "    <tr>\n",
       "      <th>4</th>\n",
       "      <td>4</td>\n",
       "      <td>4</td>\n",
       "      <td>Trying out a new recipe for dinner tonight.  ...</td>\n",
       "      <td>Neutral</td>\n",
       "      <td>2023-01-15 19:55:00</td>\n",
       "      <td>ChefCook</td>\n",
       "      <td>Instagram</td>\n",
       "      <td>#Cooking #Food</td>\n",
       "      <td>12.0</td>\n",
       "      <td>25.0</td>\n",
       "      <td>Australia</td>\n",
       "      <td>2023</td>\n",
       "      <td>1</td>\n",
       "      <td>15</td>\n",
       "      <td>19</td>\n",
       "    </tr>\n",
       "  </tbody>\n",
       "</table>\n",
       "</div>"
      ],
      "text/plain": [
       "   Unnamed: 0.1  Unnamed: 0  \\\n",
       "0             0           0   \n",
       "1             1           1   \n",
       "2             2           2   \n",
       "3             3           3   \n",
       "4             4           4   \n",
       "\n",
       "                                                Text    Sentiment  \\\n",
       "0   Enjoying a beautiful day at the park!        ...   Positive     \n",
       "1   Traffic was terrible this morning.           ...   Negative     \n",
       "2   Just finished an amazing workout! 💪          ...   Positive     \n",
       "3   Excited about the upcoming weekend getaway!  ...   Positive     \n",
       "4   Trying out a new recipe for dinner tonight.  ...   Neutral      \n",
       "\n",
       "             Timestamp            User     Platform  \\\n",
       "0  2023-01-15 12:30:00   User123          Twitter     \n",
       "1  2023-01-15 08:45:00   CommuterX        Twitter     \n",
       "2  2023-01-15 15:45:00   FitnessFan      Instagram    \n",
       "3  2023-01-15 18:20:00   AdventureX       Facebook    \n",
       "4  2023-01-15 19:55:00   ChefCook        Instagram    \n",
       "\n",
       "                                     Hashtags  Retweets  Likes       Country  \\\n",
       "0   #Nature #Park                                  15.0   30.0     USA         \n",
       "1   #Traffic #Morning                               5.0   10.0     Canada      \n",
       "2   #Fitness #Workout                              20.0   40.0   USA           \n",
       "3   #Travel #Adventure                              8.0   15.0     UK          \n",
       "4   #Cooking #Food                                 12.0   25.0    Australia    \n",
       "\n",
       "   Year  Month  Day  Hour  \n",
       "0  2023      1   15    12  \n",
       "1  2023      1   15     8  \n",
       "2  2023      1   15    15  \n",
       "3  2023      1   15    18  \n",
       "4  2023      1   15    19  "
      ]
     },
     "execution_count": 3,
     "metadata": {},
     "output_type": "execute_result"
    }
   ],
   "source": [
    "# Getting general information about the dataset\n",
    "sm.info()\n",
    "sm.head()"
   ]
  },
  {
   "cell_type": "code",
   "execution_count": 4,
   "metadata": {},
   "outputs": [
    {
     "data": {
      "text/plain": [
       "Index(['Unnamed: 0.1', 'Unnamed: 0', 'Text', 'Sentiment', 'Timestamp', 'User',\n",
       "       'Platform', 'Hashtags', 'Retweets', 'Likes', 'Country', 'Year', 'Month',\n",
       "       'Day', 'Hour'],\n",
       "      dtype='object')"
      ]
     },
     "execution_count": 4,
     "metadata": {},
     "output_type": "execute_result"
    }
   ],
   "source": [
    "#checking for snakecase format\n",
    "sm.columns"
   ]
  },
  {
   "cell_type": "code",
   "execution_count": 5,
   "metadata": {},
   "outputs": [
    {
     "data": {
      "text/plain": [
       "Index(['unnamed_0.01', 'unnamed_0', 'text', 'sentiment', 'timestamp', 'user',\n",
       "       'platform', 'hashtags', 'reshared', 'likes', 'country', 'year', 'month',\n",
       "       'day', 'hour'],\n",
       "      dtype='object')"
      ]
     },
     "execution_count": 5,
     "metadata": {},
     "output_type": "execute_result"
    }
   ],
   "source": [
    "# Renaming column names to snake_case format\n",
    "sm = sm.rename(columns={'Unnamed: 0.1': 'unnamed_0.01',\n",
    "                        'Unnamed: 0': 'unnamed_0',\n",
    "                        'Text': 'text',\n",
    "                        'Sentiment': 'sentiment',\n",
    "                        'Timestamp': 'timestamp',\n",
    "                        'User': 'user',\n",
    "                        'Platform': 'platform',\n",
    "                        'Hashtags': 'hashtags',\n",
    "                        'Retweets': 'reshared',\n",
    "                        'Likes': 'likes',\n",
    "                        'Country': 'country',\n",
    "                        'Year': 'year',\n",
    "                        'Month': 'month',\n",
    "                        'Day': 'day',\n",
    "                        'Hour': 'hour'})\n",
    "sm.columns"
   ]
  },
  {
   "cell_type": "markdown",
   "metadata": {},
   "source": [
    "### Duplicates"
   ]
  },
  {
   "cell_type": "code",
   "execution_count": 6,
   "metadata": {},
   "outputs": [
    {
     "data": {
      "text/plain": [
       "0"
      ]
     },
     "execution_count": 6,
     "metadata": {},
     "output_type": "execute_result"
    }
   ],
   "source": [
    "# Checking for duplicates\n",
    "sm.duplicated().sum()"
   ]
  },
  {
   "cell_type": "markdown",
   "metadata": {},
   "source": [
    "### Missing Values"
   ]
  },
  {
   "cell_type": "code",
   "execution_count": 7,
   "metadata": {},
   "outputs": [
    {
     "data": {
      "text/plain": [
       "unnamed_0.01    0\n",
       "unnamed_0       0\n",
       "text            0\n",
       "sentiment       0\n",
       "timestamp       0\n",
       "user            0\n",
       "platform        0\n",
       "hashtags        0\n",
       "reshared        0\n",
       "likes           0\n",
       "country         0\n",
       "year            0\n",
       "month           0\n",
       "day             0\n",
       "hour            0\n",
       "dtype: int64"
      ]
     },
     "execution_count": 7,
     "metadata": {},
     "output_type": "execute_result"
    }
   ],
   "source": [
    "# Checking for null values\n",
    "sm.isna().sum()"
   ]
  },
  {
   "cell_type": "markdown",
   "metadata": {},
   "source": [
    "### Data Usage and Formatting"
   ]
  },
  {
   "cell_type": "code",
   "execution_count": 8,
   "metadata": {},
   "outputs": [
    {
     "name": "stdout",
     "output_type": "stream",
     "text": [
      "<class 'pandas.core.frame.DataFrame'>\n",
      "RangeIndex: 732 entries, 0 to 731\n",
      "Data columns (total 15 columns):\n",
      " #   Column        Non-Null Count  Dtype  \n",
      "---  ------        --------------  -----  \n",
      " 0   unnamed_0.01  732 non-null    int64  \n",
      " 1   unnamed_0     732 non-null    int64  \n",
      " 2   text          732 non-null    object \n",
      " 3   sentiment     732 non-null    object \n",
      " 4   timestamp     732 non-null    object \n",
      " 5   user          732 non-null    object \n",
      " 6   platform      732 non-null    object \n",
      " 7   hashtags      732 non-null    object \n",
      " 8   reshared      732 non-null    float64\n",
      " 9   likes         732 non-null    float64\n",
      " 10  country       732 non-null    object \n",
      " 11  year          732 non-null    int64  \n",
      " 12  month         732 non-null    int64  \n",
      " 13  day           732 non-null    int64  \n",
      " 14  hour          732 non-null    int64  \n",
      "dtypes: float64(2), int64(6), object(7)\n",
      "memory usage: 85.9+ KB\n"
     ]
    },
    {
     "data": {
      "text/html": [
       "<div>\n",
       "<style scoped>\n",
       "    .dataframe tbody tr th:only-of-type {\n",
       "        vertical-align: middle;\n",
       "    }\n",
       "\n",
       "    .dataframe tbody tr th {\n",
       "        vertical-align: top;\n",
       "    }\n",
       "\n",
       "    .dataframe thead th {\n",
       "        text-align: right;\n",
       "    }\n",
       "</style>\n",
       "<table border=\"1\" class=\"dataframe\">\n",
       "  <thead>\n",
       "    <tr style=\"text-align: right;\">\n",
       "      <th></th>\n",
       "      <th>unnamed_0.01</th>\n",
       "      <th>unnamed_0</th>\n",
       "      <th>text</th>\n",
       "      <th>sentiment</th>\n",
       "      <th>timestamp</th>\n",
       "      <th>user</th>\n",
       "      <th>platform</th>\n",
       "      <th>hashtags</th>\n",
       "      <th>reshared</th>\n",
       "      <th>likes</th>\n",
       "      <th>country</th>\n",
       "      <th>year</th>\n",
       "      <th>month</th>\n",
       "      <th>day</th>\n",
       "      <th>hour</th>\n",
       "    </tr>\n",
       "  </thead>\n",
       "  <tbody>\n",
       "    <tr>\n",
       "      <th>548</th>\n",
       "      <td>549</td>\n",
       "      <td>553</td>\n",
       "      <td>In the cycling world championship, the climber...</td>\n",
       "      <td>Determination</td>\n",
       "      <td>2015-09-28 22:30:00</td>\n",
       "      <td>CyclingEnthusiastWorldChampion</td>\n",
       "      <td>Facebook</td>\n",
       "      <td>#Determination #CyclingChampion</td>\n",
       "      <td>35.0</td>\n",
       "      <td>70.0</td>\n",
       "      <td>Italy</td>\n",
       "      <td>2015</td>\n",
       "      <td>9</td>\n",
       "      <td>28</td>\n",
       "      <td>22</td>\n",
       "    </tr>\n",
       "  </tbody>\n",
       "</table>\n",
       "</div>"
      ],
      "text/plain": [
       "     unnamed_0.01  unnamed_0  \\\n",
       "548           549        553   \n",
       "\n",
       "                                                  text        sentiment  \\\n",
       "548  In the cycling world championship, the climber...   Determination    \n",
       "\n",
       "               timestamp                              user    platform  \\\n",
       "548  2015-09-28 22:30:00   CyclingEnthusiastWorldChampion    Facebook    \n",
       "\n",
       "                              hashtags  reshared  likes  country  year  month  \\\n",
       "548   #Determination #CyclingChampion       35.0   70.0   Italy   2015      9   \n",
       "\n",
       "     day  hour  \n",
       "548   28    22  "
      ]
     },
     "execution_count": 8,
     "metadata": {},
     "output_type": "execute_result"
    }
   ],
   "source": [
    "sm.info()\n",
    "sm.sample()"
   ]
  },
  {
   "cell_type": "code",
   "execution_count": 9,
   "metadata": {},
   "outputs": [
    {
     "data": {
      "text/plain": [
       "732"
      ]
     },
     "execution_count": 9,
     "metadata": {},
     "output_type": "execute_result"
    }
   ],
   "source": [
    "# Looking at both of the numeric unnamed columns, it appears to look like a column \n",
    "# that was accidentally recording the row value. If they are we can remove these columns.\n",
    "\n",
    "sm['unnamed_0'].isin(sm['unnamed_0.01']).count()"
   ]
  },
  {
   "cell_type": "code",
   "execution_count": 10,
   "metadata": {},
   "outputs": [
    {
     "data": {
      "text/html": [
       "<div>\n",
       "<style scoped>\n",
       "    .dataframe tbody tr th:only-of-type {\n",
       "        vertical-align: middle;\n",
       "    }\n",
       "\n",
       "    .dataframe tbody tr th {\n",
       "        vertical-align: top;\n",
       "    }\n",
       "\n",
       "    .dataframe thead th {\n",
       "        text-align: right;\n",
       "    }\n",
       "</style>\n",
       "<table border=\"1\" class=\"dataframe\">\n",
       "  <thead>\n",
       "    <tr style=\"text-align: right;\">\n",
       "      <th></th>\n",
       "      <th>text</th>\n",
       "      <th>sentiment</th>\n",
       "      <th>timestamp</th>\n",
       "      <th>user</th>\n",
       "      <th>platform</th>\n",
       "      <th>hashtags</th>\n",
       "      <th>reshared</th>\n",
       "      <th>likes</th>\n",
       "      <th>country</th>\n",
       "      <th>year</th>\n",
       "      <th>month</th>\n",
       "      <th>day</th>\n",
       "      <th>hour</th>\n",
       "    </tr>\n",
       "  </thead>\n",
       "  <tbody>\n",
       "    <tr>\n",
       "      <th>0</th>\n",
       "      <td>Enjoying a beautiful day at the park!        ...</td>\n",
       "      <td>Positive</td>\n",
       "      <td>2023-01-15 12:30:00</td>\n",
       "      <td>User123</td>\n",
       "      <td>Twitter</td>\n",
       "      <td>#Nature #Park</td>\n",
       "      <td>15.0</td>\n",
       "      <td>30.0</td>\n",
       "      <td>USA</td>\n",
       "      <td>2023</td>\n",
       "      <td>1</td>\n",
       "      <td>15</td>\n",
       "      <td>12</td>\n",
       "    </tr>\n",
       "    <tr>\n",
       "      <th>1</th>\n",
       "      <td>Traffic was terrible this morning.           ...</td>\n",
       "      <td>Negative</td>\n",
       "      <td>2023-01-15 08:45:00</td>\n",
       "      <td>CommuterX</td>\n",
       "      <td>Twitter</td>\n",
       "      <td>#Traffic #Morning</td>\n",
       "      <td>5.0</td>\n",
       "      <td>10.0</td>\n",
       "      <td>Canada</td>\n",
       "      <td>2023</td>\n",
       "      <td>1</td>\n",
       "      <td>15</td>\n",
       "      <td>8</td>\n",
       "    </tr>\n",
       "    <tr>\n",
       "      <th>2</th>\n",
       "      <td>Just finished an amazing workout! 💪          ...</td>\n",
       "      <td>Positive</td>\n",
       "      <td>2023-01-15 15:45:00</td>\n",
       "      <td>FitnessFan</td>\n",
       "      <td>Instagram</td>\n",
       "      <td>#Fitness #Workout</td>\n",
       "      <td>20.0</td>\n",
       "      <td>40.0</td>\n",
       "      <td>USA</td>\n",
       "      <td>2023</td>\n",
       "      <td>1</td>\n",
       "      <td>15</td>\n",
       "      <td>15</td>\n",
       "    </tr>\n",
       "    <tr>\n",
       "      <th>3</th>\n",
       "      <td>Excited about the upcoming weekend getaway!  ...</td>\n",
       "      <td>Positive</td>\n",
       "      <td>2023-01-15 18:20:00</td>\n",
       "      <td>AdventureX</td>\n",
       "      <td>Facebook</td>\n",
       "      <td>#Travel #Adventure</td>\n",
       "      <td>8.0</td>\n",
       "      <td>15.0</td>\n",
       "      <td>UK</td>\n",
       "      <td>2023</td>\n",
       "      <td>1</td>\n",
       "      <td>15</td>\n",
       "      <td>18</td>\n",
       "    </tr>\n",
       "    <tr>\n",
       "      <th>4</th>\n",
       "      <td>Trying out a new recipe for dinner tonight.  ...</td>\n",
       "      <td>Neutral</td>\n",
       "      <td>2023-01-15 19:55:00</td>\n",
       "      <td>ChefCook</td>\n",
       "      <td>Instagram</td>\n",
       "      <td>#Cooking #Food</td>\n",
       "      <td>12.0</td>\n",
       "      <td>25.0</td>\n",
       "      <td>Australia</td>\n",
       "      <td>2023</td>\n",
       "      <td>1</td>\n",
       "      <td>15</td>\n",
       "      <td>19</td>\n",
       "    </tr>\n",
       "  </tbody>\n",
       "</table>\n",
       "</div>"
      ],
      "text/plain": [
       "                                                text    sentiment  \\\n",
       "0   Enjoying a beautiful day at the park!        ...   Positive     \n",
       "1   Traffic was terrible this morning.           ...   Negative     \n",
       "2   Just finished an amazing workout! 💪          ...   Positive     \n",
       "3   Excited about the upcoming weekend getaway!  ...   Positive     \n",
       "4   Trying out a new recipe for dinner tonight.  ...   Neutral      \n",
       "\n",
       "             timestamp            user     platform  \\\n",
       "0  2023-01-15 12:30:00   User123          Twitter     \n",
       "1  2023-01-15 08:45:00   CommuterX        Twitter     \n",
       "2  2023-01-15 15:45:00   FitnessFan      Instagram    \n",
       "3  2023-01-15 18:20:00   AdventureX       Facebook    \n",
       "4  2023-01-15 19:55:00   ChefCook        Instagram    \n",
       "\n",
       "                                     hashtags  reshared  likes       country  \\\n",
       "0   #Nature #Park                                  15.0   30.0     USA         \n",
       "1   #Traffic #Morning                               5.0   10.0     Canada      \n",
       "2   #Fitness #Workout                              20.0   40.0   USA           \n",
       "3   #Travel #Adventure                              8.0   15.0     UK          \n",
       "4   #Cooking #Food                                 12.0   25.0    Australia    \n",
       "\n",
       "   year  month  day  hour  \n",
       "0  2023      1   15    12  \n",
       "1  2023      1   15     8  \n",
       "2  2023      1   15    15  \n",
       "3  2023      1   15    18  \n",
       "4  2023      1   15    19  "
      ]
     },
     "execution_count": 10,
     "metadata": {},
     "output_type": "execute_result"
    }
   ],
   "source": [
    "# After uncovering that these two columns are identical to the row value, \n",
    "# they can be removed to optimize data usage\n",
    "\n",
    "sm = sm.drop(columns=['unnamed_0.01', 'unnamed_0'])\n",
    "sm.head()"
   ]
  },
  {
   "cell_type": "code",
   "execution_count": 11,
   "metadata": {},
   "outputs": [
    {
     "data": {
      "text/plain": [
       "0     Enjoying a beautiful day at the park!        ...\n",
       "1     Traffic was terrible this morning.           ...\n",
       "2     Just finished an amazing workout! 💪          ...\n",
       "3     Excited about the upcoming weekend getaway!  ...\n",
       "4     Trying out a new recipe for dinner tonight.  ...\n",
       "Name: text, dtype: object"
      ]
     },
     "execution_count": 11,
     "metadata": {},
     "output_type": "execute_result"
    }
   ],
   "source": [
    "# Checking the text column\n",
    "\n",
    "sm['text'].head()"
   ]
  },
  {
   "cell_type": "code",
   "execution_count": 12,
   "metadata": {},
   "outputs": [
    {
     "data": {
      "text/plain": [
       "0          enjoying_a_beautiful_day_at_the_park!\n",
       "1             traffic_was_terrible_this_morning.\n",
       "2            just_finished_an_amazing_workout!_💪\n",
       "3    excited_about_the_upcoming_weekend_getaway!\n",
       "4    trying_out_a_new_recipe_for_dinner_tonight.\n",
       "Name: text, dtype: object"
      ]
     },
     "execution_count": 12,
     "metadata": {},
     "output_type": "execute_result"
    }
   ],
   "source": [
    "# Lowering the text column to snakecase format and removing spaces from the fron and end of the the text values\n",
    "\n",
    "sm['text'] = sm['text'].str.lower()\n",
    "sm['text'] = sm['text'].apply(lambda x: x.rstrip()).apply(lambda x: x.lstrip())\n",
    "sm['text'] = sm['text'].apply(lambda x: x.replace(' ', '_'))\n",
    "sm['text'].head()"
   ]
  },
  {
   "cell_type": "code",
   "execution_count": 13,
   "metadata": {},
   "outputs": [
    {
     "data": {
      "text/plain": [
       "0     Positive  \n",
       "1     Negative  \n",
       "2     Positive  \n",
       "3     Positive  \n",
       "4     Neutral   \n",
       "Name: sentiment, dtype: object"
      ]
     },
     "execution_count": 13,
     "metadata": {},
     "output_type": "execute_result"
    }
   ],
   "source": [
    "# Checking the sentiment column\n",
    "\n",
    "sm['sentiment'].head()"
   ]
  },
  {
   "cell_type": "code",
   "execution_count": 14,
   "metadata": {},
   "outputs": [
    {
     "data": {
      "text/plain": [
       "0    positive\n",
       "1    negative\n",
       "2    positive\n",
       "3    positive\n",
       "4     neutral\n",
       "Name: sentiment, dtype: category\n",
       "Categories (191, object): ['acceptance', 'accomplishment', 'admiration', 'adoration', ..., 'wonder', 'wonderment', 'yearning', 'zest']"
      ]
     },
     "execution_count": 14,
     "metadata": {},
     "output_type": "execute_result"
    }
   ],
   "source": [
    "# Lowering the elements to snakecase format, removing irregular spaces, and changing the data type to lower data usage\n",
    "\n",
    "sm['sentiment'] = sm['sentiment'].str.lower()\n",
    "sm['sentiment'] = sm['sentiment'].apply(lambda x: x.rstrip()).apply(lambda x: x.lstrip())\n",
    "sm['sentiment'] = sm['sentiment'].apply(lambda x: x.replace(' ', '_'))\n",
    "sm['sentiment'] = sm['sentiment'].astype('category')\n",
    "sm['sentiment'].head()"
   ]
  },
  {
   "cell_type": "code",
   "execution_count": 15,
   "metadata": {},
   "outputs": [],
   "source": [
    "# Looking at the first few values it shows the time stamp column is a string type but\n",
    "# we should convert it to a datetime type to save data usage\n",
    "\n",
    "sm['timestamp'] = pd.to_datetime(sm['timestamp'], format='%Y-%m-%d %H:%M:%S')"
   ]
  },
  {
   "cell_type": "code",
   "execution_count": 16,
   "metadata": {},
   "outputs": [
    {
     "data": {
      "text/plain": [
       "0     User123      \n",
       "1     CommuterX    \n",
       "2     FitnessFan   \n",
       "3     AdventureX   \n",
       "4     ChefCook     \n",
       "Name: user, dtype: object"
      ]
     },
     "execution_count": 16,
     "metadata": {},
     "output_type": "execute_result"
    }
   ],
   "source": [
    "# Checking the user column\n",
    "\n",
    "sm['user'].head()"
   ]
  },
  {
   "cell_type": "code",
   "execution_count": 17,
   "metadata": {},
   "outputs": [
    {
     "data": {
      "text/plain": [
       "0       user123\n",
       "1     commuterx\n",
       "2    fitnessfan\n",
       "3    adventurex\n",
       "4      chefcook\n",
       "Name: user, dtype: object"
      ]
     },
     "execution_count": 17,
     "metadata": {},
     "output_type": "execute_result"
    }
   ],
   "source": [
    "# Lowering the user column to snakecase format and removing spaces that are not needed\n",
    "\n",
    "sm['user'] = sm['user'].str.lower()\n",
    "sm['user'] = sm['user'].apply(lambda x: x.rstrip()).apply(lambda x: x.lstrip())\n",
    "sm['user'].head()"
   ]
  },
  {
   "cell_type": "code",
   "execution_count": 18,
   "metadata": {},
   "outputs": [
    {
     "data": {
      "text/plain": [
       "0      Twitter  \n",
       "1      Twitter  \n",
       "2     Instagram \n",
       "3      Facebook \n",
       "4     Instagram \n",
       "Name: platform, dtype: object"
      ]
     },
     "execution_count": 18,
     "metadata": {},
     "output_type": "execute_result"
    }
   ],
   "source": [
    "# Checking the platform column\n",
    "\n",
    "sm['platform'].head()"
   ]
  },
  {
   "cell_type": "code",
   "execution_count": 19,
   "metadata": {},
   "outputs": [
    {
     "data": {
      "text/plain": [
       "0      twitter\n",
       "1      twitter\n",
       "2    instagram\n",
       "3     facebook\n",
       "4    instagram\n",
       "Name: platform, dtype: category\n",
       "Categories (3, object): ['facebook', 'instagram', 'twitter']"
      ]
     },
     "execution_count": 19,
     "metadata": {},
     "output_type": "execute_result"
    }
   ],
   "source": [
    "# Lowering the platform column to snakecase format and fixing spacing typos\n",
    "\n",
    "sm['platform'] = sm['platform'].str.lower()\n",
    "sm['platform'] = sm['platform'].apply(lambda x: x.strip())\n",
    "sm['platform'] = sm['platform'].astype('category')\n",
    "sm['platform'].head()"
   ]
  },
  {
   "cell_type": "code",
   "execution_count": 20,
   "metadata": {},
   "outputs": [
    {
     "data": {
      "text/plain": [
       "0     #Nature #Park                            \n",
       "1     #Traffic #Morning                        \n",
       "2     #Fitness #Workout                        \n",
       "3     #Travel #Adventure                       \n",
       "4     #Cooking #Food                           \n",
       "Name: hashtags, dtype: object"
      ]
     },
     "execution_count": 20,
     "metadata": {},
     "output_type": "execute_result"
    }
   ],
   "source": [
    "# Checking the hashtags column\n",
    "\n",
    "sm['hashtags'].head()"
   ]
  },
  {
   "cell_type": "code",
   "execution_count": 21,
   "metadata": {},
   "outputs": [
    {
     "data": {
      "text/plain": [
       "0         #nature_#park\n",
       "1     #traffic_#morning\n",
       "2     #fitness_#workout\n",
       "3    #travel_#adventure\n",
       "4        #cooking_#food\n",
       "Name: hashtags, dtype: object"
      ]
     },
     "execution_count": 21,
     "metadata": {},
     "output_type": "execute_result"
    }
   ],
   "source": [
    "# Lowering the hashtags column to snakecase format and removing spaces that are not needed\n",
    "\n",
    "sm['hashtags'] = sm['hashtags'].str.lower()\n",
    "sm['hashtags'] = sm['hashtags'].apply(lambda x: x.rstrip()).apply(lambda x: x.lstrip())\n",
    "sm['hashtags'] = sm['hashtags'].apply(lambda x: x.replace(' ', '_'))\n",
    "sm['hashtags'].head()"
   ]
  },
  {
   "cell_type": "code",
   "execution_count": 22,
   "metadata": {},
   "outputs": [
    {
     "data": {
      "text/plain": [
       "0       USA      \n",
       "1       Canada   \n",
       "2     USA        \n",
       "3       UK       \n",
       "4      Australia \n",
       "Name: country, dtype: object"
      ]
     },
     "execution_count": 22,
     "metadata": {},
     "output_type": "execute_result"
    }
   ],
   "source": [
    "# Checking the country column\n",
    "\n",
    "sm['country'].head()"
   ]
  },
  {
   "cell_type": "code",
   "execution_count": 23,
   "metadata": {},
   "outputs": [
    {
     "data": {
      "text/plain": [
       "0          usa\n",
       "1       canada\n",
       "2          usa\n",
       "3           uk\n",
       "4    australia\n",
       "Name: country, dtype: category\n",
       "Categories (33, object): ['australia', 'austria', 'belgium', 'brazil', ..., 'switzerland', 'thailand', 'uk', 'usa']"
      ]
     },
     "execution_count": 23,
     "metadata": {},
     "output_type": "execute_result"
    }
   ],
   "source": [
    "# Lowering the country column to snakecase format and removing spaces\n",
    "\n",
    "sm['country'] = sm['country'].str.lower()\n",
    "sm['country'] = sm['country'].apply(lambda x: x.rstrip()).apply(lambda x: x.lstrip())\n",
    "sm['country'] = sm['country'].apply(lambda x: x.replace(' ', '_'))\n",
    "sm['country'] = sm['country'].astype('category')\n",
    "sm['country'].head()"
   ]
  },
  {
   "cell_type": "code",
   "execution_count": 24,
   "metadata": {},
   "outputs": [
    {
     "name": "stdout",
     "output_type": "stream",
     "text": [
      "<class 'pandas.core.frame.DataFrame'>\n",
      "RangeIndex: 732 entries, 0 to 731\n",
      "Data columns (total 13 columns):\n",
      " #   Column     Non-Null Count  Dtype         \n",
      "---  ------     --------------  -----         \n",
      " 0   text       732 non-null    object        \n",
      " 1   sentiment  732 non-null    category      \n",
      " 2   timestamp  732 non-null    datetime64[ns]\n",
      " 3   user       732 non-null    object        \n",
      " 4   platform   732 non-null    category      \n",
      " 5   hashtags   732 non-null    object        \n",
      " 6   reshared   732 non-null    float64       \n",
      " 7   likes      732 non-null    float64       \n",
      " 8   country    732 non-null    category      \n",
      " 9   year       732 non-null    int64         \n",
      " 10  month      732 non-null    int64         \n",
      " 11  day        732 non-null    int64         \n",
      " 12  hour       732 non-null    int64         \n",
      "dtypes: category(3), datetime64[ns](1), float64(2), int64(4), object(3)\n",
      "memory usage: 67.2+ KB\n"
     ]
    },
    {
     "data": {
      "text/html": [
       "<div>\n",
       "<style scoped>\n",
       "    .dataframe tbody tr th:only-of-type {\n",
       "        vertical-align: middle;\n",
       "    }\n",
       "\n",
       "    .dataframe tbody tr th {\n",
       "        vertical-align: top;\n",
       "    }\n",
       "\n",
       "    .dataframe thead th {\n",
       "        text-align: right;\n",
       "    }\n",
       "</style>\n",
       "<table border=\"1\" class=\"dataframe\">\n",
       "  <thead>\n",
       "    <tr style=\"text-align: right;\">\n",
       "      <th></th>\n",
       "      <th>text</th>\n",
       "      <th>sentiment</th>\n",
       "      <th>timestamp</th>\n",
       "      <th>user</th>\n",
       "      <th>platform</th>\n",
       "      <th>hashtags</th>\n",
       "      <th>reshared</th>\n",
       "      <th>likes</th>\n",
       "      <th>country</th>\n",
       "      <th>year</th>\n",
       "      <th>month</th>\n",
       "      <th>day</th>\n",
       "      <th>hour</th>\n",
       "    </tr>\n",
       "  </thead>\n",
       "  <tbody>\n",
       "    <tr>\n",
       "      <th>0</th>\n",
       "      <td>enjoying_a_beautiful_day_at_the_park!</td>\n",
       "      <td>positive</td>\n",
       "      <td>2023-01-15 12:30:00</td>\n",
       "      <td>user123</td>\n",
       "      <td>twitter</td>\n",
       "      <td>#nature_#park</td>\n",
       "      <td>15.0</td>\n",
       "      <td>30.0</td>\n",
       "      <td>usa</td>\n",
       "      <td>2023</td>\n",
       "      <td>1</td>\n",
       "      <td>15</td>\n",
       "      <td>12</td>\n",
       "    </tr>\n",
       "    <tr>\n",
       "      <th>1</th>\n",
       "      <td>traffic_was_terrible_this_morning.</td>\n",
       "      <td>negative</td>\n",
       "      <td>2023-01-15 08:45:00</td>\n",
       "      <td>commuterx</td>\n",
       "      <td>twitter</td>\n",
       "      <td>#traffic_#morning</td>\n",
       "      <td>5.0</td>\n",
       "      <td>10.0</td>\n",
       "      <td>canada</td>\n",
       "      <td>2023</td>\n",
       "      <td>1</td>\n",
       "      <td>15</td>\n",
       "      <td>8</td>\n",
       "    </tr>\n",
       "    <tr>\n",
       "      <th>2</th>\n",
       "      <td>just_finished_an_amazing_workout!_💪</td>\n",
       "      <td>positive</td>\n",
       "      <td>2023-01-15 15:45:00</td>\n",
       "      <td>fitnessfan</td>\n",
       "      <td>instagram</td>\n",
       "      <td>#fitness_#workout</td>\n",
       "      <td>20.0</td>\n",
       "      <td>40.0</td>\n",
       "      <td>usa</td>\n",
       "      <td>2023</td>\n",
       "      <td>1</td>\n",
       "      <td>15</td>\n",
       "      <td>15</td>\n",
       "    </tr>\n",
       "    <tr>\n",
       "      <th>3</th>\n",
       "      <td>excited_about_the_upcoming_weekend_getaway!</td>\n",
       "      <td>positive</td>\n",
       "      <td>2023-01-15 18:20:00</td>\n",
       "      <td>adventurex</td>\n",
       "      <td>facebook</td>\n",
       "      <td>#travel_#adventure</td>\n",
       "      <td>8.0</td>\n",
       "      <td>15.0</td>\n",
       "      <td>uk</td>\n",
       "      <td>2023</td>\n",
       "      <td>1</td>\n",
       "      <td>15</td>\n",
       "      <td>18</td>\n",
       "    </tr>\n",
       "    <tr>\n",
       "      <th>4</th>\n",
       "      <td>trying_out_a_new_recipe_for_dinner_tonight.</td>\n",
       "      <td>neutral</td>\n",
       "      <td>2023-01-15 19:55:00</td>\n",
       "      <td>chefcook</td>\n",
       "      <td>instagram</td>\n",
       "      <td>#cooking_#food</td>\n",
       "      <td>12.0</td>\n",
       "      <td>25.0</td>\n",
       "      <td>australia</td>\n",
       "      <td>2023</td>\n",
       "      <td>1</td>\n",
       "      <td>15</td>\n",
       "      <td>19</td>\n",
       "    </tr>\n",
       "  </tbody>\n",
       "</table>\n",
       "</div>"
      ],
      "text/plain": [
       "                                          text sentiment           timestamp  \\\n",
       "0        enjoying_a_beautiful_day_at_the_park!  positive 2023-01-15 12:30:00   \n",
       "1           traffic_was_terrible_this_morning.  negative 2023-01-15 08:45:00   \n",
       "2          just_finished_an_amazing_workout!_💪  positive 2023-01-15 15:45:00   \n",
       "3  excited_about_the_upcoming_weekend_getaway!  positive 2023-01-15 18:20:00   \n",
       "4  trying_out_a_new_recipe_for_dinner_tonight.   neutral 2023-01-15 19:55:00   \n",
       "\n",
       "         user   platform            hashtags  reshared  likes    country  \\\n",
       "0     user123    twitter       #nature_#park      15.0   30.0        usa   \n",
       "1   commuterx    twitter   #traffic_#morning       5.0   10.0     canada   \n",
       "2  fitnessfan  instagram   #fitness_#workout      20.0   40.0        usa   \n",
       "3  adventurex   facebook  #travel_#adventure       8.0   15.0         uk   \n",
       "4    chefcook  instagram      #cooking_#food      12.0   25.0  australia   \n",
       "\n",
       "   year  month  day  hour  \n",
       "0  2023      1   15    12  \n",
       "1  2023      1   15     8  \n",
       "2  2023      1   15    15  \n",
       "3  2023      1   15    18  \n",
       "4  2023      1   15    19  "
      ]
     },
     "execution_count": 24,
     "metadata": {},
     "output_type": "execute_result"
    }
   ],
   "source": [
    "sm.info()\n",
    "sm.head()\n",
    "\n",
    "# Memory usage has decreased from 85.9kb to 67.2kb"
   ]
  },
  {
   "cell_type": "markdown",
   "metadata": {},
   "source": [
    "[Back to Table of Contents](#back)"
   ]
  },
  {
   "cell_type": "markdown",
   "metadata": {},
   "source": [
    "### Data Wrangling"
   ]
  },
  {
   "cell_type": "code",
   "execution_count": 25,
   "metadata": {},
   "outputs": [
    {
     "data": {
      "text/html": [
       "<div>\n",
       "<style scoped>\n",
       "    .dataframe tbody tr th:only-of-type {\n",
       "        vertical-align: middle;\n",
       "    }\n",
       "\n",
       "    .dataframe tbody tr th {\n",
       "        vertical-align: top;\n",
       "    }\n",
       "\n",
       "    .dataframe thead th {\n",
       "        text-align: right;\n",
       "    }\n",
       "</style>\n",
       "<table border=\"1\" class=\"dataframe\">\n",
       "  <thead>\n",
       "    <tr style=\"text-align: right;\">\n",
       "      <th></th>\n",
       "      <th>text</th>\n",
       "      <th>sentiment</th>\n",
       "      <th>timestamp</th>\n",
       "      <th>user</th>\n",
       "      <th>platform</th>\n",
       "      <th>hashtags</th>\n",
       "      <th>reshared</th>\n",
       "      <th>likes</th>\n",
       "      <th>country</th>\n",
       "      <th>year</th>\n",
       "      <th>month</th>\n",
       "      <th>day</th>\n",
       "      <th>hour</th>\n",
       "    </tr>\n",
       "  </thead>\n",
       "  <tbody>\n",
       "    <tr>\n",
       "      <th>0</th>\n",
       "      <td>enjoying_a_beautiful_day_at_the_park!</td>\n",
       "      <td>positive</td>\n",
       "      <td>2023-01-15 12:30:00</td>\n",
       "      <td>user123</td>\n",
       "      <td>twitter</td>\n",
       "      <td>#nature_#park</td>\n",
       "      <td>15.0</td>\n",
       "      <td>30.0</td>\n",
       "      <td>usa</td>\n",
       "      <td>2023</td>\n",
       "      <td>1</td>\n",
       "      <td>15</td>\n",
       "      <td>12</td>\n",
       "    </tr>\n",
       "    <tr>\n",
       "      <th>1</th>\n",
       "      <td>traffic_was_terrible_this_morning.</td>\n",
       "      <td>negative</td>\n",
       "      <td>2023-01-15 08:45:00</td>\n",
       "      <td>commuterx</td>\n",
       "      <td>twitter</td>\n",
       "      <td>#traffic_#morning</td>\n",
       "      <td>5.0</td>\n",
       "      <td>10.0</td>\n",
       "      <td>canada</td>\n",
       "      <td>2023</td>\n",
       "      <td>1</td>\n",
       "      <td>15</td>\n",
       "      <td>8</td>\n",
       "    </tr>\n",
       "    <tr>\n",
       "      <th>2</th>\n",
       "      <td>just_finished_an_amazing_workout!_💪</td>\n",
       "      <td>positive</td>\n",
       "      <td>2023-01-15 15:45:00</td>\n",
       "      <td>fitnessfan</td>\n",
       "      <td>instagram</td>\n",
       "      <td>#fitness_#workout</td>\n",
       "      <td>20.0</td>\n",
       "      <td>40.0</td>\n",
       "      <td>usa</td>\n",
       "      <td>2023</td>\n",
       "      <td>1</td>\n",
       "      <td>15</td>\n",
       "      <td>15</td>\n",
       "    </tr>\n",
       "    <tr>\n",
       "      <th>3</th>\n",
       "      <td>excited_about_the_upcoming_weekend_getaway!</td>\n",
       "      <td>positive</td>\n",
       "      <td>2023-01-15 18:20:00</td>\n",
       "      <td>adventurex</td>\n",
       "      <td>facebook</td>\n",
       "      <td>#travel_#adventure</td>\n",
       "      <td>8.0</td>\n",
       "      <td>15.0</td>\n",
       "      <td>uk</td>\n",
       "      <td>2023</td>\n",
       "      <td>1</td>\n",
       "      <td>15</td>\n",
       "      <td>18</td>\n",
       "    </tr>\n",
       "    <tr>\n",
       "      <th>4</th>\n",
       "      <td>trying_out_a_new_recipe_for_dinner_tonight.</td>\n",
       "      <td>neutral</td>\n",
       "      <td>2023-01-15 19:55:00</td>\n",
       "      <td>chefcook</td>\n",
       "      <td>instagram</td>\n",
       "      <td>#cooking_#food</td>\n",
       "      <td>12.0</td>\n",
       "      <td>25.0</td>\n",
       "      <td>australia</td>\n",
       "      <td>2023</td>\n",
       "      <td>1</td>\n",
       "      <td>15</td>\n",
       "      <td>19</td>\n",
       "    </tr>\n",
       "    <tr>\n",
       "      <th>5</th>\n",
       "      <td>feeling_grateful_for_the_little_things_in_life.</td>\n",
       "      <td>positive</td>\n",
       "      <td>2023-01-16 09:10:00</td>\n",
       "      <td>gratitudenow</td>\n",
       "      <td>twitter</td>\n",
       "      <td>#gratitude_#positivevibes</td>\n",
       "      <td>25.0</td>\n",
       "      <td>50.0</td>\n",
       "      <td>india</td>\n",
       "      <td>2023</td>\n",
       "      <td>1</td>\n",
       "      <td>16</td>\n",
       "      <td>9</td>\n",
       "    </tr>\n",
       "    <tr>\n",
       "      <th>6</th>\n",
       "      <td>rainy_days_call_for_cozy_blankets_and_hot_cocoa.</td>\n",
       "      <td>positive</td>\n",
       "      <td>2023-01-16 14:45:00</td>\n",
       "      <td>rainydays</td>\n",
       "      <td>facebook</td>\n",
       "      <td>#rainydays_#cozy</td>\n",
       "      <td>10.0</td>\n",
       "      <td>20.0</td>\n",
       "      <td>canada</td>\n",
       "      <td>2023</td>\n",
       "      <td>1</td>\n",
       "      <td>16</td>\n",
       "      <td>14</td>\n",
       "    </tr>\n",
       "    <tr>\n",
       "      <th>7</th>\n",
       "      <td>the_new_movie_release_is_a_must-watch!</td>\n",
       "      <td>positive</td>\n",
       "      <td>2023-01-16 19:30:00</td>\n",
       "      <td>moviebuff</td>\n",
       "      <td>instagram</td>\n",
       "      <td>#movienight_#mustwatch</td>\n",
       "      <td>15.0</td>\n",
       "      <td>30.0</td>\n",
       "      <td>usa</td>\n",
       "      <td>2023</td>\n",
       "      <td>1</td>\n",
       "      <td>16</td>\n",
       "      <td>19</td>\n",
       "    </tr>\n",
       "    <tr>\n",
       "      <th>8</th>\n",
       "      <td>political_discussions_heating_up_on_the_timeline.</td>\n",
       "      <td>negative</td>\n",
       "      <td>2023-01-17 08:00:00</td>\n",
       "      <td>debatetalk</td>\n",
       "      <td>twitter</td>\n",
       "      <td>#politics_#debate</td>\n",
       "      <td>30.0</td>\n",
       "      <td>60.0</td>\n",
       "      <td>usa</td>\n",
       "      <td>2023</td>\n",
       "      <td>1</td>\n",
       "      <td>17</td>\n",
       "      <td>8</td>\n",
       "    </tr>\n",
       "    <tr>\n",
       "      <th>9</th>\n",
       "      <td>missing_summer_vibes_and_beach_days.</td>\n",
       "      <td>neutral</td>\n",
       "      <td>2023-01-17 12:20:00</td>\n",
       "      <td>beachlover</td>\n",
       "      <td>facebook</td>\n",
       "      <td>#summer_#beachdays</td>\n",
       "      <td>18.0</td>\n",
       "      <td>35.0</td>\n",
       "      <td>australia</td>\n",
       "      <td>2023</td>\n",
       "      <td>1</td>\n",
       "      <td>17</td>\n",
       "      <td>12</td>\n",
       "    </tr>\n",
       "  </tbody>\n",
       "</table>\n",
       "</div>"
      ],
      "text/plain": [
       "                                                text sentiment  \\\n",
       "0              enjoying_a_beautiful_day_at_the_park!  positive   \n",
       "1                 traffic_was_terrible_this_morning.  negative   \n",
       "2                just_finished_an_amazing_workout!_💪  positive   \n",
       "3        excited_about_the_upcoming_weekend_getaway!  positive   \n",
       "4        trying_out_a_new_recipe_for_dinner_tonight.   neutral   \n",
       "5    feeling_grateful_for_the_little_things_in_life.  positive   \n",
       "6   rainy_days_call_for_cozy_blankets_and_hot_cocoa.  positive   \n",
       "7             the_new_movie_release_is_a_must-watch!  positive   \n",
       "8  political_discussions_heating_up_on_the_timeline.  negative   \n",
       "9               missing_summer_vibes_and_beach_days.   neutral   \n",
       "\n",
       "            timestamp          user   platform                   hashtags  \\\n",
       "0 2023-01-15 12:30:00       user123    twitter              #nature_#park   \n",
       "1 2023-01-15 08:45:00     commuterx    twitter          #traffic_#morning   \n",
       "2 2023-01-15 15:45:00    fitnessfan  instagram          #fitness_#workout   \n",
       "3 2023-01-15 18:20:00    adventurex   facebook         #travel_#adventure   \n",
       "4 2023-01-15 19:55:00      chefcook  instagram             #cooking_#food   \n",
       "5 2023-01-16 09:10:00  gratitudenow    twitter  #gratitude_#positivevibes   \n",
       "6 2023-01-16 14:45:00     rainydays   facebook           #rainydays_#cozy   \n",
       "7 2023-01-16 19:30:00     moviebuff  instagram     #movienight_#mustwatch   \n",
       "8 2023-01-17 08:00:00    debatetalk    twitter          #politics_#debate   \n",
       "9 2023-01-17 12:20:00    beachlover   facebook         #summer_#beachdays   \n",
       "\n",
       "   reshared  likes    country  year  month  day  hour  \n",
       "0      15.0   30.0        usa  2023      1   15    12  \n",
       "1       5.0   10.0     canada  2023      1   15     8  \n",
       "2      20.0   40.0        usa  2023      1   15    15  \n",
       "3       8.0   15.0         uk  2023      1   15    18  \n",
       "4      12.0   25.0  australia  2023      1   15    19  \n",
       "5      25.0   50.0      india  2023      1   16     9  \n",
       "6      10.0   20.0     canada  2023      1   16    14  \n",
       "7      15.0   30.0        usa  2023      1   16    19  \n",
       "8      30.0   60.0        usa  2023      1   17     8  \n",
       "9      18.0   35.0  australia  2023      1   17    12  "
      ]
     },
     "execution_count": 25,
     "metadata": {},
     "output_type": "execute_result"
    }
   ],
   "source": [
    "# Looking at the hashtags column, it would be more convenient to split the hashtags so that each cell only has one unique hashtag to make filtering easier in the future\n",
    "\n",
    "sm.head(10)"
   ]
  },
  {
   "cell_type": "code",
   "execution_count": 26,
   "metadata": {},
   "outputs": [
    {
     "data": {
      "text/html": [
       "<div>\n",
       "<style scoped>\n",
       "    .dataframe tbody tr th:only-of-type {\n",
       "        vertical-align: middle;\n",
       "    }\n",
       "\n",
       "    .dataframe tbody tr th {\n",
       "        vertical-align: top;\n",
       "    }\n",
       "\n",
       "    .dataframe thead th {\n",
       "        text-align: right;\n",
       "    }\n",
       "</style>\n",
       "<table border=\"1\" class=\"dataframe\">\n",
       "  <thead>\n",
       "    <tr style=\"text-align: right;\">\n",
       "      <th></th>\n",
       "      <th>text</th>\n",
       "      <th>sentiment</th>\n",
       "      <th>timestamp</th>\n",
       "      <th>user</th>\n",
       "      <th>platform</th>\n",
       "      <th>reshared</th>\n",
       "      <th>likes</th>\n",
       "      <th>country</th>\n",
       "      <th>year</th>\n",
       "      <th>month</th>\n",
       "      <th>day</th>\n",
       "      <th>hour</th>\n",
       "      <th>first_hashtag</th>\n",
       "      <th>second_hashtag</th>\n",
       "    </tr>\n",
       "  </thead>\n",
       "  <tbody>\n",
       "    <tr>\n",
       "      <th>0</th>\n",
       "      <td>enjoying_a_beautiful_day_at_the_park!</td>\n",
       "      <td>positive</td>\n",
       "      <td>2023-01-15 12:30:00</td>\n",
       "      <td>user123</td>\n",
       "      <td>twitter</td>\n",
       "      <td>15.0</td>\n",
       "      <td>30.0</td>\n",
       "      <td>usa</td>\n",
       "      <td>2023</td>\n",
       "      <td>1</td>\n",
       "      <td>15</td>\n",
       "      <td>12</td>\n",
       "      <td>nature</td>\n",
       "      <td>park</td>\n",
       "    </tr>\n",
       "    <tr>\n",
       "      <th>1</th>\n",
       "      <td>traffic_was_terrible_this_morning.</td>\n",
       "      <td>negative</td>\n",
       "      <td>2023-01-15 08:45:00</td>\n",
       "      <td>commuterx</td>\n",
       "      <td>twitter</td>\n",
       "      <td>5.0</td>\n",
       "      <td>10.0</td>\n",
       "      <td>canada</td>\n",
       "      <td>2023</td>\n",
       "      <td>1</td>\n",
       "      <td>15</td>\n",
       "      <td>8</td>\n",
       "      <td>traffic</td>\n",
       "      <td>morning</td>\n",
       "    </tr>\n",
       "    <tr>\n",
       "      <th>2</th>\n",
       "      <td>just_finished_an_amazing_workout!_💪</td>\n",
       "      <td>positive</td>\n",
       "      <td>2023-01-15 15:45:00</td>\n",
       "      <td>fitnessfan</td>\n",
       "      <td>instagram</td>\n",
       "      <td>20.0</td>\n",
       "      <td>40.0</td>\n",
       "      <td>usa</td>\n",
       "      <td>2023</td>\n",
       "      <td>1</td>\n",
       "      <td>15</td>\n",
       "      <td>15</td>\n",
       "      <td>fitness</td>\n",
       "      <td>workout</td>\n",
       "    </tr>\n",
       "    <tr>\n",
       "      <th>3</th>\n",
       "      <td>excited_about_the_upcoming_weekend_getaway!</td>\n",
       "      <td>positive</td>\n",
       "      <td>2023-01-15 18:20:00</td>\n",
       "      <td>adventurex</td>\n",
       "      <td>facebook</td>\n",
       "      <td>8.0</td>\n",
       "      <td>15.0</td>\n",
       "      <td>uk</td>\n",
       "      <td>2023</td>\n",
       "      <td>1</td>\n",
       "      <td>15</td>\n",
       "      <td>18</td>\n",
       "      <td>travel</td>\n",
       "      <td>adventure</td>\n",
       "    </tr>\n",
       "    <tr>\n",
       "      <th>4</th>\n",
       "      <td>trying_out_a_new_recipe_for_dinner_tonight.</td>\n",
       "      <td>neutral</td>\n",
       "      <td>2023-01-15 19:55:00</td>\n",
       "      <td>chefcook</td>\n",
       "      <td>instagram</td>\n",
       "      <td>12.0</td>\n",
       "      <td>25.0</td>\n",
       "      <td>australia</td>\n",
       "      <td>2023</td>\n",
       "      <td>1</td>\n",
       "      <td>15</td>\n",
       "      <td>19</td>\n",
       "      <td>cooking</td>\n",
       "      <td>food</td>\n",
       "    </tr>\n",
       "  </tbody>\n",
       "</table>\n",
       "</div>"
      ],
      "text/plain": [
       "                                          text sentiment           timestamp  \\\n",
       "0        enjoying_a_beautiful_day_at_the_park!  positive 2023-01-15 12:30:00   \n",
       "1           traffic_was_terrible_this_morning.  negative 2023-01-15 08:45:00   \n",
       "2          just_finished_an_amazing_workout!_💪  positive 2023-01-15 15:45:00   \n",
       "3  excited_about_the_upcoming_weekend_getaway!  positive 2023-01-15 18:20:00   \n",
       "4  trying_out_a_new_recipe_for_dinner_tonight.   neutral 2023-01-15 19:55:00   \n",
       "\n",
       "         user   platform  reshared  likes    country  year  month  day  hour  \\\n",
       "0     user123    twitter      15.0   30.0        usa  2023      1   15    12   \n",
       "1   commuterx    twitter       5.0   10.0     canada  2023      1   15     8   \n",
       "2  fitnessfan  instagram      20.0   40.0        usa  2023      1   15    15   \n",
       "3  adventurex   facebook       8.0   15.0         uk  2023      1   15    18   \n",
       "4    chefcook  instagram      12.0   25.0  australia  2023      1   15    19   \n",
       "\n",
       "  first_hashtag second_hashtag  \n",
       "0        nature           park  \n",
       "1       traffic        morning  \n",
       "2       fitness        workout  \n",
       "3        travel      adventure  \n",
       "4       cooking           food  "
      ]
     },
     "execution_count": 26,
     "metadata": {},
     "output_type": "execute_result"
    }
   ],
   "source": [
    "# Splitting the hashtags into two columns\n",
    "\n",
    "new_hashtag = sm['hashtags'].str.split('_', n=1, expand=True)\n",
    "\n",
    "# Creating new columns for the newly split hashtags\n",
    "\n",
    "sm['first_hashtag'] = new_hashtag[0]\n",
    "sm['second_hashtag'] = new_hashtag[1]\n",
    "\n",
    "# Removing the old hashtags column\n",
    "\n",
    "sm.drop(columns=['hashtags'], inplace=True)\n",
    "\n",
    "# Removing the '#' symbol\n",
    "\n",
    "sm['first_hashtag'] = sm['first_hashtag'].apply(lambda x: x.replace('#', ''))\n",
    "sm['second_hashtag'] = sm['second_hashtag'].apply(lambda x: x.replace('#', ''))\n",
    "\n",
    "sm.head()"
   ]
  },
  {
   "cell_type": "code",
   "execution_count": 40,
   "metadata": {},
   "outputs": [
    {
     "data": {
      "text/plain": [
       "sentiment\n",
       "positive    466\n",
       "negative    194\n",
       "neutral      72\n",
       "Name: count, dtype: int64"
      ]
     },
     "execution_count": 40,
     "metadata": {},
     "output_type": "execute_result"
    }
   ],
   "source": [
    "# Looking at the sentiment column there are a lot of unique values that tell a similar story. \n",
    "\n",
    "pd.set_option('display.max_rows', None)\n",
    "sm['sentiment'].value_counts()"
   ]
  },
  {
   "cell_type": "code",
   "execution_count": 42,
   "metadata": {},
   "outputs": [
    {
     "data": {
      "text/plain": [
       "sentiment\n",
       "positive    466\n",
       "negative    194\n",
       "neutral      72\n",
       "Name: count, dtype: int64"
      ]
     },
     "execution_count": 42,
     "metadata": {},
     "output_type": "execute_result"
    }
   ],
   "source": [
    "# For this analysis, we are going to reduce the number of values in the sentiment column to positive, neutral, \n",
    "# and negative to make it easier to read and filter.\n",
    "\n",
    "sm['sentiment'] = sm['sentiment'].replace(['joy',\n",
    "                                           'excitement',\n",
    "                                           'contentment',\n",
    "                                           'gratitude',\n",
    "                                           'curiosity',\n",
    "                                           'serenity',\n",
    "                                           'happy',\n",
    "                                           'nostalgia',\n",
    "                                           'awe',\n",
    "                                           'hopeful',\n",
    "                                           'euphoria',\n",
    "                                           'enthusiasm',\n",
    "                                           'pride',\n",
    "                                           'elation',\n",
    "                                           'determination',\n",
    "                                           'inspiration',\n",
    "                                           'playful',\n",
    "                                           'surprise',\n",
    "                                           'happiness',\n",
    "                                           'inspired',\n",
    "                                           'hope',\n",
    "                                           'empowerment',\n",
    "                                           'admiration',\n",
    "                                           'compassionate',\n",
    "                                           'compassion',\n",
    "                                           'proud',\n",
    "                                           'calmness',\n",
    "                                           'reverence',\n",
    "                                           'fulfillment',\n",
    "                                           'tenderness',\n",
    "                                           'arousal',\n",
    "                                           'enchantment',\n",
    "                                           'grateful',\n",
    "                                           'thrill',\n",
    "                                           'confident',\n",
    "                                           'kind',\n",
    "                                           'creativity',\n",
    "                                           'accomplishment',\n",
    "                                           'harmony',\n",
    "                                           'free-spirited',\n",
    "                                           'empathetic',\n",
    "                                           'satisfaction',\n",
    "                                           'amusement',\n",
    "                                           'adventure',\n",
    "                                           'love',\n",
    "                                           'enjoyment',\n",
    "                                           'exploration',\n",
    "                                           'adoration',\n",
    "                                           'zest',\n",
    "                                           'affection',\n",
    "                                           'radiance',\n",
    "                                           'rejuvenation',\n",
    "                                           'resilience',\n",
    "                                           'coziness',\n",
    "                                           'whimsy',\n",
    "                                           'captivation',\n",
    "                                           'tranquility',\n",
    "                                           'positivity',\n",
    "                                           'playfuljoy',\n",
    "                                           'overjoyed',\n",
    "                                           'optimism',\n",
    "                                           'ocean\\'s_freedom',\n",
    "                                           'nature\\'s_beauty',\n",
    "                                           'relief',\n",
    "                                           'motivation',\n",
    "                                           'amazement',\n",
    "                                           'mindfulness',\n",
    "                                           'mesmerizing',\n",
    "                                           'melodic',\n",
    "                                           'marvel',\n",
    "                                           'kindness',\n",
    "                                           'joyfulreunion',\n",
    "                                           'joy_in_baking',\n",
    "                                           'intrigue',\n",
    "                                           'appreciation',\n",
    "                                           'grandeur',\n",
    "                                           'artisticburst',\n",
    "                                           'iconic',\n",
    "                                           'imagination',\n",
    "                                           'renewed_effort',\n",
    "                                           'runway_creativity',\n",
    "                                           'freedom',\n",
    "                                           'friendship',\n",
    "                                           'heartwarming',\n",
    "                                           'success',\n",
    "                                           'blessed',\n",
    "                                           'engagement',\n",
    "                                           'festivejoy',\n",
    "                                           'thrilling_journey',\n",
    "                                           'touched',\n",
    "                                           'triumph',\n",
    "                                           'vibrancy',\n",
    "                                           'winter_magic',\n",
    "                                           'breakthrough',\n",
    "                                           'celebration ',\n",
    "                                           'energy',\n",
    "                                           'elegance',\n",
    "                                           'ecstasy',\n",
    "                                           'dreamchaser',\n",
    "                                           'dazzle',\n",
    "                                           'culinaryodyssey',\n",
    "                                           'culinary_adventure',\n",
    "                                           'creative_inspiration',\n",
    "                                           'confidence',\n",
    "                                           'colorful',\n",
    "                                           'charm',\n",
    "                                           'celebration',\n",
    "                                           'celestial_wonder',\n",
    "                                           'wonderment'\n",
    "                                           ], 'positive')\n",
    "\n",
    "sm['sentiment'] = sm['sentiment'].replace(['acceptance',\n",
    "                                           'indifference',\n",
    "                                           'ambivalence',\n",
    "                                           'reflection',\n",
    "                                           'anticipation',\n",
    "                                           'wonder',\n",
    "                                           'emotion',\n",
    "                                           'contemplation',\n",
    "                                           'intimidation',\n",
    "                                           'adrenaline',\n",
    "                                           'journey',\n",
    "                                           'innerjourney',\n",
    "                                           'hypnotic',\n",
    "                                           'immersion',\n",
    "                                           'romance',\n",
    "                                           'bittersweet',\n",
    "                                           'solitude',\n",
    "                                           'spark',\n",
    "                                           'suspense',\n",
    "                                           'envisioning_history',\n",
    "                                           'sympathy',\n",
    "                                           'emotionalstorm',\n",
    "                                           'whispers_of_the_past',\n",
    "                                           'darkness',\n",
    "                                           'connection',\n",
    "                                           'challenge',\n",
    "                                           'obstacle',\n",
    "                                           ], 'neutral')\n",
    "\n",
    "sm['sentiment'] = sm['sentiment'].replace(['despair',\n",
    "                                           'sad',\n",
    "                                           'grief',\n",
    "                                           'loneliness',\n",
    "                                           'embarrassed',\n",
    "                                           'confusion',\n",
    "                                           'melancholy',\n",
    "                                           'numbness',\n",
    "                                           'frustration',\n",
    "                                           'regret',\n",
    "                                           'hate',\n",
    "                                           'bad',\n",
    "                                           'disgust',\n",
    "                                           'betrayal',\n",
    "                                           'bitterness',\n",
    "                                           'frustrated',\n",
    "                                           'desolation',\n",
    "                                           'boredom',\n",
    "                                           'overwhelmed',\n",
    "                                           'jealousy',\n",
    "                                           'jealous',\n",
    "                                           'heartbreak',\n",
    "                                           'dismissive',\n",
    "                                           'fearful',\n",
    "                                           'envious',\n",
    "                                           'resentment',\n",
    "                                           'bitter',\n",
    "                                           'shame',\n",
    "                                           'devastated',\n",
    "                                           'envy',\n",
    "                                           'loss',\n",
    "                                           'fear',\n",
    "                                           'helplessness',\n",
    "                                           'isolation',\n",
    "                                           'mischievous',\n",
    "                                           'disappointed',\n",
    "                                           'sadness',\n",
    "                                           'sorrow',\n",
    "                                           'disappointment',\n",
    "                                           'anxiety',\n",
    "                                           'apprehensive',\n",
    "                                           'yearning',\n",
    "                                           'anger',\n",
    "                                           'pensive',\n",
    "                                           'miscalculation',\n",
    "                                           'lostlove',\n",
    "                                           'pressure',\n",
    "                                           'solace',\n",
    "                                           'ruins',\n",
    "                                           'exhaustion',\n",
    "                                           'heartache',\n",
    "                                           'suffering',\n",
    "                                           'desperation'\n",
    "                                           ], 'negative')\n",
    "\n",
    "sm['sentiment'].value_counts()"
   ]
  },
  {
   "cell_type": "code",
   "execution_count": 43,
   "metadata": {},
   "outputs": [
    {
     "data": {
      "text/html": [
       "<div>\n",
       "<style scoped>\n",
       "    .dataframe tbody tr th:only-of-type {\n",
       "        vertical-align: middle;\n",
       "    }\n",
       "\n",
       "    .dataframe tbody tr th {\n",
       "        vertical-align: top;\n",
       "    }\n",
       "\n",
       "    .dataframe thead th {\n",
       "        text-align: right;\n",
       "    }\n",
       "</style>\n",
       "<table border=\"1\" class=\"dataframe\">\n",
       "  <thead>\n",
       "    <tr style=\"text-align: right;\">\n",
       "      <th></th>\n",
       "      <th>text</th>\n",
       "      <th>sentiment</th>\n",
       "      <th>timestamp</th>\n",
       "      <th>user</th>\n",
       "      <th>platform</th>\n",
       "      <th>reshared</th>\n",
       "      <th>likes</th>\n",
       "      <th>country</th>\n",
       "      <th>year</th>\n",
       "      <th>month</th>\n",
       "      <th>day</th>\n",
       "      <th>hour</th>\n",
       "      <th>first_hashtag</th>\n",
       "      <th>second_hashtag</th>\n",
       "    </tr>\n",
       "  </thead>\n",
       "  <tbody>\n",
       "    <tr>\n",
       "      <th>0</th>\n",
       "      <td>enjoying_a_beautiful_day_at_the_park!</td>\n",
       "      <td>positive</td>\n",
       "      <td>2023-01-15 12:30:00</td>\n",
       "      <td>user123</td>\n",
       "      <td>twitter</td>\n",
       "      <td>15.0</td>\n",
       "      <td>30.0</td>\n",
       "      <td>usa</td>\n",
       "      <td>2023</td>\n",
       "      <td>1</td>\n",
       "      <td>15</td>\n",
       "      <td>12</td>\n",
       "      <td>nature</td>\n",
       "      <td>park</td>\n",
       "    </tr>\n",
       "    <tr>\n",
       "      <th>1</th>\n",
       "      <td>traffic_was_terrible_this_morning.</td>\n",
       "      <td>negative</td>\n",
       "      <td>2023-01-15 08:45:00</td>\n",
       "      <td>commuterx</td>\n",
       "      <td>twitter</td>\n",
       "      <td>5.0</td>\n",
       "      <td>10.0</td>\n",
       "      <td>canada</td>\n",
       "      <td>2023</td>\n",
       "      <td>1</td>\n",
       "      <td>15</td>\n",
       "      <td>8</td>\n",
       "      <td>traffic</td>\n",
       "      <td>morning</td>\n",
       "    </tr>\n",
       "    <tr>\n",
       "      <th>2</th>\n",
       "      <td>just_finished_an_amazing_workout!_💪</td>\n",
       "      <td>positive</td>\n",
       "      <td>2023-01-15 15:45:00</td>\n",
       "      <td>fitnessfan</td>\n",
       "      <td>instagram</td>\n",
       "      <td>20.0</td>\n",
       "      <td>40.0</td>\n",
       "      <td>usa</td>\n",
       "      <td>2023</td>\n",
       "      <td>1</td>\n",
       "      <td>15</td>\n",
       "      <td>15</td>\n",
       "      <td>fitness</td>\n",
       "      <td>workout</td>\n",
       "    </tr>\n",
       "    <tr>\n",
       "      <th>3</th>\n",
       "      <td>excited_about_the_upcoming_weekend_getaway!</td>\n",
       "      <td>positive</td>\n",
       "      <td>2023-01-15 18:20:00</td>\n",
       "      <td>adventurex</td>\n",
       "      <td>facebook</td>\n",
       "      <td>8.0</td>\n",
       "      <td>15.0</td>\n",
       "      <td>uk</td>\n",
       "      <td>2023</td>\n",
       "      <td>1</td>\n",
       "      <td>15</td>\n",
       "      <td>18</td>\n",
       "      <td>travel</td>\n",
       "      <td>adventure</td>\n",
       "    </tr>\n",
       "    <tr>\n",
       "      <th>4</th>\n",
       "      <td>trying_out_a_new_recipe_for_dinner_tonight.</td>\n",
       "      <td>neutral</td>\n",
       "      <td>2023-01-15 19:55:00</td>\n",
       "      <td>chefcook</td>\n",
       "      <td>instagram</td>\n",
       "      <td>12.0</td>\n",
       "      <td>25.0</td>\n",
       "      <td>australia</td>\n",
       "      <td>2023</td>\n",
       "      <td>1</td>\n",
       "      <td>15</td>\n",
       "      <td>19</td>\n",
       "      <td>cooking</td>\n",
       "      <td>food</td>\n",
       "    </tr>\n",
       "  </tbody>\n",
       "</table>\n",
       "</div>"
      ],
      "text/plain": [
       "                                          text sentiment           timestamp  \\\n",
       "0        enjoying_a_beautiful_day_at_the_park!  positive 2023-01-15 12:30:00   \n",
       "1           traffic_was_terrible_this_morning.  negative 2023-01-15 08:45:00   \n",
       "2          just_finished_an_amazing_workout!_💪  positive 2023-01-15 15:45:00   \n",
       "3  excited_about_the_upcoming_weekend_getaway!  positive 2023-01-15 18:20:00   \n",
       "4  trying_out_a_new_recipe_for_dinner_tonight.   neutral 2023-01-15 19:55:00   \n",
       "\n",
       "         user   platform  reshared  likes    country  year  month  day  hour  \\\n",
       "0     user123    twitter      15.0   30.0        usa  2023      1   15    12   \n",
       "1   commuterx    twitter       5.0   10.0     canada  2023      1   15     8   \n",
       "2  fitnessfan  instagram      20.0   40.0        usa  2023      1   15    15   \n",
       "3  adventurex   facebook       8.0   15.0         uk  2023      1   15    18   \n",
       "4    chefcook  instagram      12.0   25.0  australia  2023      1   15    19   \n",
       "\n",
       "  first_hashtag second_hashtag  \n",
       "0        nature           park  \n",
       "1       traffic        morning  \n",
       "2       fitness        workout  \n",
       "3        travel      adventure  \n",
       "4       cooking           food  "
      ]
     },
     "execution_count": 43,
     "metadata": {},
     "output_type": "execute_result"
    }
   ],
   "source": [
    "sm.head()"
   ]
  },
  {
   "cell_type": "markdown",
   "metadata": {},
   "source": [
    "[Back to Table of Contents](#back)"
   ]
  },
  {
   "cell_type": "markdown",
   "metadata": {},
   "source": [
    "## Data Analysis\n",
    "\n",
    "### Country Social Media Sentiment"
   ]
  },
  {
   "cell_type": "code",
   "execution_count": 30,
   "metadata": {},
   "outputs": [],
   "source": [
    "total_country_users = sm.groupby(['country']).agg({'sentiment': 'count'})"
   ]
  },
  {
   "cell_type": "code",
   "execution_count": 35,
   "metadata": {},
   "outputs": [],
   "source": [
    "total_country_users.columns =['total_users']"
   ]
  },
  {
   "cell_type": "code",
   "execution_count": 38,
   "metadata": {},
   "outputs": [
    {
     "ename": "KeyError",
     "evalue": "\"Column(s) ['sentiment'] do not exist\"",
     "output_type": "error",
     "traceback": [
      "\u001b[1;31m---------------------------------------------------------------------------\u001b[0m",
      "\u001b[1;31mKeyError\u001b[0m                                  Traceback (most recent call last)",
      "Cell \u001b[1;32mIn[38], line 1\u001b[0m\n\u001b[1;32m----> 1\u001b[0m \u001b[43mtotal_country_users\u001b[49m\u001b[43m[\u001b[49m\u001b[43mtotal_country_users\u001b[49m\u001b[43m[\u001b[49m\u001b[38;5;124;43m'\u001b[39;49m\u001b[38;5;124;43mtotal_users\u001b[39;49m\u001b[38;5;124;43m'\u001b[39;49m\u001b[43m]\u001b[49m\u001b[43m \u001b[49m\u001b[38;5;241;43m>\u001b[39;49m\u001b[38;5;241;43m=\u001b[39;49m\u001b[43m \u001b[49m\u001b[38;5;241;43m10\u001b[39;49m\u001b[43m]\u001b[49m\u001b[38;5;241;43m.\u001b[39;49m\u001b[43mgroupby\u001b[49m\u001b[43m(\u001b[49m\u001b[43m[\u001b[49m\u001b[38;5;124;43m'\u001b[39;49m\u001b[38;5;124;43mcountry\u001b[39;49m\u001b[38;5;124;43m'\u001b[39;49m\u001b[43m]\u001b[49m\u001b[43m)\u001b[49m\u001b[38;5;241;43m.\u001b[39;49m\u001b[43magg\u001b[49m\u001b[43m(\u001b[49m\u001b[43m{\u001b[49m\u001b[38;5;124;43m'\u001b[39;49m\u001b[38;5;124;43msentiment\u001b[39;49m\u001b[38;5;124;43m'\u001b[39;49m\u001b[43m:\u001b[49m\u001b[43m \u001b[49m\u001b[38;5;124;43m'\u001b[39;49m\u001b[38;5;124;43mvalue_counts\u001b[39;49m\u001b[38;5;124;43m'\u001b[39;49m\u001b[43m}\u001b[49m\u001b[43m)\u001b[49m\n",
      "File \u001b[1;32mc:\\Users\\jason\\anaconda3\\lib\\site-packages\\pandas\\core\\groupby\\generic.py:1269\u001b[0m, in \u001b[0;36mDataFrameGroupBy.aggregate\u001b[1;34m(self, func, engine, engine_kwargs, *args, **kwargs)\u001b[0m\n\u001b[0;32m   1266\u001b[0m func \u001b[38;5;241m=\u001b[39m maybe_mangle_lambdas(func)\n\u001b[0;32m   1268\u001b[0m op \u001b[38;5;241m=\u001b[39m GroupByApply(\u001b[38;5;28mself\u001b[39m, func, args, kwargs)\n\u001b[1;32m-> 1269\u001b[0m result \u001b[38;5;241m=\u001b[39m \u001b[43mop\u001b[49m\u001b[38;5;241;43m.\u001b[39;49m\u001b[43magg\u001b[49m\u001b[43m(\u001b[49m\u001b[43m)\u001b[49m\n\u001b[0;32m   1270\u001b[0m \u001b[38;5;28;01mif\u001b[39;00m \u001b[38;5;129;01mnot\u001b[39;00m is_dict_like(func) \u001b[38;5;129;01mand\u001b[39;00m result \u001b[38;5;129;01mis\u001b[39;00m \u001b[38;5;129;01mnot\u001b[39;00m \u001b[38;5;28;01mNone\u001b[39;00m:\n\u001b[0;32m   1271\u001b[0m     \u001b[38;5;28;01mreturn\u001b[39;00m result\n",
      "File \u001b[1;32mc:\\Users\\jason\\anaconda3\\lib\\site-packages\\pandas\\core\\apply.py:163\u001b[0m, in \u001b[0;36mApply.agg\u001b[1;34m(self)\u001b[0m\n\u001b[0;32m    160\u001b[0m     \u001b[38;5;28;01mreturn\u001b[39;00m \u001b[38;5;28mself\u001b[39m\u001b[38;5;241m.\u001b[39mapply_str()\n\u001b[0;32m    162\u001b[0m \u001b[38;5;28;01mif\u001b[39;00m is_dict_like(arg):\n\u001b[1;32m--> 163\u001b[0m     \u001b[38;5;28;01mreturn\u001b[39;00m \u001b[38;5;28;43mself\u001b[39;49m\u001b[38;5;241;43m.\u001b[39;49m\u001b[43magg_dict_like\u001b[49m\u001b[43m(\u001b[49m\u001b[43m)\u001b[49m\n\u001b[0;32m    164\u001b[0m \u001b[38;5;28;01melif\u001b[39;00m is_list_like(arg):\n\u001b[0;32m    165\u001b[0m     \u001b[38;5;66;03m# we require a list, but not a 'str'\u001b[39;00m\n\u001b[0;32m    166\u001b[0m     \u001b[38;5;28;01mreturn\u001b[39;00m \u001b[38;5;28mself\u001b[39m\u001b[38;5;241m.\u001b[39magg_list_like()\n",
      "File \u001b[1;32mc:\\Users\\jason\\anaconda3\\lib\\site-packages\\pandas\\core\\apply.py:403\u001b[0m, in \u001b[0;36mApply.agg_dict_like\u001b[1;34m(self)\u001b[0m\n\u001b[0;32m    400\u001b[0m     selected_obj \u001b[38;5;241m=\u001b[39m obj\u001b[38;5;241m.\u001b[39m_selected_obj\n\u001b[0;32m    401\u001b[0m     selection \u001b[38;5;241m=\u001b[39m obj\u001b[38;5;241m.\u001b[39m_selection\n\u001b[1;32m--> 403\u001b[0m arg \u001b[38;5;241m=\u001b[39m \u001b[38;5;28;43mself\u001b[39;49m\u001b[38;5;241;43m.\u001b[39;49m\u001b[43mnormalize_dictlike_arg\u001b[49m\u001b[43m(\u001b[49m\u001b[38;5;124;43m\"\u001b[39;49m\u001b[38;5;124;43magg\u001b[39;49m\u001b[38;5;124;43m\"\u001b[39;49m\u001b[43m,\u001b[49m\u001b[43m \u001b[49m\u001b[43mselected_obj\u001b[49m\u001b[43m,\u001b[49m\u001b[43m \u001b[49m\u001b[43marg\u001b[49m\u001b[43m)\u001b[49m\n\u001b[0;32m    405\u001b[0m is_groupby \u001b[38;5;241m=\u001b[39m \u001b[38;5;28misinstance\u001b[39m(obj, (DataFrameGroupBy, SeriesGroupBy))\n\u001b[0;32m    406\u001b[0m context_manager: ContextManager\n",
      "File \u001b[1;32mc:\\Users\\jason\\anaconda3\\lib\\site-packages\\pandas\\core\\apply.py:535\u001b[0m, in \u001b[0;36mApply.normalize_dictlike_arg\u001b[1;34m(self, how, obj, func)\u001b[0m\n\u001b[0;32m    533\u001b[0m     \u001b[38;5;28;01mif\u001b[39;00m \u001b[38;5;28mlen\u001b[39m(cols) \u001b[38;5;241m>\u001b[39m \u001b[38;5;241m0\u001b[39m:\n\u001b[0;32m    534\u001b[0m         cols_sorted \u001b[38;5;241m=\u001b[39m \u001b[38;5;28mlist\u001b[39m(safe_sort(\u001b[38;5;28mlist\u001b[39m(cols)))\n\u001b[1;32m--> 535\u001b[0m         \u001b[38;5;28;01mraise\u001b[39;00m \u001b[38;5;167;01mKeyError\u001b[39;00m(\u001b[38;5;124mf\u001b[39m\u001b[38;5;124m\"\u001b[39m\u001b[38;5;124mColumn(s) \u001b[39m\u001b[38;5;132;01m{\u001b[39;00mcols_sorted\u001b[38;5;132;01m}\u001b[39;00m\u001b[38;5;124m do not exist\u001b[39m\u001b[38;5;124m\"\u001b[39m)\n\u001b[0;32m    537\u001b[0m aggregator_types \u001b[38;5;241m=\u001b[39m (\u001b[38;5;28mlist\u001b[39m, \u001b[38;5;28mtuple\u001b[39m, \u001b[38;5;28mdict\u001b[39m)\n\u001b[0;32m    539\u001b[0m \u001b[38;5;66;03m# if we have a dict of any non-scalars\u001b[39;00m\n\u001b[0;32m    540\u001b[0m \u001b[38;5;66;03m# eg. {'A' : ['mean']}, normalize all to\u001b[39;00m\n\u001b[0;32m    541\u001b[0m \u001b[38;5;66;03m# be list-likes\u001b[39;00m\n\u001b[0;32m    542\u001b[0m \u001b[38;5;66;03m# Cannot use func.values() because arg may be a Series\u001b[39;00m\n",
      "\u001b[1;31mKeyError\u001b[0m: \"Column(s) ['sentiment'] do not exist\""
     ]
    }
   ],
   "source": [
    "total_country_users[total_country_users['total_users'] >= 10].groupby(['country']).agg({'sentiment': 'value_counts'})"
   ]
  },
  {
   "cell_type": "code",
   "execution_count": null,
   "metadata": {},
   "outputs": [],
   "source": [
    "sm[sm['sentiment'].count() >= 10].groupby(['country']).agg({'sentiment': 'value_counts'})"
   ]
  },
  {
   "cell_type": "code",
   "execution_count": null,
   "metadata": {},
   "outputs": [],
   "source": []
  },
  {
   "cell_type": "code",
   "execution_count": null,
   "metadata": {},
   "outputs": [],
   "source": []
  },
  {
   "cell_type": "code",
   "execution_count": null,
   "metadata": {},
   "outputs": [],
   "source": []
  },
  {
   "cell_type": "code",
   "execution_count": null,
   "metadata": {},
   "outputs": [],
   "source": []
  },
  {
   "cell_type": "code",
   "execution_count": null,
   "metadata": {},
   "outputs": [],
   "source": [
    "sm['timestamp'].min()"
   ]
  },
  {
   "cell_type": "code",
   "execution_count": null,
   "metadata": {},
   "outputs": [],
   "source": [
    "sm['timestamp'].max()"
   ]
  },
  {
   "cell_type": "markdown",
   "metadata": {},
   "source": [
    "[Back to Table of Contents](#back)"
   ]
  },
  {
   "cell_type": "markdown",
   "metadata": {},
   "source": [
    "## Conclusion"
   ]
  },
  {
   "cell_type": "code",
   "execution_count": null,
   "metadata": {},
   "outputs": [],
   "source": []
  },
  {
   "cell_type": "markdown",
   "metadata": {},
   "source": [
    "[Back to Table of Contents](#back)"
   ]
  }
 ],
 "metadata": {
  "kernelspec": {
   "display_name": "base",
   "language": "python",
   "name": "python3"
  },
  "language_info": {
   "codemirror_mode": {
    "name": "ipython",
    "version": 3
   },
   "file_extension": ".py",
   "mimetype": "text/x-python",
   "name": "python",
   "nbconvert_exporter": "python",
   "pygments_lexer": "ipython3",
   "version": "3.10.9"
  }
 },
 "nbformat": 4,
 "nbformat_minor": 2
}
