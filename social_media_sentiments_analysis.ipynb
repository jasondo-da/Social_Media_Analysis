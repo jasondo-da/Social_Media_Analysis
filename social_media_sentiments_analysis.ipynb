{
 "cells": [
  {
   "cell_type": "markdown",
   "metadata": {},
   "source": [
    "# Social Media Sentiments Analysis\n",
    "\n",
    "## Table of Contents  <a id='back'></a> \n",
    "- [Project Introduction](#project-introduction)\n",
    "    - [Analysis Outline](#analysis-outline)\n",
    "    - [Results](#results)\n",
    "- [Importing Libraries and Opening Data Files](#importing-libraries-and-opening-data-files)\n",
    "- [Pre-Processing Data](#pre-processing-data)\n",
    "    - [Header Style](#header-style)\n",
    "    - [Duplicates](#duplicates)\n",
    "    - [Missing Values](#missing-values)\n",
    "    - [Data Usage and Formatting](#data-usage-and-formatting)\n",
    "- [Data Analysis](#data-analysis)\n",
    "- [Conclusion](#conclusion)\n",
    "\n",
    "<a name='headers'>"
   ]
  },
  {
   "cell_type": "markdown",
   "metadata": {},
   "source": [
    "## Project Introduction\n",
    "\n",
    "\n",
    "### Analysis Outline\n",
    "\n",
    "\n",
    "### Results"
   ]
  },
  {
   "cell_type": "markdown",
   "metadata": {},
   "source": [
    "## Importing Libraries and Opening Data Files"
   ]
  },
  {
   "cell_type": "code",
   "execution_count": 1,
   "metadata": {},
   "outputs": [],
   "source": [
    "# Importing the needed libraries for this assignment\n",
    "import pandas as pd\n",
    "import numpy as np\n",
    "from matplotlib import pyplot as plt\n",
    "import seaborn as sns"
   ]
  },
  {
   "cell_type": "code",
   "execution_count": 2,
   "metadata": {},
   "outputs": [],
   "source": [
    "# Importing file for assignment\n",
    "try:\n",
    "    sm = pd.read_csv('sentimentdataset.csv')\n",
    "except:\n",
    "    sm = pd.read_csv('/datasets/sentimentdataset.csv')"
   ]
  },
  {
   "cell_type": "markdown",
   "metadata": {},
   "source": [
    "[Back to Table of Contents](#back)"
   ]
  },
  {
   "cell_type": "markdown",
   "metadata": {},
   "source": [
    "## Pre-Processing Data"
   ]
  },
  {
   "cell_type": "markdown",
   "metadata": {},
   "source": [
    "### Header Style"
   ]
  },
  {
   "cell_type": "code",
   "execution_count": 3,
   "metadata": {},
   "outputs": [
    {
     "name": "stdout",
     "output_type": "stream",
     "text": [
      "<class 'pandas.core.frame.DataFrame'>\n",
      "RangeIndex: 732 entries, 0 to 731\n",
      "Data columns (total 15 columns):\n",
      " #   Column        Non-Null Count  Dtype  \n",
      "---  ------        --------------  -----  \n",
      " 0   Unnamed: 0.1  732 non-null    int64  \n",
      " 1   Unnamed: 0    732 non-null    int64  \n",
      " 2   Text          732 non-null    object \n",
      " 3   Sentiment     732 non-null    object \n",
      " 4   Timestamp     732 non-null    object \n",
      " 5   User          732 non-null    object \n",
      " 6   Platform      732 non-null    object \n",
      " 7   Hashtags      732 non-null    object \n",
      " 8   Retweets      732 non-null    float64\n",
      " 9   Likes         732 non-null    float64\n",
      " 10  Country       732 non-null    object \n",
      " 11  Year          732 non-null    int64  \n",
      " 12  Month         732 non-null    int64  \n",
      " 13  Day           732 non-null    int64  \n",
      " 14  Hour          732 non-null    int64  \n",
      "dtypes: float64(2), int64(6), object(7)\n",
      "memory usage: 85.9+ KB\n"
     ]
    },
    {
     "data": {
      "text/html": [
       "<div>\n",
       "<style scoped>\n",
       "    .dataframe tbody tr th:only-of-type {\n",
       "        vertical-align: middle;\n",
       "    }\n",
       "\n",
       "    .dataframe tbody tr th {\n",
       "        vertical-align: top;\n",
       "    }\n",
       "\n",
       "    .dataframe thead th {\n",
       "        text-align: right;\n",
       "    }\n",
       "</style>\n",
       "<table border=\"1\" class=\"dataframe\">\n",
       "  <thead>\n",
       "    <tr style=\"text-align: right;\">\n",
       "      <th></th>\n",
       "      <th>Unnamed: 0.1</th>\n",
       "      <th>Unnamed: 0</th>\n",
       "      <th>Text</th>\n",
       "      <th>Sentiment</th>\n",
       "      <th>Timestamp</th>\n",
       "      <th>User</th>\n",
       "      <th>Platform</th>\n",
       "      <th>Hashtags</th>\n",
       "      <th>Retweets</th>\n",
       "      <th>Likes</th>\n",
       "      <th>Country</th>\n",
       "      <th>Year</th>\n",
       "      <th>Month</th>\n",
       "      <th>Day</th>\n",
       "      <th>Hour</th>\n",
       "    </tr>\n",
       "  </thead>\n",
       "  <tbody>\n",
       "    <tr>\n",
       "      <th>0</th>\n",
       "      <td>0</td>\n",
       "      <td>0</td>\n",
       "      <td>Enjoying a beautiful day at the park!        ...</td>\n",
       "      <td>Positive</td>\n",
       "      <td>2023-01-15 12:30:00</td>\n",
       "      <td>User123</td>\n",
       "      <td>Twitter</td>\n",
       "      <td>#Nature #Park</td>\n",
       "      <td>15.0</td>\n",
       "      <td>30.0</td>\n",
       "      <td>USA</td>\n",
       "      <td>2023</td>\n",
       "      <td>1</td>\n",
       "      <td>15</td>\n",
       "      <td>12</td>\n",
       "    </tr>\n",
       "    <tr>\n",
       "      <th>1</th>\n",
       "      <td>1</td>\n",
       "      <td>1</td>\n",
       "      <td>Traffic was terrible this morning.           ...</td>\n",
       "      <td>Negative</td>\n",
       "      <td>2023-01-15 08:45:00</td>\n",
       "      <td>CommuterX</td>\n",
       "      <td>Twitter</td>\n",
       "      <td>#Traffic #Morning</td>\n",
       "      <td>5.0</td>\n",
       "      <td>10.0</td>\n",
       "      <td>Canada</td>\n",
       "      <td>2023</td>\n",
       "      <td>1</td>\n",
       "      <td>15</td>\n",
       "      <td>8</td>\n",
       "    </tr>\n",
       "    <tr>\n",
       "      <th>2</th>\n",
       "      <td>2</td>\n",
       "      <td>2</td>\n",
       "      <td>Just finished an amazing workout! 💪          ...</td>\n",
       "      <td>Positive</td>\n",
       "      <td>2023-01-15 15:45:00</td>\n",
       "      <td>FitnessFan</td>\n",
       "      <td>Instagram</td>\n",
       "      <td>#Fitness #Workout</td>\n",
       "      <td>20.0</td>\n",
       "      <td>40.0</td>\n",
       "      <td>USA</td>\n",
       "      <td>2023</td>\n",
       "      <td>1</td>\n",
       "      <td>15</td>\n",
       "      <td>15</td>\n",
       "    </tr>\n",
       "    <tr>\n",
       "      <th>3</th>\n",
       "      <td>3</td>\n",
       "      <td>3</td>\n",
       "      <td>Excited about the upcoming weekend getaway!  ...</td>\n",
       "      <td>Positive</td>\n",
       "      <td>2023-01-15 18:20:00</td>\n",
       "      <td>AdventureX</td>\n",
       "      <td>Facebook</td>\n",
       "      <td>#Travel #Adventure</td>\n",
       "      <td>8.0</td>\n",
       "      <td>15.0</td>\n",
       "      <td>UK</td>\n",
       "      <td>2023</td>\n",
       "      <td>1</td>\n",
       "      <td>15</td>\n",
       "      <td>18</td>\n",
       "    </tr>\n",
       "    <tr>\n",
       "      <th>4</th>\n",
       "      <td>4</td>\n",
       "      <td>4</td>\n",
       "      <td>Trying out a new recipe for dinner tonight.  ...</td>\n",
       "      <td>Neutral</td>\n",
       "      <td>2023-01-15 19:55:00</td>\n",
       "      <td>ChefCook</td>\n",
       "      <td>Instagram</td>\n",
       "      <td>#Cooking #Food</td>\n",
       "      <td>12.0</td>\n",
       "      <td>25.0</td>\n",
       "      <td>Australia</td>\n",
       "      <td>2023</td>\n",
       "      <td>1</td>\n",
       "      <td>15</td>\n",
       "      <td>19</td>\n",
       "    </tr>\n",
       "  </tbody>\n",
       "</table>\n",
       "</div>"
      ],
      "text/plain": [
       "   Unnamed: 0.1  Unnamed: 0  \\\n",
       "0             0           0   \n",
       "1             1           1   \n",
       "2             2           2   \n",
       "3             3           3   \n",
       "4             4           4   \n",
       "\n",
       "                                                Text    Sentiment  \\\n",
       "0   Enjoying a beautiful day at the park!        ...   Positive     \n",
       "1   Traffic was terrible this morning.           ...   Negative     \n",
       "2   Just finished an amazing workout! 💪          ...   Positive     \n",
       "3   Excited about the upcoming weekend getaway!  ...   Positive     \n",
       "4   Trying out a new recipe for dinner tonight.  ...   Neutral      \n",
       "\n",
       "             Timestamp            User     Platform  \\\n",
       "0  2023-01-15 12:30:00   User123          Twitter     \n",
       "1  2023-01-15 08:45:00   CommuterX        Twitter     \n",
       "2  2023-01-15 15:45:00   FitnessFan      Instagram    \n",
       "3  2023-01-15 18:20:00   AdventureX       Facebook    \n",
       "4  2023-01-15 19:55:00   ChefCook        Instagram    \n",
       "\n",
       "                                     Hashtags  Retweets  Likes       Country  \\\n",
       "0   #Nature #Park                                  15.0   30.0     USA         \n",
       "1   #Traffic #Morning                               5.0   10.0     Canada      \n",
       "2   #Fitness #Workout                              20.0   40.0   USA           \n",
       "3   #Travel #Adventure                              8.0   15.0     UK          \n",
       "4   #Cooking #Food                                 12.0   25.0    Australia    \n",
       "\n",
       "   Year  Month  Day  Hour  \n",
       "0  2023      1   15    12  \n",
       "1  2023      1   15     8  \n",
       "2  2023      1   15    15  \n",
       "3  2023      1   15    18  \n",
       "4  2023      1   15    19  "
      ]
     },
     "execution_count": 3,
     "metadata": {},
     "output_type": "execute_result"
    }
   ],
   "source": [
    "# Getting general information about the dataset\n",
    "sm.info()\n",
    "sm.head()"
   ]
  },
  {
   "cell_type": "code",
   "execution_count": 4,
   "metadata": {},
   "outputs": [
    {
     "data": {
      "text/plain": [
       "Index(['Unnamed: 0.1', 'Unnamed: 0', 'Text', 'Sentiment', 'Timestamp', 'User',\n",
       "       'Platform', 'Hashtags', 'Retweets', 'Likes', 'Country', 'Year', 'Month',\n",
       "       'Day', 'Hour'],\n",
       "      dtype='object')"
      ]
     },
     "execution_count": 4,
     "metadata": {},
     "output_type": "execute_result"
    }
   ],
   "source": [
    "#checking for snakecase format\n",
    "sm.columns"
   ]
  },
  {
   "cell_type": "code",
   "execution_count": 5,
   "metadata": {},
   "outputs": [
    {
     "data": {
      "text/plain": [
       "Index(['unnamed_0.01', 'unnamed_0', 'text', 'sentiment', 'timestamp', 'user',\n",
       "       'platform', 'hashtags', 'reshared', 'likes', 'country', 'year', 'month',\n",
       "       'day', 'hour'],\n",
       "      dtype='object')"
      ]
     },
     "execution_count": 5,
     "metadata": {},
     "output_type": "execute_result"
    }
   ],
   "source": [
    "# Renaming column names to snake_case format\n",
    "sm = sm.rename(columns={'Unnamed: 0.1': 'unnamed_0.01',\n",
    "                        'Unnamed: 0': 'unnamed_0',\n",
    "                        'Text': 'text',\n",
    "                        'Sentiment': 'sentiment',\n",
    "                        'Timestamp': 'timestamp',\n",
    "                        'User': 'user',\n",
    "                        'Platform': 'platform',\n",
    "                        'Hashtags': 'hashtags',\n",
    "                        'Retweets': 'reshared',\n",
    "                        'Likes': 'likes',\n",
    "                        'Country': 'country',\n",
    "                        'Year': 'year',\n",
    "                        'Month': 'month',\n",
    "                        'Day': 'day',\n",
    "                        'Hour': 'hour'})\n",
    "sm.columns"
   ]
  },
  {
   "cell_type": "markdown",
   "metadata": {},
   "source": [
    "### Duplicates"
   ]
  },
  {
   "cell_type": "code",
   "execution_count": 6,
   "metadata": {},
   "outputs": [
    {
     "data": {
      "text/plain": [
       "0"
      ]
     },
     "execution_count": 6,
     "metadata": {},
     "output_type": "execute_result"
    }
   ],
   "source": [
    "# Checking for duplicates\n",
    "sm.duplicated().sum()"
   ]
  },
  {
   "cell_type": "markdown",
   "metadata": {},
   "source": [
    "### Missing Values"
   ]
  },
  {
   "cell_type": "code",
   "execution_count": 7,
   "metadata": {},
   "outputs": [
    {
     "data": {
      "text/plain": [
       "unnamed_0.01    0\n",
       "unnamed_0       0\n",
       "text            0\n",
       "sentiment       0\n",
       "timestamp       0\n",
       "user            0\n",
       "platform        0\n",
       "hashtags        0\n",
       "reshared        0\n",
       "likes           0\n",
       "country         0\n",
       "year            0\n",
       "month           0\n",
       "day             0\n",
       "hour            0\n",
       "dtype: int64"
      ]
     },
     "execution_count": 7,
     "metadata": {},
     "output_type": "execute_result"
    }
   ],
   "source": [
    "# Checking for null values\n",
    "sm.isna().sum()"
   ]
  },
  {
   "cell_type": "markdown",
   "metadata": {},
   "source": [
    "### Data Usage and Formatting"
   ]
  },
  {
   "cell_type": "code",
   "execution_count": 8,
   "metadata": {},
   "outputs": [
    {
     "name": "stdout",
     "output_type": "stream",
     "text": [
      "<class 'pandas.core.frame.DataFrame'>\n",
      "RangeIndex: 732 entries, 0 to 731\n",
      "Data columns (total 15 columns):\n",
      " #   Column        Non-Null Count  Dtype  \n",
      "---  ------        --------------  -----  \n",
      " 0   unnamed_0.01  732 non-null    int64  \n",
      " 1   unnamed_0     732 non-null    int64  \n",
      " 2   text          732 non-null    object \n",
      " 3   sentiment     732 non-null    object \n",
      " 4   timestamp     732 non-null    object \n",
      " 5   user          732 non-null    object \n",
      " 6   platform      732 non-null    object \n",
      " 7   hashtags      732 non-null    object \n",
      " 8   reshared      732 non-null    float64\n",
      " 9   likes         732 non-null    float64\n",
      " 10  country       732 non-null    object \n",
      " 11  year          732 non-null    int64  \n",
      " 12  month         732 non-null    int64  \n",
      " 13  day           732 non-null    int64  \n",
      " 14  hour          732 non-null    int64  \n",
      "dtypes: float64(2), int64(6), object(7)\n",
      "memory usage: 85.9+ KB\n"
     ]
    },
    {
     "data": {
      "text/html": [
       "<div>\n",
       "<style scoped>\n",
       "    .dataframe tbody tr th:only-of-type {\n",
       "        vertical-align: middle;\n",
       "    }\n",
       "\n",
       "    .dataframe tbody tr th {\n",
       "        vertical-align: top;\n",
       "    }\n",
       "\n",
       "    .dataframe thead th {\n",
       "        text-align: right;\n",
       "    }\n",
       "</style>\n",
       "<table border=\"1\" class=\"dataframe\">\n",
       "  <thead>\n",
       "    <tr style=\"text-align: right;\">\n",
       "      <th></th>\n",
       "      <th>unnamed_0.01</th>\n",
       "      <th>unnamed_0</th>\n",
       "      <th>text</th>\n",
       "      <th>sentiment</th>\n",
       "      <th>timestamp</th>\n",
       "      <th>user</th>\n",
       "      <th>platform</th>\n",
       "      <th>hashtags</th>\n",
       "      <th>reshared</th>\n",
       "      <th>likes</th>\n",
       "      <th>country</th>\n",
       "      <th>year</th>\n",
       "      <th>month</th>\n",
       "      <th>day</th>\n",
       "      <th>hour</th>\n",
       "    </tr>\n",
       "  </thead>\n",
       "  <tbody>\n",
       "    <tr>\n",
       "      <th>456</th>\n",
       "      <td>457</td>\n",
       "      <td>461</td>\n",
       "      <td>Wandering in the maze of betrayal, the walls c...</td>\n",
       "      <td>Betrayal</td>\n",
       "      <td>2021-01-05 16:20:00</td>\n",
       "      <td>MazeWanderer</td>\n",
       "      <td>Instagram</td>\n",
       "      <td>#Betrayal #ClosingWalls</td>\n",
       "      <td>15.0</td>\n",
       "      <td>30.0</td>\n",
       "      <td>Germany</td>\n",
       "      <td>2021</td>\n",
       "      <td>1</td>\n",
       "      <td>5</td>\n",
       "      <td>16</td>\n",
       "    </tr>\n",
       "  </tbody>\n",
       "</table>\n",
       "</div>"
      ],
      "text/plain": [
       "     unnamed_0.01  unnamed_0  \\\n",
       "456           457        461   \n",
       "\n",
       "                                                  text   sentiment  \\\n",
       "456  Wandering in the maze of betrayal, the walls c...   Betrayal    \n",
       "\n",
       "               timestamp            user     platform  \\\n",
       "456  2021-01-05 16:20:00   MazeWanderer    Instagram    \n",
       "\n",
       "                      hashtags  reshared  likes    country  year  month  day  \\\n",
       "456   #Betrayal #ClosingWalls       15.0   30.0   Germany   2021      1    5   \n",
       "\n",
       "     hour  \n",
       "456    16  "
      ]
     },
     "execution_count": 8,
     "metadata": {},
     "output_type": "execute_result"
    }
   ],
   "source": [
    "sm.info()\n",
    "sm.sample()"
   ]
  },
  {
   "cell_type": "code",
   "execution_count": 9,
   "metadata": {},
   "outputs": [
    {
     "data": {
      "text/plain": [
       "732"
      ]
     },
     "execution_count": 9,
     "metadata": {},
     "output_type": "execute_result"
    }
   ],
   "source": [
    "# Looking at both of the numeric unnamed columns, it appears to look like a column \n",
    "# that was accidentally recording the row value. If they are we can remove these columns.\n",
    "\n",
    "sm['unnamed_0'].isin(sm['unnamed_0.01']).count()"
   ]
  },
  {
   "cell_type": "code",
   "execution_count": 10,
   "metadata": {},
   "outputs": [
    {
     "data": {
      "text/html": [
       "<div>\n",
       "<style scoped>\n",
       "    .dataframe tbody tr th:only-of-type {\n",
       "        vertical-align: middle;\n",
       "    }\n",
       "\n",
       "    .dataframe tbody tr th {\n",
       "        vertical-align: top;\n",
       "    }\n",
       "\n",
       "    .dataframe thead th {\n",
       "        text-align: right;\n",
       "    }\n",
       "</style>\n",
       "<table border=\"1\" class=\"dataframe\">\n",
       "  <thead>\n",
       "    <tr style=\"text-align: right;\">\n",
       "      <th></th>\n",
       "      <th>text</th>\n",
       "      <th>sentiment</th>\n",
       "      <th>timestamp</th>\n",
       "      <th>user</th>\n",
       "      <th>platform</th>\n",
       "      <th>hashtags</th>\n",
       "      <th>reshared</th>\n",
       "      <th>likes</th>\n",
       "      <th>country</th>\n",
       "      <th>year</th>\n",
       "      <th>month</th>\n",
       "      <th>day</th>\n",
       "      <th>hour</th>\n",
       "    </tr>\n",
       "  </thead>\n",
       "  <tbody>\n",
       "    <tr>\n",
       "      <th>0</th>\n",
       "      <td>Enjoying a beautiful day at the park!        ...</td>\n",
       "      <td>Positive</td>\n",
       "      <td>2023-01-15 12:30:00</td>\n",
       "      <td>User123</td>\n",
       "      <td>Twitter</td>\n",
       "      <td>#Nature #Park</td>\n",
       "      <td>15.0</td>\n",
       "      <td>30.0</td>\n",
       "      <td>USA</td>\n",
       "      <td>2023</td>\n",
       "      <td>1</td>\n",
       "      <td>15</td>\n",
       "      <td>12</td>\n",
       "    </tr>\n",
       "    <tr>\n",
       "      <th>1</th>\n",
       "      <td>Traffic was terrible this morning.           ...</td>\n",
       "      <td>Negative</td>\n",
       "      <td>2023-01-15 08:45:00</td>\n",
       "      <td>CommuterX</td>\n",
       "      <td>Twitter</td>\n",
       "      <td>#Traffic #Morning</td>\n",
       "      <td>5.0</td>\n",
       "      <td>10.0</td>\n",
       "      <td>Canada</td>\n",
       "      <td>2023</td>\n",
       "      <td>1</td>\n",
       "      <td>15</td>\n",
       "      <td>8</td>\n",
       "    </tr>\n",
       "    <tr>\n",
       "      <th>2</th>\n",
       "      <td>Just finished an amazing workout! 💪          ...</td>\n",
       "      <td>Positive</td>\n",
       "      <td>2023-01-15 15:45:00</td>\n",
       "      <td>FitnessFan</td>\n",
       "      <td>Instagram</td>\n",
       "      <td>#Fitness #Workout</td>\n",
       "      <td>20.0</td>\n",
       "      <td>40.0</td>\n",
       "      <td>USA</td>\n",
       "      <td>2023</td>\n",
       "      <td>1</td>\n",
       "      <td>15</td>\n",
       "      <td>15</td>\n",
       "    </tr>\n",
       "    <tr>\n",
       "      <th>3</th>\n",
       "      <td>Excited about the upcoming weekend getaway!  ...</td>\n",
       "      <td>Positive</td>\n",
       "      <td>2023-01-15 18:20:00</td>\n",
       "      <td>AdventureX</td>\n",
       "      <td>Facebook</td>\n",
       "      <td>#Travel #Adventure</td>\n",
       "      <td>8.0</td>\n",
       "      <td>15.0</td>\n",
       "      <td>UK</td>\n",
       "      <td>2023</td>\n",
       "      <td>1</td>\n",
       "      <td>15</td>\n",
       "      <td>18</td>\n",
       "    </tr>\n",
       "    <tr>\n",
       "      <th>4</th>\n",
       "      <td>Trying out a new recipe for dinner tonight.  ...</td>\n",
       "      <td>Neutral</td>\n",
       "      <td>2023-01-15 19:55:00</td>\n",
       "      <td>ChefCook</td>\n",
       "      <td>Instagram</td>\n",
       "      <td>#Cooking #Food</td>\n",
       "      <td>12.0</td>\n",
       "      <td>25.0</td>\n",
       "      <td>Australia</td>\n",
       "      <td>2023</td>\n",
       "      <td>1</td>\n",
       "      <td>15</td>\n",
       "      <td>19</td>\n",
       "    </tr>\n",
       "  </tbody>\n",
       "</table>\n",
       "</div>"
      ],
      "text/plain": [
       "                                                text    sentiment  \\\n",
       "0   Enjoying a beautiful day at the park!        ...   Positive     \n",
       "1   Traffic was terrible this morning.           ...   Negative     \n",
       "2   Just finished an amazing workout! 💪          ...   Positive     \n",
       "3   Excited about the upcoming weekend getaway!  ...   Positive     \n",
       "4   Trying out a new recipe for dinner tonight.  ...   Neutral      \n",
       "\n",
       "             timestamp            user     platform  \\\n",
       "0  2023-01-15 12:30:00   User123          Twitter     \n",
       "1  2023-01-15 08:45:00   CommuterX        Twitter     \n",
       "2  2023-01-15 15:45:00   FitnessFan      Instagram    \n",
       "3  2023-01-15 18:20:00   AdventureX       Facebook    \n",
       "4  2023-01-15 19:55:00   ChefCook        Instagram    \n",
       "\n",
       "                                     hashtags  reshared  likes       country  \\\n",
       "0   #Nature #Park                                  15.0   30.0     USA         \n",
       "1   #Traffic #Morning                               5.0   10.0     Canada      \n",
       "2   #Fitness #Workout                              20.0   40.0   USA           \n",
       "3   #Travel #Adventure                              8.0   15.0     UK          \n",
       "4   #Cooking #Food                                 12.0   25.0    Australia    \n",
       "\n",
       "   year  month  day  hour  \n",
       "0  2023      1   15    12  \n",
       "1  2023      1   15     8  \n",
       "2  2023      1   15    15  \n",
       "3  2023      1   15    18  \n",
       "4  2023      1   15    19  "
      ]
     },
     "execution_count": 10,
     "metadata": {},
     "output_type": "execute_result"
    }
   ],
   "source": [
    "# After uncovering that these two columns are identical to the row value, \n",
    "# they can be removed to optimize data usage\n",
    "\n",
    "sm = sm.drop(columns=['unnamed_0.01', 'unnamed_0'])\n",
    "sm.head()"
   ]
  },
  {
   "cell_type": "code",
   "execution_count": 11,
   "metadata": {},
   "outputs": [
    {
     "data": {
      "text/plain": [
       "0     Enjoying a beautiful day at the park!        ...\n",
       "1     Traffic was terrible this morning.           ...\n",
       "2     Just finished an amazing workout! 💪          ...\n",
       "3     Excited about the upcoming weekend getaway!  ...\n",
       "4     Trying out a new recipe for dinner tonight.  ...\n",
       "Name: text, dtype: object"
      ]
     },
     "execution_count": 11,
     "metadata": {},
     "output_type": "execute_result"
    }
   ],
   "source": [
    "# Checking the text column\n",
    "\n",
    "sm['text'].head()"
   ]
  },
  {
   "cell_type": "code",
   "execution_count": 12,
   "metadata": {},
   "outputs": [
    {
     "data": {
      "text/plain": [
       "0          enjoying_a_beautiful_day_at_the_park!\n",
       "1             traffic_was_terrible_this_morning.\n",
       "2            just_finished_an_amazing_workout!_💪\n",
       "3    excited_about_the_upcoming_weekend_getaway!\n",
       "4    trying_out_a_new_recipe_for_dinner_tonight.\n",
       "Name: text, dtype: object"
      ]
     },
     "execution_count": 12,
     "metadata": {},
     "output_type": "execute_result"
    }
   ],
   "source": [
    "# Lowering the text column to snakecase format and removing spaces from the fron and end of the the text values\n",
    "\n",
    "sm['text'] = sm['text'].str.lower()\n",
    "sm['text'] = sm['text'].apply(lambda x: x.rstrip()).apply(lambda x: x.lstrip())\n",
    "sm['text'] = sm['text'].apply(lambda x: x.replace(' ', '_'))\n",
    "sm['text'].head()"
   ]
  },
  {
   "cell_type": "code",
   "execution_count": 13,
   "metadata": {},
   "outputs": [
    {
     "data": {
      "text/plain": [
       "0     Positive  \n",
       "1     Negative  \n",
       "2     Positive  \n",
       "3     Positive  \n",
       "4     Neutral   \n",
       "Name: sentiment, dtype: object"
      ]
     },
     "execution_count": 13,
     "metadata": {},
     "output_type": "execute_result"
    }
   ],
   "source": [
    "# Checking the sentiment column\n",
    "\n",
    "sm['sentiment'].head()"
   ]
  },
  {
   "cell_type": "code",
   "execution_count": 14,
   "metadata": {},
   "outputs": [
    {
     "data": {
      "text/plain": [
       "0    positive\n",
       "1    negative\n",
       "2    positive\n",
       "3    positive\n",
       "4     neutral\n",
       "Name: sentiment, dtype: category\n",
       "Categories (191, object): ['acceptance', 'accomplishment', 'admiration', 'adoration', ..., 'wonder', 'wonderment', 'yearning', 'zest']"
      ]
     },
     "execution_count": 14,
     "metadata": {},
     "output_type": "execute_result"
    }
   ],
   "source": [
    "# Lowering the elements to snakecase format, removing irregular spaces, and changing the data type to lower data usage\n",
    "\n",
    "sm['sentiment'] = sm['sentiment'].str.lower()\n",
    "sm['sentiment'] = sm['sentiment'].apply(lambda x: x.rstrip()).apply(lambda x: x.lstrip())\n",
    "sm['sentiment'] = sm['sentiment'].apply(lambda x: x.replace(' ', '_'))\n",
    "sm['sentiment'] = sm['sentiment'].astype('category')\n",
    "sm['sentiment'].head()"
   ]
  },
  {
   "cell_type": "code",
   "execution_count": 15,
   "metadata": {},
   "outputs": [],
   "source": [
    "# Looking at the first few values it shows the time stamp column is a string type but\n",
    "# we should convert it to a datetime type to save data usage\n",
    "\n",
    "sm['timestamp'] = pd.to_datetime(sm['timestamp'], format='%Y-%m-%d %H:%M:%S')"
   ]
  },
  {
   "cell_type": "code",
   "execution_count": 16,
   "metadata": {},
   "outputs": [
    {
     "data": {
      "text/plain": [
       "0     User123      \n",
       "1     CommuterX    \n",
       "2     FitnessFan   \n",
       "3     AdventureX   \n",
       "4     ChefCook     \n",
       "Name: user, dtype: object"
      ]
     },
     "execution_count": 16,
     "metadata": {},
     "output_type": "execute_result"
    }
   ],
   "source": [
    "# Checking the user column\n",
    "\n",
    "sm['user'].head()"
   ]
  },
  {
   "cell_type": "code",
   "execution_count": 17,
   "metadata": {},
   "outputs": [
    {
     "data": {
      "text/plain": [
       "0       user123\n",
       "1     commuterx\n",
       "2    fitnessfan\n",
       "3    adventurex\n",
       "4      chefcook\n",
       "Name: user, dtype: object"
      ]
     },
     "execution_count": 17,
     "metadata": {},
     "output_type": "execute_result"
    }
   ],
   "source": [
    "# Lowering the user column to snakecase format and removing spaces that are not needed\n",
    "\n",
    "sm['user'] = sm['user'].str.lower()\n",
    "sm['user'] = sm['user'].apply(lambda x: x.rstrip()).apply(lambda x: x.lstrip())\n",
    "sm['user'].head()"
   ]
  },
  {
   "cell_type": "code",
   "execution_count": 18,
   "metadata": {},
   "outputs": [
    {
     "data": {
      "text/plain": [
       "0      Twitter  \n",
       "1      Twitter  \n",
       "2     Instagram \n",
       "3      Facebook \n",
       "4     Instagram \n",
       "Name: platform, dtype: object"
      ]
     },
     "execution_count": 18,
     "metadata": {},
     "output_type": "execute_result"
    }
   ],
   "source": [
    "# Checking the platform column\n",
    "\n",
    "sm['platform'].head()"
   ]
  },
  {
   "cell_type": "code",
   "execution_count": 19,
   "metadata": {},
   "outputs": [
    {
     "data": {
      "text/plain": [
       "0      twitter\n",
       "1      twitter\n",
       "2    instagram\n",
       "3     facebook\n",
       "4    instagram\n",
       "Name: platform, dtype: category\n",
       "Categories (3, object): ['facebook', 'instagram', 'twitter']"
      ]
     },
     "execution_count": 19,
     "metadata": {},
     "output_type": "execute_result"
    }
   ],
   "source": [
    "# Lowering the platform column to snakecase format and fixing spacing typos\n",
    "\n",
    "sm['platform'] = sm['platform'].str.lower()\n",
    "sm['platform'] = sm['platform'].apply(lambda x: x.strip())\n",
    "sm['platform'] = sm['platform'].astype('category')\n",
    "sm['platform'].head()"
   ]
  },
  {
   "cell_type": "code",
   "execution_count": 20,
   "metadata": {},
   "outputs": [
    {
     "data": {
      "text/plain": [
       "0     #Nature #Park                            \n",
       "1     #Traffic #Morning                        \n",
       "2     #Fitness #Workout                        \n",
       "3     #Travel #Adventure                       \n",
       "4     #Cooking #Food                           \n",
       "Name: hashtags, dtype: object"
      ]
     },
     "execution_count": 20,
     "metadata": {},
     "output_type": "execute_result"
    }
   ],
   "source": [
    "# Checking the hashtags column\n",
    "\n",
    "sm['hashtags'].head()"
   ]
  },
  {
   "cell_type": "code",
   "execution_count": 21,
   "metadata": {},
   "outputs": [
    {
     "data": {
      "text/plain": [
       "0         #nature_#park\n",
       "1     #traffic_#morning\n",
       "2     #fitness_#workout\n",
       "3    #travel_#adventure\n",
       "4        #cooking_#food\n",
       "Name: hashtags, dtype: object"
      ]
     },
     "execution_count": 21,
     "metadata": {},
     "output_type": "execute_result"
    }
   ],
   "source": [
    "# Lowering the hashtags column to snakecase format and removing spaces that are not needed\n",
    "\n",
    "sm['hashtags'] = sm['hashtags'].str.lower()\n",
    "sm['hashtags'] = sm['hashtags'].apply(lambda x: x.rstrip()).apply(lambda x: x.lstrip())\n",
    "sm['hashtags'] = sm['hashtags'].apply(lambda x: x.replace(' ', '_'))\n",
    "sm['hashtags'].head()"
   ]
  },
  {
   "cell_type": "code",
   "execution_count": 22,
   "metadata": {},
   "outputs": [
    {
     "data": {
      "text/plain": [
       "0       USA      \n",
       "1       Canada   \n",
       "2     USA        \n",
       "3       UK       \n",
       "4      Australia \n",
       "Name: country, dtype: object"
      ]
     },
     "execution_count": 22,
     "metadata": {},
     "output_type": "execute_result"
    }
   ],
   "source": [
    "# Checking the country column\n",
    "\n",
    "sm['country'].head()"
   ]
  },
  {
   "cell_type": "code",
   "execution_count": 23,
   "metadata": {},
   "outputs": [
    {
     "data": {
      "text/plain": [
       "0          usa\n",
       "1       canada\n",
       "2          usa\n",
       "3           uk\n",
       "4    australia\n",
       "Name: country, dtype: category\n",
       "Categories (33, object): ['australia', 'austria', 'belgium', 'brazil', ..., 'switzerland', 'thailand', 'uk', 'usa']"
      ]
     },
     "execution_count": 23,
     "metadata": {},
     "output_type": "execute_result"
    }
   ],
   "source": [
    "# Lowering the country column to snakecase format and removing spaces\n",
    "\n",
    "sm['country'] = sm['country'].str.lower()\n",
    "sm['country'] = sm['country'].apply(lambda x: x.rstrip()).apply(lambda x: x.lstrip())\n",
    "sm['country'] = sm['country'].apply(lambda x: x.replace(' ', '_'))\n",
    "sm['country'] = sm['country'].astype('category')\n",
    "sm['country'].head()"
   ]
  },
  {
   "cell_type": "code",
   "execution_count": 24,
   "metadata": {},
   "outputs": [
    {
     "name": "stdout",
     "output_type": "stream",
     "text": [
      "<class 'pandas.core.frame.DataFrame'>\n",
      "RangeIndex: 732 entries, 0 to 731\n",
      "Data columns (total 13 columns):\n",
      " #   Column     Non-Null Count  Dtype         \n",
      "---  ------     --------------  -----         \n",
      " 0   text       732 non-null    object        \n",
      " 1   sentiment  732 non-null    category      \n",
      " 2   timestamp  732 non-null    datetime64[ns]\n",
      " 3   user       732 non-null    object        \n",
      " 4   platform   732 non-null    category      \n",
      " 5   hashtags   732 non-null    object        \n",
      " 6   reshared   732 non-null    float64       \n",
      " 7   likes      732 non-null    float64       \n",
      " 8   country    732 non-null    category      \n",
      " 9   year       732 non-null    int64         \n",
      " 10  month      732 non-null    int64         \n",
      " 11  day        732 non-null    int64         \n",
      " 12  hour       732 non-null    int64         \n",
      "dtypes: category(3), datetime64[ns](1), float64(2), int64(4), object(3)\n",
      "memory usage: 67.2+ KB\n"
     ]
    },
    {
     "data": {
      "text/html": [
       "<div>\n",
       "<style scoped>\n",
       "    .dataframe tbody tr th:only-of-type {\n",
       "        vertical-align: middle;\n",
       "    }\n",
       "\n",
       "    .dataframe tbody tr th {\n",
       "        vertical-align: top;\n",
       "    }\n",
       "\n",
       "    .dataframe thead th {\n",
       "        text-align: right;\n",
       "    }\n",
       "</style>\n",
       "<table border=\"1\" class=\"dataframe\">\n",
       "  <thead>\n",
       "    <tr style=\"text-align: right;\">\n",
       "      <th></th>\n",
       "      <th>text</th>\n",
       "      <th>sentiment</th>\n",
       "      <th>timestamp</th>\n",
       "      <th>user</th>\n",
       "      <th>platform</th>\n",
       "      <th>hashtags</th>\n",
       "      <th>reshared</th>\n",
       "      <th>likes</th>\n",
       "      <th>country</th>\n",
       "      <th>year</th>\n",
       "      <th>month</th>\n",
       "      <th>day</th>\n",
       "      <th>hour</th>\n",
       "    </tr>\n",
       "  </thead>\n",
       "  <tbody>\n",
       "    <tr>\n",
       "      <th>0</th>\n",
       "      <td>enjoying_a_beautiful_day_at_the_park!</td>\n",
       "      <td>positive</td>\n",
       "      <td>2023-01-15 12:30:00</td>\n",
       "      <td>user123</td>\n",
       "      <td>twitter</td>\n",
       "      <td>#nature_#park</td>\n",
       "      <td>15.0</td>\n",
       "      <td>30.0</td>\n",
       "      <td>usa</td>\n",
       "      <td>2023</td>\n",
       "      <td>1</td>\n",
       "      <td>15</td>\n",
       "      <td>12</td>\n",
       "    </tr>\n",
       "    <tr>\n",
       "      <th>1</th>\n",
       "      <td>traffic_was_terrible_this_morning.</td>\n",
       "      <td>negative</td>\n",
       "      <td>2023-01-15 08:45:00</td>\n",
       "      <td>commuterx</td>\n",
       "      <td>twitter</td>\n",
       "      <td>#traffic_#morning</td>\n",
       "      <td>5.0</td>\n",
       "      <td>10.0</td>\n",
       "      <td>canada</td>\n",
       "      <td>2023</td>\n",
       "      <td>1</td>\n",
       "      <td>15</td>\n",
       "      <td>8</td>\n",
       "    </tr>\n",
       "    <tr>\n",
       "      <th>2</th>\n",
       "      <td>just_finished_an_amazing_workout!_💪</td>\n",
       "      <td>positive</td>\n",
       "      <td>2023-01-15 15:45:00</td>\n",
       "      <td>fitnessfan</td>\n",
       "      <td>instagram</td>\n",
       "      <td>#fitness_#workout</td>\n",
       "      <td>20.0</td>\n",
       "      <td>40.0</td>\n",
       "      <td>usa</td>\n",
       "      <td>2023</td>\n",
       "      <td>1</td>\n",
       "      <td>15</td>\n",
       "      <td>15</td>\n",
       "    </tr>\n",
       "    <tr>\n",
       "      <th>3</th>\n",
       "      <td>excited_about_the_upcoming_weekend_getaway!</td>\n",
       "      <td>positive</td>\n",
       "      <td>2023-01-15 18:20:00</td>\n",
       "      <td>adventurex</td>\n",
       "      <td>facebook</td>\n",
       "      <td>#travel_#adventure</td>\n",
       "      <td>8.0</td>\n",
       "      <td>15.0</td>\n",
       "      <td>uk</td>\n",
       "      <td>2023</td>\n",
       "      <td>1</td>\n",
       "      <td>15</td>\n",
       "      <td>18</td>\n",
       "    </tr>\n",
       "    <tr>\n",
       "      <th>4</th>\n",
       "      <td>trying_out_a_new_recipe_for_dinner_tonight.</td>\n",
       "      <td>neutral</td>\n",
       "      <td>2023-01-15 19:55:00</td>\n",
       "      <td>chefcook</td>\n",
       "      <td>instagram</td>\n",
       "      <td>#cooking_#food</td>\n",
       "      <td>12.0</td>\n",
       "      <td>25.0</td>\n",
       "      <td>australia</td>\n",
       "      <td>2023</td>\n",
       "      <td>1</td>\n",
       "      <td>15</td>\n",
       "      <td>19</td>\n",
       "    </tr>\n",
       "  </tbody>\n",
       "</table>\n",
       "</div>"
      ],
      "text/plain": [
       "                                          text sentiment           timestamp  \\\n",
       "0        enjoying_a_beautiful_day_at_the_park!  positive 2023-01-15 12:30:00   \n",
       "1           traffic_was_terrible_this_morning.  negative 2023-01-15 08:45:00   \n",
       "2          just_finished_an_amazing_workout!_💪  positive 2023-01-15 15:45:00   \n",
       "3  excited_about_the_upcoming_weekend_getaway!  positive 2023-01-15 18:20:00   \n",
       "4  trying_out_a_new_recipe_for_dinner_tonight.   neutral 2023-01-15 19:55:00   \n",
       "\n",
       "         user   platform            hashtags  reshared  likes    country  \\\n",
       "0     user123    twitter       #nature_#park      15.0   30.0        usa   \n",
       "1   commuterx    twitter   #traffic_#morning       5.0   10.0     canada   \n",
       "2  fitnessfan  instagram   #fitness_#workout      20.0   40.0        usa   \n",
       "3  adventurex   facebook  #travel_#adventure       8.0   15.0         uk   \n",
       "4    chefcook  instagram      #cooking_#food      12.0   25.0  australia   \n",
       "\n",
       "   year  month  day  hour  \n",
       "0  2023      1   15    12  \n",
       "1  2023      1   15     8  \n",
       "2  2023      1   15    15  \n",
       "3  2023      1   15    18  \n",
       "4  2023      1   15    19  "
      ]
     },
     "execution_count": 24,
     "metadata": {},
     "output_type": "execute_result"
    }
   ],
   "source": [
    "sm.info()\n",
    "sm.head()\n",
    "\n",
    "# Memory usage has decreased from 85.9kb to 67.2kb"
   ]
  },
  {
   "cell_type": "markdown",
   "metadata": {},
   "source": [
    "[Back to Table of Contents](#back)"
   ]
  },
  {
   "cell_type": "markdown",
   "metadata": {},
   "source": [
    "### Data Wrangling"
   ]
  },
  {
   "cell_type": "code",
   "execution_count": 25,
   "metadata": {},
   "outputs": [
    {
     "data": {
      "text/html": [
       "<div>\n",
       "<style scoped>\n",
       "    .dataframe tbody tr th:only-of-type {\n",
       "        vertical-align: middle;\n",
       "    }\n",
       "\n",
       "    .dataframe tbody tr th {\n",
       "        vertical-align: top;\n",
       "    }\n",
       "\n",
       "    .dataframe thead th {\n",
       "        text-align: right;\n",
       "    }\n",
       "</style>\n",
       "<table border=\"1\" class=\"dataframe\">\n",
       "  <thead>\n",
       "    <tr style=\"text-align: right;\">\n",
       "      <th></th>\n",
       "      <th>text</th>\n",
       "      <th>sentiment</th>\n",
       "      <th>timestamp</th>\n",
       "      <th>user</th>\n",
       "      <th>platform</th>\n",
       "      <th>hashtags</th>\n",
       "      <th>reshared</th>\n",
       "      <th>likes</th>\n",
       "      <th>country</th>\n",
       "      <th>year</th>\n",
       "      <th>month</th>\n",
       "      <th>day</th>\n",
       "      <th>hour</th>\n",
       "    </tr>\n",
       "  </thead>\n",
       "  <tbody>\n",
       "    <tr>\n",
       "      <th>0</th>\n",
       "      <td>enjoying_a_beautiful_day_at_the_park!</td>\n",
       "      <td>positive</td>\n",
       "      <td>2023-01-15 12:30:00</td>\n",
       "      <td>user123</td>\n",
       "      <td>twitter</td>\n",
       "      <td>#nature_#park</td>\n",
       "      <td>15.0</td>\n",
       "      <td>30.0</td>\n",
       "      <td>usa</td>\n",
       "      <td>2023</td>\n",
       "      <td>1</td>\n",
       "      <td>15</td>\n",
       "      <td>12</td>\n",
       "    </tr>\n",
       "    <tr>\n",
       "      <th>1</th>\n",
       "      <td>traffic_was_terrible_this_morning.</td>\n",
       "      <td>negative</td>\n",
       "      <td>2023-01-15 08:45:00</td>\n",
       "      <td>commuterx</td>\n",
       "      <td>twitter</td>\n",
       "      <td>#traffic_#morning</td>\n",
       "      <td>5.0</td>\n",
       "      <td>10.0</td>\n",
       "      <td>canada</td>\n",
       "      <td>2023</td>\n",
       "      <td>1</td>\n",
       "      <td>15</td>\n",
       "      <td>8</td>\n",
       "    </tr>\n",
       "    <tr>\n",
       "      <th>2</th>\n",
       "      <td>just_finished_an_amazing_workout!_💪</td>\n",
       "      <td>positive</td>\n",
       "      <td>2023-01-15 15:45:00</td>\n",
       "      <td>fitnessfan</td>\n",
       "      <td>instagram</td>\n",
       "      <td>#fitness_#workout</td>\n",
       "      <td>20.0</td>\n",
       "      <td>40.0</td>\n",
       "      <td>usa</td>\n",
       "      <td>2023</td>\n",
       "      <td>1</td>\n",
       "      <td>15</td>\n",
       "      <td>15</td>\n",
       "    </tr>\n",
       "    <tr>\n",
       "      <th>3</th>\n",
       "      <td>excited_about_the_upcoming_weekend_getaway!</td>\n",
       "      <td>positive</td>\n",
       "      <td>2023-01-15 18:20:00</td>\n",
       "      <td>adventurex</td>\n",
       "      <td>facebook</td>\n",
       "      <td>#travel_#adventure</td>\n",
       "      <td>8.0</td>\n",
       "      <td>15.0</td>\n",
       "      <td>uk</td>\n",
       "      <td>2023</td>\n",
       "      <td>1</td>\n",
       "      <td>15</td>\n",
       "      <td>18</td>\n",
       "    </tr>\n",
       "    <tr>\n",
       "      <th>4</th>\n",
       "      <td>trying_out_a_new_recipe_for_dinner_tonight.</td>\n",
       "      <td>neutral</td>\n",
       "      <td>2023-01-15 19:55:00</td>\n",
       "      <td>chefcook</td>\n",
       "      <td>instagram</td>\n",
       "      <td>#cooking_#food</td>\n",
       "      <td>12.0</td>\n",
       "      <td>25.0</td>\n",
       "      <td>australia</td>\n",
       "      <td>2023</td>\n",
       "      <td>1</td>\n",
       "      <td>15</td>\n",
       "      <td>19</td>\n",
       "    </tr>\n",
       "    <tr>\n",
       "      <th>5</th>\n",
       "      <td>feeling_grateful_for_the_little_things_in_life.</td>\n",
       "      <td>positive</td>\n",
       "      <td>2023-01-16 09:10:00</td>\n",
       "      <td>gratitudenow</td>\n",
       "      <td>twitter</td>\n",
       "      <td>#gratitude_#positivevibes</td>\n",
       "      <td>25.0</td>\n",
       "      <td>50.0</td>\n",
       "      <td>india</td>\n",
       "      <td>2023</td>\n",
       "      <td>1</td>\n",
       "      <td>16</td>\n",
       "      <td>9</td>\n",
       "    </tr>\n",
       "    <tr>\n",
       "      <th>6</th>\n",
       "      <td>rainy_days_call_for_cozy_blankets_and_hot_cocoa.</td>\n",
       "      <td>positive</td>\n",
       "      <td>2023-01-16 14:45:00</td>\n",
       "      <td>rainydays</td>\n",
       "      <td>facebook</td>\n",
       "      <td>#rainydays_#cozy</td>\n",
       "      <td>10.0</td>\n",
       "      <td>20.0</td>\n",
       "      <td>canada</td>\n",
       "      <td>2023</td>\n",
       "      <td>1</td>\n",
       "      <td>16</td>\n",
       "      <td>14</td>\n",
       "    </tr>\n",
       "    <tr>\n",
       "      <th>7</th>\n",
       "      <td>the_new_movie_release_is_a_must-watch!</td>\n",
       "      <td>positive</td>\n",
       "      <td>2023-01-16 19:30:00</td>\n",
       "      <td>moviebuff</td>\n",
       "      <td>instagram</td>\n",
       "      <td>#movienight_#mustwatch</td>\n",
       "      <td>15.0</td>\n",
       "      <td>30.0</td>\n",
       "      <td>usa</td>\n",
       "      <td>2023</td>\n",
       "      <td>1</td>\n",
       "      <td>16</td>\n",
       "      <td>19</td>\n",
       "    </tr>\n",
       "    <tr>\n",
       "      <th>8</th>\n",
       "      <td>political_discussions_heating_up_on_the_timeline.</td>\n",
       "      <td>negative</td>\n",
       "      <td>2023-01-17 08:00:00</td>\n",
       "      <td>debatetalk</td>\n",
       "      <td>twitter</td>\n",
       "      <td>#politics_#debate</td>\n",
       "      <td>30.0</td>\n",
       "      <td>60.0</td>\n",
       "      <td>usa</td>\n",
       "      <td>2023</td>\n",
       "      <td>1</td>\n",
       "      <td>17</td>\n",
       "      <td>8</td>\n",
       "    </tr>\n",
       "    <tr>\n",
       "      <th>9</th>\n",
       "      <td>missing_summer_vibes_and_beach_days.</td>\n",
       "      <td>neutral</td>\n",
       "      <td>2023-01-17 12:20:00</td>\n",
       "      <td>beachlover</td>\n",
       "      <td>facebook</td>\n",
       "      <td>#summer_#beachdays</td>\n",
       "      <td>18.0</td>\n",
       "      <td>35.0</td>\n",
       "      <td>australia</td>\n",
       "      <td>2023</td>\n",
       "      <td>1</td>\n",
       "      <td>17</td>\n",
       "      <td>12</td>\n",
       "    </tr>\n",
       "  </tbody>\n",
       "</table>\n",
       "</div>"
      ],
      "text/plain": [
       "                                                text sentiment  \\\n",
       "0              enjoying_a_beautiful_day_at_the_park!  positive   \n",
       "1                 traffic_was_terrible_this_morning.  negative   \n",
       "2                just_finished_an_amazing_workout!_💪  positive   \n",
       "3        excited_about_the_upcoming_weekend_getaway!  positive   \n",
       "4        trying_out_a_new_recipe_for_dinner_tonight.   neutral   \n",
       "5    feeling_grateful_for_the_little_things_in_life.  positive   \n",
       "6   rainy_days_call_for_cozy_blankets_and_hot_cocoa.  positive   \n",
       "7             the_new_movie_release_is_a_must-watch!  positive   \n",
       "8  political_discussions_heating_up_on_the_timeline.  negative   \n",
       "9               missing_summer_vibes_and_beach_days.   neutral   \n",
       "\n",
       "            timestamp          user   platform                   hashtags  \\\n",
       "0 2023-01-15 12:30:00       user123    twitter              #nature_#park   \n",
       "1 2023-01-15 08:45:00     commuterx    twitter          #traffic_#morning   \n",
       "2 2023-01-15 15:45:00    fitnessfan  instagram          #fitness_#workout   \n",
       "3 2023-01-15 18:20:00    adventurex   facebook         #travel_#adventure   \n",
       "4 2023-01-15 19:55:00      chefcook  instagram             #cooking_#food   \n",
       "5 2023-01-16 09:10:00  gratitudenow    twitter  #gratitude_#positivevibes   \n",
       "6 2023-01-16 14:45:00     rainydays   facebook           #rainydays_#cozy   \n",
       "7 2023-01-16 19:30:00     moviebuff  instagram     #movienight_#mustwatch   \n",
       "8 2023-01-17 08:00:00    debatetalk    twitter          #politics_#debate   \n",
       "9 2023-01-17 12:20:00    beachlover   facebook         #summer_#beachdays   \n",
       "\n",
       "   reshared  likes    country  year  month  day  hour  \n",
       "0      15.0   30.0        usa  2023      1   15    12  \n",
       "1       5.0   10.0     canada  2023      1   15     8  \n",
       "2      20.0   40.0        usa  2023      1   15    15  \n",
       "3       8.0   15.0         uk  2023      1   15    18  \n",
       "4      12.0   25.0  australia  2023      1   15    19  \n",
       "5      25.0   50.0      india  2023      1   16     9  \n",
       "6      10.0   20.0     canada  2023      1   16    14  \n",
       "7      15.0   30.0        usa  2023      1   16    19  \n",
       "8      30.0   60.0        usa  2023      1   17     8  \n",
       "9      18.0   35.0  australia  2023      1   17    12  "
      ]
     },
     "execution_count": 25,
     "metadata": {},
     "output_type": "execute_result"
    }
   ],
   "source": [
    "# Looking at the hashtags column, it would be more convenient to split the hashtags so that each cell only has one unique hashtag to make filtering easier in the future\n",
    "\n",
    "sm.head(10)"
   ]
  },
  {
   "cell_type": "code",
   "execution_count": 26,
   "metadata": {},
   "outputs": [
    {
     "data": {
      "text/html": [
       "<div>\n",
       "<style scoped>\n",
       "    .dataframe tbody tr th:only-of-type {\n",
       "        vertical-align: middle;\n",
       "    }\n",
       "\n",
       "    .dataframe tbody tr th {\n",
       "        vertical-align: top;\n",
       "    }\n",
       "\n",
       "    .dataframe thead th {\n",
       "        text-align: right;\n",
       "    }\n",
       "</style>\n",
       "<table border=\"1\" class=\"dataframe\">\n",
       "  <thead>\n",
       "    <tr style=\"text-align: right;\">\n",
       "      <th></th>\n",
       "      <th>text</th>\n",
       "      <th>sentiment</th>\n",
       "      <th>timestamp</th>\n",
       "      <th>user</th>\n",
       "      <th>platform</th>\n",
       "      <th>reshared</th>\n",
       "      <th>likes</th>\n",
       "      <th>country</th>\n",
       "      <th>year</th>\n",
       "      <th>month</th>\n",
       "      <th>day</th>\n",
       "      <th>hour</th>\n",
       "      <th>first_hashtag</th>\n",
       "      <th>second_hashtag</th>\n",
       "    </tr>\n",
       "  </thead>\n",
       "  <tbody>\n",
       "    <tr>\n",
       "      <th>0</th>\n",
       "      <td>enjoying_a_beautiful_day_at_the_park!</td>\n",
       "      <td>positive</td>\n",
       "      <td>2023-01-15 12:30:00</td>\n",
       "      <td>user123</td>\n",
       "      <td>twitter</td>\n",
       "      <td>15.0</td>\n",
       "      <td>30.0</td>\n",
       "      <td>usa</td>\n",
       "      <td>2023</td>\n",
       "      <td>1</td>\n",
       "      <td>15</td>\n",
       "      <td>12</td>\n",
       "      <td>nature</td>\n",
       "      <td>park</td>\n",
       "    </tr>\n",
       "    <tr>\n",
       "      <th>1</th>\n",
       "      <td>traffic_was_terrible_this_morning.</td>\n",
       "      <td>negative</td>\n",
       "      <td>2023-01-15 08:45:00</td>\n",
       "      <td>commuterx</td>\n",
       "      <td>twitter</td>\n",
       "      <td>5.0</td>\n",
       "      <td>10.0</td>\n",
       "      <td>canada</td>\n",
       "      <td>2023</td>\n",
       "      <td>1</td>\n",
       "      <td>15</td>\n",
       "      <td>8</td>\n",
       "      <td>traffic</td>\n",
       "      <td>morning</td>\n",
       "    </tr>\n",
       "    <tr>\n",
       "      <th>2</th>\n",
       "      <td>just_finished_an_amazing_workout!_💪</td>\n",
       "      <td>positive</td>\n",
       "      <td>2023-01-15 15:45:00</td>\n",
       "      <td>fitnessfan</td>\n",
       "      <td>instagram</td>\n",
       "      <td>20.0</td>\n",
       "      <td>40.0</td>\n",
       "      <td>usa</td>\n",
       "      <td>2023</td>\n",
       "      <td>1</td>\n",
       "      <td>15</td>\n",
       "      <td>15</td>\n",
       "      <td>fitness</td>\n",
       "      <td>workout</td>\n",
       "    </tr>\n",
       "    <tr>\n",
       "      <th>3</th>\n",
       "      <td>excited_about_the_upcoming_weekend_getaway!</td>\n",
       "      <td>positive</td>\n",
       "      <td>2023-01-15 18:20:00</td>\n",
       "      <td>adventurex</td>\n",
       "      <td>facebook</td>\n",
       "      <td>8.0</td>\n",
       "      <td>15.0</td>\n",
       "      <td>uk</td>\n",
       "      <td>2023</td>\n",
       "      <td>1</td>\n",
       "      <td>15</td>\n",
       "      <td>18</td>\n",
       "      <td>travel</td>\n",
       "      <td>adventure</td>\n",
       "    </tr>\n",
       "    <tr>\n",
       "      <th>4</th>\n",
       "      <td>trying_out_a_new_recipe_for_dinner_tonight.</td>\n",
       "      <td>neutral</td>\n",
       "      <td>2023-01-15 19:55:00</td>\n",
       "      <td>chefcook</td>\n",
       "      <td>instagram</td>\n",
       "      <td>12.0</td>\n",
       "      <td>25.0</td>\n",
       "      <td>australia</td>\n",
       "      <td>2023</td>\n",
       "      <td>1</td>\n",
       "      <td>15</td>\n",
       "      <td>19</td>\n",
       "      <td>cooking</td>\n",
       "      <td>food</td>\n",
       "    </tr>\n",
       "  </tbody>\n",
       "</table>\n",
       "</div>"
      ],
      "text/plain": [
       "                                          text sentiment           timestamp  \\\n",
       "0        enjoying_a_beautiful_day_at_the_park!  positive 2023-01-15 12:30:00   \n",
       "1           traffic_was_terrible_this_morning.  negative 2023-01-15 08:45:00   \n",
       "2          just_finished_an_amazing_workout!_💪  positive 2023-01-15 15:45:00   \n",
       "3  excited_about_the_upcoming_weekend_getaway!  positive 2023-01-15 18:20:00   \n",
       "4  trying_out_a_new_recipe_for_dinner_tonight.   neutral 2023-01-15 19:55:00   \n",
       "\n",
       "         user   platform  reshared  likes    country  year  month  day  hour  \\\n",
       "0     user123    twitter      15.0   30.0        usa  2023      1   15    12   \n",
       "1   commuterx    twitter       5.0   10.0     canada  2023      1   15     8   \n",
       "2  fitnessfan  instagram      20.0   40.0        usa  2023      1   15    15   \n",
       "3  adventurex   facebook       8.0   15.0         uk  2023      1   15    18   \n",
       "4    chefcook  instagram      12.0   25.0  australia  2023      1   15    19   \n",
       "\n",
       "  first_hashtag second_hashtag  \n",
       "0        nature           park  \n",
       "1       traffic        morning  \n",
       "2       fitness        workout  \n",
       "3        travel      adventure  \n",
       "4       cooking           food  "
      ]
     },
     "execution_count": 26,
     "metadata": {},
     "output_type": "execute_result"
    }
   ],
   "source": [
    "# Splitting the hashtags into two columns\n",
    "\n",
    "new_hashtag = sm['hashtags'].str.split('_', n=1, expand=True)\n",
    "\n",
    "# Creating new columns for the newly split hashtags\n",
    "\n",
    "sm['first_hashtag'] = new_hashtag[0]\n",
    "sm['second_hashtag'] = new_hashtag[1]\n",
    "\n",
    "# Removing the old hashtags column\n",
    "\n",
    "sm.drop(columns=['hashtags'], inplace=True)\n",
    "\n",
    "# Removing the '#' symbol\n",
    "\n",
    "sm['first_hashtag'] = sm['first_hashtag'].apply(lambda x: x.replace('#', ''))\n",
    "sm['second_hashtag'] = sm['second_hashtag'].apply(lambda x: x.replace('#', ''))\n",
    "\n",
    "sm.head()"
   ]
  },
  {
   "cell_type": "code",
   "execution_count": 27,
   "metadata": {},
   "outputs": [
    {
     "data": {
      "text/plain": [
       "sentiment\n",
       "positive        45\n",
       "joy             44\n",
       "excitement      37\n",
       "contentment     19\n",
       "gratitude       18\n",
       "                ..\n",
       "energy           1\n",
       "engagement       1\n",
       "heartache        1\n",
       "breakthrough     1\n",
       "playfuljoy       1\n",
       "Name: count, Length: 191, dtype: int64"
      ]
     },
     "execution_count": 27,
     "metadata": {},
     "output_type": "execute_result"
    }
   ],
   "source": [
    "# Looking at the sentiment column there are a lot of unique values that tell a similar story. \n",
    "\n",
    "# pd.set_option('display.max_rows', None)\n",
    "sm['sentiment'].value_counts()"
   ]
  },
  {
   "cell_type": "code",
   "execution_count": 28,
   "metadata": {},
   "outputs": [
    {
     "data": {
      "text/plain": [
       "sentiment\n",
       "positive    466\n",
       "negative    194\n",
       "neutral      72\n",
       "Name: count, dtype: int64"
      ]
     },
     "execution_count": 28,
     "metadata": {},
     "output_type": "execute_result"
    }
   ],
   "source": [
    "# For this analysis, we are going to reduce the number of values in the sentiment column to positive, neutral, \n",
    "# and negative to make it easier to read and filter since many of these values are expressing a form of both feelings.\n",
    "\n",
    "sm['sentiment'] = sm['sentiment'].replace(['joy',\n",
    "                                           'excitement',\n",
    "                                           'contentment',\n",
    "                                           'gratitude',\n",
    "                                           'curiosity',\n",
    "                                           'serenity',\n",
    "                                           'happy',\n",
    "                                           'nostalgia',\n",
    "                                           'awe',\n",
    "                                           'hopeful',\n",
    "                                           'euphoria',\n",
    "                                           'enthusiasm',\n",
    "                                           'pride',\n",
    "                                           'elation',\n",
    "                                           'determination',\n",
    "                                           'inspiration',\n",
    "                                           'playful',\n",
    "                                           'surprise',\n",
    "                                           'happiness',\n",
    "                                           'inspired',\n",
    "                                           'hope',\n",
    "                                           'empowerment',\n",
    "                                           'admiration',\n",
    "                                           'compassionate',\n",
    "                                           'compassion',\n",
    "                                           'proud',\n",
    "                                           'calmness',\n",
    "                                           'reverence',\n",
    "                                           'fulfillment',\n",
    "                                           'tenderness',\n",
    "                                           'arousal',\n",
    "                                           'enchantment',\n",
    "                                           'grateful',\n",
    "                                           'thrill',\n",
    "                                           'confident',\n",
    "                                           'kind',\n",
    "                                           'creativity',\n",
    "                                           'accomplishment',\n",
    "                                           'harmony',\n",
    "                                           'free-spirited',\n",
    "                                           'empathetic',\n",
    "                                           'satisfaction',\n",
    "                                           'amusement',\n",
    "                                           'adventure',\n",
    "                                           'love',\n",
    "                                           'enjoyment',\n",
    "                                           'exploration',\n",
    "                                           'adoration',\n",
    "                                           'zest',\n",
    "                                           'affection',\n",
    "                                           'radiance',\n",
    "                                           'rejuvenation',\n",
    "                                           'resilience',\n",
    "                                           'coziness',\n",
    "                                           'whimsy',\n",
    "                                           'captivation',\n",
    "                                           'tranquility',\n",
    "                                           'positivity',\n",
    "                                           'playfuljoy',\n",
    "                                           'overjoyed',\n",
    "                                           'optimism',\n",
    "                                           'ocean\\'s_freedom',\n",
    "                                           'nature\\'s_beauty',\n",
    "                                           'relief',\n",
    "                                           'motivation',\n",
    "                                           'amazement',\n",
    "                                           'mindfulness',\n",
    "                                           'mesmerizing',\n",
    "                                           'melodic',\n",
    "                                           'marvel',\n",
    "                                           'kindness',\n",
    "                                           'joyfulreunion',\n",
    "                                           'joy_in_baking',\n",
    "                                           'intrigue',\n",
    "                                           'appreciation',\n",
    "                                           'grandeur',\n",
    "                                           'artisticburst',\n",
    "                                           'iconic',\n",
    "                                           'imagination',\n",
    "                                           'renewed_effort',\n",
    "                                           'runway_creativity',\n",
    "                                           'freedom',\n",
    "                                           'friendship',\n",
    "                                           'heartwarming',\n",
    "                                           'success',\n",
    "                                           'blessed',\n",
    "                                           'engagement',\n",
    "                                           'festivejoy',\n",
    "                                           'thrilling_journey',\n",
    "                                           'touched',\n",
    "                                           'triumph',\n",
    "                                           'vibrancy',\n",
    "                                           'winter_magic',\n",
    "                                           'breakthrough',\n",
    "                                           'celebration ',\n",
    "                                           'energy',\n",
    "                                           'elegance',\n",
    "                                           'ecstasy',\n",
    "                                           'dreamchaser',\n",
    "                                           'dazzle',\n",
    "                                           'culinaryodyssey',\n",
    "                                           'culinary_adventure',\n",
    "                                           'creative_inspiration',\n",
    "                                           'confidence',\n",
    "                                           'colorful',\n",
    "                                           'charm',\n",
    "                                           'celebration',\n",
    "                                           'celestial_wonder',\n",
    "                                           'wonderment'\n",
    "                                           ], 'positive')\n",
    "\n",
    "sm['sentiment'] = sm['sentiment'].replace(['acceptance',\n",
    "                                           'indifference',\n",
    "                                           'ambivalence',\n",
    "                                           'reflection',\n",
    "                                           'anticipation',\n",
    "                                           'wonder',\n",
    "                                           'emotion',\n",
    "                                           'contemplation',\n",
    "                                           'intimidation',\n",
    "                                           'adrenaline',\n",
    "                                           'journey',\n",
    "                                           'innerjourney',\n",
    "                                           'hypnotic',\n",
    "                                           'immersion',\n",
    "                                           'romance',\n",
    "                                           'bittersweet',\n",
    "                                           'solitude',\n",
    "                                           'spark',\n",
    "                                           'suspense',\n",
    "                                           'envisioning_history',\n",
    "                                           'sympathy',\n",
    "                                           'emotionalstorm',\n",
    "                                           'whispers_of_the_past',\n",
    "                                           'darkness',\n",
    "                                           'connection',\n",
    "                                           'challenge',\n",
    "                                           'obstacle',\n",
    "                                           ], 'neutral')\n",
    "\n",
    "sm['sentiment'] = sm['sentiment'].replace(['despair',\n",
    "                                           'sad',\n",
    "                                           'grief',\n",
    "                                           'loneliness',\n",
    "                                           'embarrassed',\n",
    "                                           'confusion',\n",
    "                                           'melancholy',\n",
    "                                           'numbness',\n",
    "                                           'frustration',\n",
    "                                           'regret',\n",
    "                                           'hate',\n",
    "                                           'bad',\n",
    "                                           'disgust',\n",
    "                                           'betrayal',\n",
    "                                           'bitterness',\n",
    "                                           'frustrated',\n",
    "                                           'desolation',\n",
    "                                           'boredom',\n",
    "                                           'overwhelmed',\n",
    "                                           'jealousy',\n",
    "                                           'jealous',\n",
    "                                           'heartbreak',\n",
    "                                           'dismissive',\n",
    "                                           'fearful',\n",
    "                                           'envious',\n",
    "                                           'resentment',\n",
    "                                           'bitter',\n",
    "                                           'shame',\n",
    "                                           'devastated',\n",
    "                                           'envy',\n",
    "                                           'loss',\n",
    "                                           'fear',\n",
    "                                           'helplessness',\n",
    "                                           'isolation',\n",
    "                                           'mischievous',\n",
    "                                           'disappointed',\n",
    "                                           'sadness',\n",
    "                                           'sorrow',\n",
    "                                           'disappointment',\n",
    "                                           'anxiety',\n",
    "                                           'apprehensive',\n",
    "                                           'yearning',\n",
    "                                           'anger',\n",
    "                                           'pensive',\n",
    "                                           'miscalculation',\n",
    "                                           'lostlove',\n",
    "                                           'pressure',\n",
    "                                           'solace',\n",
    "                                           'ruins',\n",
    "                                           'exhaustion',\n",
    "                                           'heartache',\n",
    "                                           'suffering',\n",
    "                                           'desperation'\n",
    "                                           ], 'negative')\n",
    "\n",
    "sm['sentiment'].value_counts()"
   ]
  },
  {
   "cell_type": "code",
   "execution_count": 29,
   "metadata": {},
   "outputs": [],
   "source": [
    "# To make the text column more usable we can change the column into a count of the number of\n",
    "# characters in each text. Since we have the sentiment column, we can get an idea of what type \n",
    "# of emotion was expressed in the text and the character length will show the intensity of that feeling\n",
    "\n",
    "sm['text_len'] = sm['text'].str.len()\n",
    "\n",
    "sm.drop(columns=['text'], inplace=True)"
   ]
  },
  {
   "cell_type": "code",
   "execution_count": 30,
   "metadata": {},
   "outputs": [
    {
     "data": {
      "text/html": [
       "<div>\n",
       "<style scoped>\n",
       "    .dataframe tbody tr th:only-of-type {\n",
       "        vertical-align: middle;\n",
       "    }\n",
       "\n",
       "    .dataframe tbody tr th {\n",
       "        vertical-align: top;\n",
       "    }\n",
       "\n",
       "    .dataframe thead th {\n",
       "        text-align: right;\n",
       "    }\n",
       "</style>\n",
       "<table border=\"1\" class=\"dataframe\">\n",
       "  <thead>\n",
       "    <tr style=\"text-align: right;\">\n",
       "      <th></th>\n",
       "      <th>sentiment</th>\n",
       "      <th>timestamp</th>\n",
       "      <th>user</th>\n",
       "      <th>platform</th>\n",
       "      <th>reshared</th>\n",
       "      <th>likes</th>\n",
       "      <th>country</th>\n",
       "      <th>year</th>\n",
       "      <th>month</th>\n",
       "      <th>day</th>\n",
       "      <th>hour</th>\n",
       "      <th>first_hashtag</th>\n",
       "      <th>second_hashtag</th>\n",
       "      <th>text_len</th>\n",
       "    </tr>\n",
       "  </thead>\n",
       "  <tbody>\n",
       "    <tr>\n",
       "      <th>0</th>\n",
       "      <td>positive</td>\n",
       "      <td>2023-01-15 12:30:00</td>\n",
       "      <td>user123</td>\n",
       "      <td>twitter</td>\n",
       "      <td>15.0</td>\n",
       "      <td>30.0</td>\n",
       "      <td>usa</td>\n",
       "      <td>2023</td>\n",
       "      <td>1</td>\n",
       "      <td>15</td>\n",
       "      <td>12</td>\n",
       "      <td>nature</td>\n",
       "      <td>park</td>\n",
       "      <td>37</td>\n",
       "    </tr>\n",
       "    <tr>\n",
       "      <th>1</th>\n",
       "      <td>negative</td>\n",
       "      <td>2023-01-15 08:45:00</td>\n",
       "      <td>commuterx</td>\n",
       "      <td>twitter</td>\n",
       "      <td>5.0</td>\n",
       "      <td>10.0</td>\n",
       "      <td>canada</td>\n",
       "      <td>2023</td>\n",
       "      <td>1</td>\n",
       "      <td>15</td>\n",
       "      <td>8</td>\n",
       "      <td>traffic</td>\n",
       "      <td>morning</td>\n",
       "      <td>34</td>\n",
       "    </tr>\n",
       "    <tr>\n",
       "      <th>2</th>\n",
       "      <td>positive</td>\n",
       "      <td>2023-01-15 15:45:00</td>\n",
       "      <td>fitnessfan</td>\n",
       "      <td>instagram</td>\n",
       "      <td>20.0</td>\n",
       "      <td>40.0</td>\n",
       "      <td>usa</td>\n",
       "      <td>2023</td>\n",
       "      <td>1</td>\n",
       "      <td>15</td>\n",
       "      <td>15</td>\n",
       "      <td>fitness</td>\n",
       "      <td>workout</td>\n",
       "      <td>35</td>\n",
       "    </tr>\n",
       "    <tr>\n",
       "      <th>3</th>\n",
       "      <td>positive</td>\n",
       "      <td>2023-01-15 18:20:00</td>\n",
       "      <td>adventurex</td>\n",
       "      <td>facebook</td>\n",
       "      <td>8.0</td>\n",
       "      <td>15.0</td>\n",
       "      <td>uk</td>\n",
       "      <td>2023</td>\n",
       "      <td>1</td>\n",
       "      <td>15</td>\n",
       "      <td>18</td>\n",
       "      <td>travel</td>\n",
       "      <td>adventure</td>\n",
       "      <td>43</td>\n",
       "    </tr>\n",
       "    <tr>\n",
       "      <th>4</th>\n",
       "      <td>neutral</td>\n",
       "      <td>2023-01-15 19:55:00</td>\n",
       "      <td>chefcook</td>\n",
       "      <td>instagram</td>\n",
       "      <td>12.0</td>\n",
       "      <td>25.0</td>\n",
       "      <td>australia</td>\n",
       "      <td>2023</td>\n",
       "      <td>1</td>\n",
       "      <td>15</td>\n",
       "      <td>19</td>\n",
       "      <td>cooking</td>\n",
       "      <td>food</td>\n",
       "      <td>43</td>\n",
       "    </tr>\n",
       "  </tbody>\n",
       "</table>\n",
       "</div>"
      ],
      "text/plain": [
       "  sentiment           timestamp        user   platform  reshared  likes  \\\n",
       "0  positive 2023-01-15 12:30:00     user123    twitter      15.0   30.0   \n",
       "1  negative 2023-01-15 08:45:00   commuterx    twitter       5.0   10.0   \n",
       "2  positive 2023-01-15 15:45:00  fitnessfan  instagram      20.0   40.0   \n",
       "3  positive 2023-01-15 18:20:00  adventurex   facebook       8.0   15.0   \n",
       "4   neutral 2023-01-15 19:55:00    chefcook  instagram      12.0   25.0   \n",
       "\n",
       "     country  year  month  day  hour first_hashtag second_hashtag  text_len  \n",
       "0        usa  2023      1   15    12        nature           park        37  \n",
       "1     canada  2023      1   15     8       traffic        morning        34  \n",
       "2        usa  2023      1   15    15       fitness        workout        35  \n",
       "3         uk  2023      1   15    18        travel      adventure        43  \n",
       "4  australia  2023      1   15    19       cooking           food        43  "
      ]
     },
     "execution_count": 30,
     "metadata": {},
     "output_type": "execute_result"
    }
   ],
   "source": [
    "sm.head()"
   ]
  },
  {
   "cell_type": "markdown",
   "metadata": {},
   "source": [
    "[Back to Table of Contents](#back)"
   ]
  },
  {
   "cell_type": "markdown",
   "metadata": {},
   "source": [
    "## Data Analysis"
   ]
  },
  {
   "cell_type": "code",
   "execution_count": 31,
   "metadata": {},
   "outputs": [
    {
     "name": "stdout",
     "output_type": "stream",
     "text": [
      "<class 'pandas.core.frame.DataFrame'>\n",
      "RangeIndex: 732 entries, 0 to 731\n",
      "Data columns (total 14 columns):\n",
      " #   Column          Non-Null Count  Dtype         \n",
      "---  ------          --------------  -----         \n",
      " 0   sentiment       732 non-null    category      \n",
      " 1   timestamp       732 non-null    datetime64[ns]\n",
      " 2   user            732 non-null    object        \n",
      " 3   platform        732 non-null    category      \n",
      " 4   reshared        732 non-null    float64       \n",
      " 5   likes           732 non-null    float64       \n",
      " 6   country         732 non-null    category      \n",
      " 7   year            732 non-null    int64         \n",
      " 8   month           732 non-null    int64         \n",
      " 9   day             732 non-null    int64         \n",
      " 10  hour            732 non-null    int64         \n",
      " 11  first_hashtag   732 non-null    object        \n",
      " 12  second_hashtag  732 non-null    object        \n",
      " 13  text_len        732 non-null    int64         \n",
      "dtypes: category(3), datetime64[ns](1), float64(2), int64(5), object(3)\n",
      "memory usage: 66.7+ KB\n"
     ]
    }
   ],
   "source": [
    "sm.info()"
   ]
  },
  {
   "cell_type": "code",
   "execution_count": 32,
   "metadata": {},
   "outputs": [
    {
     "data": {
      "text/html": [
       "<div>\n",
       "<style scoped>\n",
       "    .dataframe tbody tr th:only-of-type {\n",
       "        vertical-align: middle;\n",
       "    }\n",
       "\n",
       "    .dataframe tbody tr th {\n",
       "        vertical-align: top;\n",
       "    }\n",
       "\n",
       "    .dataframe thead th {\n",
       "        text-align: right;\n",
       "    }\n",
       "</style>\n",
       "<table border=\"1\" class=\"dataframe\">\n",
       "  <thead>\n",
       "    <tr style=\"text-align: right;\">\n",
       "      <th></th>\n",
       "      <th>user</th>\n",
       "    </tr>\n",
       "    <tr>\n",
       "      <th>country</th>\n",
       "      <th></th>\n",
       "    </tr>\n",
       "  </thead>\n",
       "  <tbody>\n",
       "    <tr>\n",
       "      <th>usa</th>\n",
       "      <td>188</td>\n",
       "    </tr>\n",
       "    <tr>\n",
       "      <th>uk</th>\n",
       "      <td>143</td>\n",
       "    </tr>\n",
       "    <tr>\n",
       "      <th>canada</th>\n",
       "      <td>135</td>\n",
       "    </tr>\n",
       "    <tr>\n",
       "      <th>australia</th>\n",
       "      <td>75</td>\n",
       "    </tr>\n",
       "    <tr>\n",
       "      <th>india</th>\n",
       "      <td>70</td>\n",
       "    </tr>\n",
       "    <tr>\n",
       "      <th>brazil</th>\n",
       "      <td>17</td>\n",
       "    </tr>\n",
       "    <tr>\n",
       "      <th>france</th>\n",
       "      <td>16</td>\n",
       "    </tr>\n",
       "    <tr>\n",
       "      <th>japan</th>\n",
       "      <td>15</td>\n",
       "    </tr>\n",
       "    <tr>\n",
       "      <th>germany</th>\n",
       "      <td>14</td>\n",
       "    </tr>\n",
       "    <tr>\n",
       "      <th>italy</th>\n",
       "      <td>11</td>\n",
       "    </tr>\n",
       "    <tr>\n",
       "      <th>spain</th>\n",
       "      <td>6</td>\n",
       "    </tr>\n",
       "    <tr>\n",
       "      <th>south_africa</th>\n",
       "      <td>6</td>\n",
       "    </tr>\n",
       "    <tr>\n",
       "      <th>greece</th>\n",
       "      <td>5</td>\n",
       "    </tr>\n",
       "    <tr>\n",
       "      <th>netherlands</th>\n",
       "      <td>4</td>\n",
       "    </tr>\n",
       "    <tr>\n",
       "      <th>switzerland</th>\n",
       "      <td>3</td>\n",
       "    </tr>\n",
       "    <tr>\n",
       "      <th>portugal</th>\n",
       "      <td>2</td>\n",
       "    </tr>\n",
       "    <tr>\n",
       "      <th>denmark</th>\n",
       "      <td>2</td>\n",
       "    </tr>\n",
       "    <tr>\n",
       "      <th>austria</th>\n",
       "      <td>2</td>\n",
       "    </tr>\n",
       "    <tr>\n",
       "      <th>czech_republic</th>\n",
       "      <td>2</td>\n",
       "    </tr>\n",
       "    <tr>\n",
       "      <th>belgium</th>\n",
       "      <td>2</td>\n",
       "    </tr>\n",
       "    <tr>\n",
       "      <th>sweden</th>\n",
       "      <td>2</td>\n",
       "    </tr>\n",
       "    <tr>\n",
       "      <th>cambodia</th>\n",
       "      <td>1</td>\n",
       "    </tr>\n",
       "    <tr>\n",
       "      <th>thailand</th>\n",
       "      <td>1</td>\n",
       "    </tr>\n",
       "    <tr>\n",
       "      <th>scotland</th>\n",
       "      <td>1</td>\n",
       "    </tr>\n",
       "    <tr>\n",
       "      <th>jordan</th>\n",
       "      <td>1</td>\n",
       "    </tr>\n",
       "    <tr>\n",
       "      <th>peru</th>\n",
       "      <td>1</td>\n",
       "    </tr>\n",
       "    <tr>\n",
       "      <th>norway</th>\n",
       "      <td>1</td>\n",
       "    </tr>\n",
       "    <tr>\n",
       "      <th>maldives</th>\n",
       "      <td>1</td>\n",
       "    </tr>\n",
       "    <tr>\n",
       "      <th>kenya</th>\n",
       "      <td>1</td>\n",
       "    </tr>\n",
       "    <tr>\n",
       "      <th>ireland</th>\n",
       "      <td>1</td>\n",
       "    </tr>\n",
       "    <tr>\n",
       "      <th>colombia</th>\n",
       "      <td>1</td>\n",
       "    </tr>\n",
       "    <tr>\n",
       "      <th>china</th>\n",
       "      <td>1</td>\n",
       "    </tr>\n",
       "    <tr>\n",
       "      <th>jamaica</th>\n",
       "      <td>1</td>\n",
       "    </tr>\n",
       "  </tbody>\n",
       "</table>\n",
       "</div>"
      ],
      "text/plain": [
       "                user\n",
       "country             \n",
       "usa              188\n",
       "uk               143\n",
       "canada           135\n",
       "australia         75\n",
       "india             70\n",
       "brazil            17\n",
       "france            16\n",
       "japan             15\n",
       "germany           14\n",
       "italy             11\n",
       "spain              6\n",
       "south_africa       6\n",
       "greece             5\n",
       "netherlands        4\n",
       "switzerland        3\n",
       "portugal           2\n",
       "denmark            2\n",
       "austria            2\n",
       "czech_republic     2\n",
       "belgium            2\n",
       "sweden             2\n",
       "cambodia           1\n",
       "thailand           1\n",
       "scotland           1\n",
       "jordan             1\n",
       "peru               1\n",
       "norway             1\n",
       "maldives           1\n",
       "kenya              1\n",
       "ireland            1\n",
       "colombia           1\n",
       "china              1\n",
       "jamaica            1"
      ]
     },
     "execution_count": 32,
     "metadata": {},
     "output_type": "execute_result"
    }
   ],
   "source": [
    "# Finding the distribution of social media user participation across all recorded countries\n",
    "\n",
    "sm.groupby(['country']).agg({'user': 'count'}).sort_values(by='user', ascending=False)\n",
    "\n",
    "# Looking at the total number of users from each country, we will only be looking at the top 10 countries\n",
    "# since they are the majority of the userbase"
   ]
  },
  {
   "cell_type": "code",
   "execution_count": 33,
   "metadata": {},
   "outputs": [],
   "source": [
    "# Created a function to find the number of users from each country and platform\n",
    "\n",
    "def user_count(country):\n",
    "    return sm[(sm['country'] == country)].groupby(['country', 'platform']).agg({'user': 'count'}).sort_values(by='user', ascending=False).head(3).apply(list).reset_index()\n",
    "\n",
    "usa_count = user_count('usa')\n",
    "uk_count = user_count('uk')\n",
    "canada_count = user_count('canada')\n",
    "australia_count = user_count('australia')\n",
    "india_count = user_count('india')\n",
    "brazil_count = user_count('brazil')\n",
    "france_count = user_count('france')\n",
    "japan_count = user_count('japan')\n",
    "germany_count = user_count('germany')\n",
    "italy_count = user_count('italy')\n",
    "\n",
    "country_user_count = pd.concat([usa_count, uk_count, canada_count, australia_count, india_count, brazil_count, france_count, japan_count, germany_count, italy_count], ignore_index = True)"
   ]
  },
  {
   "cell_type": "code",
   "execution_count": 34,
   "metadata": {},
   "outputs": [
    {
     "name": "stdout",
     "output_type": "stream",
     "text": [
      "     country twitter instagram facebook\n",
      "0        usa  [[56]]    [[72]]   [[60]]\n",
      "1         uk  [[48]]    [[53]]   [[42]]\n",
      "2     canada  [[46]]    [[45]]   [[44]]\n",
      "3  australia  [[22]]    [[27]]   [[26]]\n",
      "4      india  [[31]]    [[19]]   [[20]]\n",
      "5     brazil   [[5]]     [[6]]    [[6]]\n",
      "6     france   [[9]]     [[5]]    [[2]]\n",
      "7      japan   [[4]]     [[5]]    [[6]]\n",
      "8    germany   [[4]]     [[3]]    [[7]]\n",
      "9      italy   [[5]]     [[2]]    [[4]]\n"
     ]
    }
   ],
   "source": [
    "def platform_count(country, platform):\n",
    "    return country_user_count[(country_user_count['country'] == country) & (country_user_count['platform'] == platform)].select_dtypes(int).values\n",
    "\n",
    "top_10_countries = pd.DataFrame([\n",
    "    ['usa', platform_count('usa', 'twitter'), platform_count('usa', 'instagram'), platform_count('usa', 'facebook')],\n",
    "    ['uk', platform_count('uk', 'twitter'), platform_count('uk', 'instagram'), platform_count('uk', 'facebook')],\n",
    "    ['canada', platform_count('canada', 'twitter'), platform_count('canada', 'instagram'), platform_count('canada', 'facebook')],\n",
    "    ['australia', platform_count('australia', 'twitter'), platform_count('australia', 'instagram'), platform_count('australia', 'facebook')],\n",
    "    ['india', platform_count('india', 'twitter'), platform_count('india', 'instagram'), platform_count('india', 'facebook')],\n",
    "    ['brazil',platform_count('brazil', 'twitter'), platform_count('brazil', 'instagram'), platform_count('brazil', 'facebook')],\n",
    "    ['france', platform_count('france', 'twitter'), platform_count('france', 'instagram'), platform_count('france', 'facebook')],\n",
    "    ['japan', platform_count('japan', 'twitter'), platform_count('japan', 'instagram'), platform_count('japan', 'facebook')],\n",
    "    ['germany', platform_count('germany', 'twitter'), platform_count('germany', 'instagram'), platform_count('germany', 'facebook')],\n",
    "    ['italy', platform_count('italy', 'twitter'), platform_count('italy', 'instagram'), platform_count('italy', 'facebook')]],\n",
    "    columns=['country', 'twitter', 'instagram', 'facebook'])\n",
    "\n",
    "print(top_10_countries)"
   ]
  },
  {
   "cell_type": "code",
   "execution_count": 35,
   "metadata": {},
   "outputs": [
    {
     "name": "stdout",
     "output_type": "stream",
     "text": [
      "<class 'pandas.core.frame.DataFrame'>\n",
      "RangeIndex: 10 entries, 0 to 9\n",
      "Data columns (total 4 columns):\n",
      " #   Column     Non-Null Count  Dtype \n",
      "---  ------     --------------  ----- \n",
      " 0   country    10 non-null     object\n",
      " 1   twitter    10 non-null     object\n",
      " 2   instagram  10 non-null     object\n",
      " 3   facebook   10 non-null     object\n",
      "dtypes: object(4)\n",
      "memory usage: 448.0+ bytes\n"
     ]
    }
   ],
   "source": [
    "top_10_countries.info()"
   ]
  },
  {
   "cell_type": "code",
   "execution_count": 36,
   "metadata": {},
   "outputs": [
    {
     "name": "stdout",
     "output_type": "stream",
     "text": [
      "<class 'pandas.core.frame.DataFrame'>\n",
      "RangeIndex: 10 entries, 0 to 9\n",
      "Data columns (total 4 columns):\n",
      " #   Column     Non-Null Count  Dtype \n",
      "---  ------     --------------  ----- \n",
      " 0   country    10 non-null     object\n",
      " 1   twitter    10 non-null     int32 \n",
      " 2   instagram  10 non-null     int32 \n",
      " 3   facebook   10 non-null     int32 \n",
      "dtypes: int32(3), object(1)\n",
      "memory usage: 328.0+ bytes\n"
     ]
    }
   ],
   "source": [
    "top_10_countries['twitter'] = top_10_countries['twitter'].astype('int')\n",
    "top_10_countries['instagram'] = top_10_countries['instagram'].astype('int')\n",
    "top_10_countries['facebook'] = top_10_countries['facebook'].astype('int')\n",
    "\n",
    "top_10_countries.info()"
   ]
  },
  {
   "cell_type": "code",
   "execution_count": 37,
   "metadata": {},
   "outputs": [
    {
     "data": {
      "image/png": "[encoded data removed]",
      "text/plain": [
       "<Figure size 640x480 with 1 Axes>"
      ]
     },
     "metadata": {},
     "output_type": "display_data"
    }
   ],
   "source": [
    "top_10_countries.plot(x='country',\n",
    "                      kind='bar',\n",
    "                      stacked=True,\n",
    "                      color=['deepskyblue', 'darkviolet', 'royalblue'],\n",
    "                      edgecolor='black')\n",
    "\n",
    "plt.title('Social Media User Distribution by Top 10 Countries')\n",
    "plt.xlabel('User Country')\n",
    "plt.xticks(rotation=45)\n",
    "plt.ylabel('Number of Users')\n",
    "plt.legend(title='Social Media Platform')\n",
    "plt.grid(axis='y')\n",
    "plt.show()"
   ]
  },
  {
   "cell_type": "code",
   "execution_count": 38,
   "metadata": {},
   "outputs": [
    {
     "data": {
      "image/png": "[encoded data removed]",
      "text/plain": [
       "<Figure size 640x480 with 1 Axes>"
      ]
     },
     "metadata": {},
     "output_type": "display_data"
    }
   ],
   "source": [
    "sm['platform'].value_counts().plot(kind='pie',\n",
    "                                          autopct='%1.1f%%',\n",
    "                                          fontsize=14,\n",
    "                                          labels=['', '', ''],\n",
    "                                          colors=['darkviolet', 'deepskyblue', 'royalblue'],\n",
    "                                          radius=1.25)\n",
    "\n",
    "plt.title('Social Media Platform Source')\n",
    "plt.legend(['Instagram', 'Twitter', 'Facebook'],\n",
    "           title='Social Media Platform',\n",
    "           loc=[0.95,.75])\n",
    "plt.show()"
   ]
  },
  {
   "cell_type": "code",
   "execution_count": 39,
   "metadata": {},
   "outputs": [
    {
     "data": {
      "image/png": "[encoded data removed]",
      "text/plain": [
       "<Figure size 640x480 with 1 Axes>"
      ]
     },
     "metadata": {},
     "output_type": "display_data"
    }
   ],
   "source": [
    "sns.stripplot(data=sm,\n",
    "              x='timestamp',\n",
    "              y='sentiment',\n",
    "              hue='platform',\n",
    "              dodge=True,\n",
    "              alpha=.25,\n",
    "              zorder=1)\n",
    "\n",
    "plt.title('Social Media Sentiment Frequency')\n",
    "plt.xlabel('Social Media Activity 2010-2024')\n",
    "plt.ylabel('Sentiment Category')\n",
    "plt.legend(title='Platform')\n",
    "plt.grid(axis='x')\n",
    "plt.show()"
   ]
  },
  {
   "cell_type": "code",
   "execution_count": 40,
   "metadata": {},
   "outputs": [
    {
     "data": {
      "image/png": "[encoded data removed]",
      "text/plain": [
       "<Figure size 1000x500 with 1 Axes>"
      ]
     },
     "metadata": {},
     "output_type": "display_data"
    }
   ],
   "source": [
    "sm.pivot_table(index='year',\n",
    "               columns='platform',\n",
    "               values='likes',\n",
    "               aggfunc='sum').plot(title='Social Media User \\'Likes\\' Engagement',\n",
    "                                      xlabel='Time Line',\n",
    "                                      ylabel='Likes Engagement',\n",
    "                                      color=['royalblue', 'darkviolet', 'deepskyblue'],\n",
    "                                      figsize=[10,5])\n",
    "plt.grid(axis='y')\n",
    "plt.show()"
   ]
  },
  {
   "cell_type": "code",
   "execution_count": 41,
   "metadata": {},
   "outputs": [
    {
     "data": {
      "image/png": "[encoded data removed]",
      "text/plain": [
       "<Figure size 1000x500 with 1 Axes>"
      ]
     },
     "metadata": {},
     "output_type": "display_data"
    }
   ],
   "source": [
    "sm.pivot_table(index='year',\n",
    "               columns='platform',\n",
    "               values='reshared',\n",
    "               aggfunc='sum').plot(title='Social Media User \\'Reshares\\' Engagement',\n",
    "                                      xlabel='Time Line',\n",
    "                                      ylabel='Reshares Engagement',\n",
    "                                      color=['royalblue', 'darkviolet', 'deepskyblue'],\n",
    "                                      figsize=[10,5])\n",
    "plt.grid(axis='y')\n",
    "plt.show()"
   ]
  },
  {
   "cell_type": "code",
   "execution_count": 42,
   "metadata": {},
   "outputs": [
    {
     "data": {
      "image/png": "[encoded data removed]",
      "text/plain": [
       "<Figure size 1000x400 with 2 Axes>"
      ]
     },
     "metadata": {},
     "output_type": "display_data"
    }
   ],
   "source": [
    "likes_pivot = sm.pivot_table(index='platform',\n",
    "               columns='month',\n",
    "               values='likes',\n",
    "               aggfunc='sum')\n",
    "\n",
    "sns.set(style='white')\n",
    "plt.figure(figsize=(10, 4))\n",
    "plt.title('Social Media Seasonal Likes')\n",
    "sns.heatmap(likes_pivot,\n",
    "            annot=True,\n",
    "            fmt='g',\n",
    "            linewidths=.5,\n",
    "            linecolor='black')\n",
    "plt.show()"
   ]
  },
  {
   "cell_type": "code",
   "execution_count": 43,
   "metadata": {},
   "outputs": [
    {
     "data": {
      "image/png": "[encoded data removed]",
      "text/plain": [
       "<Figure size 1000x400 with 2 Axes>"
      ]
     },
     "metadata": {},
     "output_type": "display_data"
    }
   ],
   "source": [
    "reshared_pivot = sm.pivot_table(index='platform',\n",
    "               columns='month',\n",
    "               values='reshared',\n",
    "               aggfunc='sum')\n",
    "\n",
    "sns.set(style='white')\n",
    "plt.figure(figsize=(10, 4))\n",
    "plt.title('Social Media Seasonal Reshares')\n",
    "sns.heatmap(reshared_pivot,\n",
    "            annot=True,\n",
    "            fmt='g',\n",
    "            linewidths=.5,\n",
    "            linecolor='black')\n",
    "plt.show()"
   ]
  },
  {
   "cell_type": "code",
   "execution_count": 44,
   "metadata": {},
   "outputs": [],
   "source": [
    "user_totals = sm.groupby('platform').agg({'user': 'count',\n",
    "                                             'likes': 'sum',\n",
    "                                             'reshared': 'sum'})"
   ]
  },
  {
   "cell_type": "code",
   "execution_count": 45,
   "metadata": {},
   "outputs": [
    {
     "data": {
      "text/html": [
       "<div>\n",
       "<style scoped>\n",
       "    .dataframe tbody tr th:only-of-type {\n",
       "        vertical-align: middle;\n",
       "    }\n",
       "\n",
       "    .dataframe tbody tr th {\n",
       "        vertical-align: top;\n",
       "    }\n",
       "\n",
       "    .dataframe thead th {\n",
       "        text-align: right;\n",
       "    }\n",
       "</style>\n",
       "<table border=\"1\" class=\"dataframe\">\n",
       "  <thead>\n",
       "    <tr style=\"text-align: right;\">\n",
       "      <th></th>\n",
       "      <th>likes_per_user</th>\n",
       "      <th>reshares_per_user</th>\n",
       "    </tr>\n",
       "    <tr>\n",
       "      <th>platform</th>\n",
       "      <th></th>\n",
       "      <th></th>\n",
       "    </tr>\n",
       "  </thead>\n",
       "  <tbody>\n",
       "    <tr>\n",
       "      <th>facebook</th>\n",
       "      <td>41.9</td>\n",
       "      <td>21.0</td>\n",
       "    </tr>\n",
       "    <tr>\n",
       "      <th>instagram</th>\n",
       "      <td>45.1</td>\n",
       "      <td>22.6</td>\n",
       "    </tr>\n",
       "    <tr>\n",
       "      <th>twitter</th>\n",
       "      <td>41.6</td>\n",
       "      <td>20.9</td>\n",
       "    </tr>\n",
       "  </tbody>\n",
       "</table>\n",
       "</div>"
      ],
      "text/plain": [
       "           likes_per_user  reshares_per_user\n",
       "platform                                    \n",
       "facebook             41.9               21.0\n",
       "instagram            45.1               22.6\n",
       "twitter              41.6               20.9"
      ]
     },
     "execution_count": 45,
     "metadata": {},
     "output_type": "execute_result"
    }
   ],
   "source": [
    "user_totals['likes_per_user'] = (user_totals['likes'] / user_totals['user']).round(1)\n",
    "user_totals['reshares_per_user'] = (user_totals['reshared'] / user_totals['user']).round(1)\n",
    "\n",
    "user_totals.drop(columns=['user', 'likes', 'reshared'], inplace=True)\n",
    "user_totals"
   ]
  },
  {
   "cell_type": "code",
   "execution_count": 46,
   "metadata": {},
   "outputs": [
    {
     "data": {
      "image/png": "[encoded data removed]",
      "text/plain": [
       "<Figure size 640x480 with 1 Axes>"
      ]
     },
     "metadata": {},
     "output_type": "display_data"
    }
   ],
   "source": [
    "user_totals.plot(kind='bar')\n",
    "plt.show()"
   ]
  },
  {
   "cell_type": "markdown",
   "metadata": {},
   "source": [
    "[Back to Table of Contents](#back)"
   ]
  },
  {
   "cell_type": "markdown",
   "metadata": {},
   "source": [
    "## Conclusion"
   ]
  },
  {
   "cell_type": "code",
   "execution_count": null,
   "metadata": {},
   "outputs": [],
   "source": []
  },
  {
   "cell_type": "markdown",
   "metadata": {},
   "source": [
    "[Back to Table of Contents](#back)"
   ]
  }
 ],
 "metadata": {
  "kernelspec": {
   "display_name": "base",
   "language": "python",
   "name": "python3"
  },
  "language_info": {
   "codemirror_mode": {
    "name": "ipython",
    "version": 3
   },
   "file_extension": ".py",
   "mimetype": "text/x-python",
   "name": "python",
   "nbconvert_exporter": "python",
   "pygments_lexer": "ipython3",
   "version": "3.10.9"
  }
 },
 "nbformat": 4,
 "nbformat_minor": 2
}
