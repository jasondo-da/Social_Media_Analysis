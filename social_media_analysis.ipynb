{
 "cells": [
  {
   "cell_type": "markdown",
   "metadata": {},
   "source": [
    "# Title\n",
    "\n",
    "## Table of Contents <a id='back'></a>\n",
    "- [Project Introduction](#project-introduction)\n",
    "    - [Analysis Outline](#analysis-outline)\n",
    "    - [Results](#results)\n",
    "- [Importing Libraries and Opening Data Files](#importing-libraries-and-opening-data-files)\n",
    "- [Pre-Processing Data](#pre-processing-data)\n",
    "    - [Duplicates](#duplicates)\n",
    "    - [Missing Values](#missing-values)\n",
    "    - [Removing Irrelevant Data](#removing-irrelevant-data)\n",
    "    - [Data Structure Overhaul](#data-structure-overhaul)\n",
    "        - [Cleaning Headers](#cleaning-headers)\n",
    "        - [Cleaning Column Elements](#cleaning-column-elements)\n",
    "- [Exploratory Data Analysis](#exploratory-data-analysis)\n",
    "- [Conclusions and Reccomendations](#conclusions-and-reccomendations)\n",
    "- [Dataset Citation](#dataset-citation)"
   ]
  },
  {
   "cell_type": "markdown",
   "metadata": {},
   "source": [
    "## Project Introduction\n",
    "\n",
    "In this analysis, I want to gauge social media user behavior and sentiment across various platforms to better understand social media users and how they interact on the platform. The Social Media Sentiments Analysis Dataset documents user interactions with one another through their posts, likes, and reshares across multiple social media platforms. This dataset is a snapshot of user-generated content consisting of text, sentiment, timestamps, usernames, platform used, hashtags, likes, reshares, and user country. \n",
    "\n",
    "### Analysis Outline\n",
    "\n",
    "[Analysis Outline]\n",
    "\n",
    "### Results\n",
    "\n",
    "[Results]\n"
   ]
  },
  {
   "cell_type": "markdown",
   "metadata": {},
   "source": [
    "[Back to Table of Contents](#back)"
   ]
  },
  {
   "cell_type": "markdown",
   "metadata": {},
   "source": [
    "## Importing Libraries and Opening Data Files"
   ]
  },
  {
   "cell_type": "code",
   "execution_count": 1,
   "metadata": {},
   "outputs": [],
   "source": [
    "# Importing the needed libraries for this assignment\n",
    "import pandas as pd\n",
    "import numpy as np\n",
    "from matplotlib import pyplot as plt\n",
    "import seaborn as sns\n",
    "import folium\n",
    "from geopy.geocoders import Nominatim\n",
    "import requests"
   ]
  },
  {
   "cell_type": "code",
   "execution_count": 2,
   "metadata": {},
   "outputs": [],
   "source": [
    "# Importing file for assignment\n",
    "try:\n",
    "    sm = pd.read_csv('sentimentdataset.csv')\n",
    "except:\n",
    "    sm = pd.read_csv('/datasets/sentimentdataset.csv')"
   ]
  },
  {
   "cell_type": "markdown",
   "metadata": {},
   "source": [
    "[Back to Table of Contents](#back)"
   ]
  },
  {
   "cell_type": "markdown",
   "metadata": {},
   "source": [
    "## Pre-Processing Data"
   ]
  },
  {
   "cell_type": "code",
   "execution_count": 3,
   "metadata": {},
   "outputs": [
    {
     "name": "stdout",
     "output_type": "stream",
     "text": [
      "<class 'pandas.core.frame.DataFrame'>\n",
      "RangeIndex: 732 entries, 0 to 731\n",
      "Data columns (total 15 columns):\n",
      " #   Column        Non-Null Count  Dtype  \n",
      "---  ------        --------------  -----  \n",
      " 0   Unnamed: 0.1  732 non-null    int64  \n",
      " 1   Unnamed: 0    732 non-null    int64  \n",
      " 2   Text          732 non-null    object \n",
      " 3   Sentiment     732 non-null    object \n",
      " 4   Timestamp     732 non-null    object \n",
      " 5   User          732 non-null    object \n",
      " 6   Platform      732 non-null    object \n",
      " 7   Hashtags      732 non-null    object \n",
      " 8   Retweets      732 non-null    float64\n",
      " 9   Likes         732 non-null    float64\n",
      " 10  Country       732 non-null    object \n",
      " 11  Year          732 non-null    int64  \n",
      " 12  Month         732 non-null    int64  \n",
      " 13  Day           732 non-null    int64  \n",
      " 14  Hour          732 non-null    int64  \n",
      "dtypes: float64(2), int64(6), object(7)\n",
      "memory usage: 85.9+ KB\n"
     ]
    }
   ],
   "source": [
    "sm.describe()\n",
    "sm.info()"
   ]
  },
  {
   "cell_type": "markdown",
   "metadata": {},
   "source": [
    "### Duplicates"
   ]
  },
  {
   "cell_type": "code",
   "execution_count": 4,
   "metadata": {},
   "outputs": [
    {
     "data": {
      "text/plain": [
       "0"
      ]
     },
     "execution_count": 4,
     "metadata": {},
     "output_type": "execute_result"
    }
   ],
   "source": [
    "# Checking for duplicates\n",
    "sm.duplicated().sum()"
   ]
  },
  {
   "cell_type": "markdown",
   "metadata": {},
   "source": [
    "[Back to Table of Contents](#back)"
   ]
  },
  {
   "cell_type": "markdown",
   "metadata": {},
   "source": [
    "### Missing Values"
   ]
  },
  {
   "cell_type": "code",
   "execution_count": 5,
   "metadata": {},
   "outputs": [
    {
     "data": {
      "text/plain": [
       "Unnamed: 0.1    0\n",
       "Unnamed: 0      0\n",
       "Text            0\n",
       "Sentiment       0\n",
       "Timestamp       0\n",
       "User            0\n",
       "Platform        0\n",
       "Hashtags        0\n",
       "Retweets        0\n",
       "Likes           0\n",
       "Country         0\n",
       "Year            0\n",
       "Month           0\n",
       "Day             0\n",
       "Hour            0\n",
       "dtype: int64"
      ]
     },
     "execution_count": 5,
     "metadata": {},
     "output_type": "execute_result"
    }
   ],
   "source": [
    "# Checking for null values\n",
    "sm.isna().sum()"
   ]
  },
  {
   "cell_type": "markdown",
   "metadata": {},
   "source": [
    "[Back to Table of Contents](#back)"
   ]
  },
  {
   "cell_type": "markdown",
   "metadata": {},
   "source": [
    "### Removing Irrelevant Data"
   ]
  },
  {
   "cell_type": "code",
   "execution_count": 6,
   "metadata": {},
   "outputs": [
    {
     "data": {
      "text/plain": [
       "732"
      ]
     },
     "execution_count": 6,
     "metadata": {},
     "output_type": "execute_result"
    }
   ],
   "source": [
    "# Looking at both of the numeric unnamed columns, it appears to look like a column \n",
    "# that was recording the index value and we can remove these columns.\n",
    "sm['Unnamed: 0.1'].isin(sm['Unnamed: 0']).count()"
   ]
  },
  {
   "cell_type": "code",
   "execution_count": 7,
   "metadata": {},
   "outputs": [
    {
     "name": "stdout",
     "output_type": "stream",
     "text": [
      "<class 'pandas.core.frame.DataFrame'>\n",
      "RangeIndex: 732 entries, 0 to 731\n",
      "Data columns (total 13 columns):\n",
      " #   Column     Non-Null Count  Dtype  \n",
      "---  ------     --------------  -----  \n",
      " 0   Text       732 non-null    object \n",
      " 1   Sentiment  732 non-null    object \n",
      " 2   Timestamp  732 non-null    object \n",
      " 3   User       732 non-null    object \n",
      " 4   Platform   732 non-null    object \n",
      " 5   Hashtags   732 non-null    object \n",
      " 6   Retweets   732 non-null    float64\n",
      " 7   Likes      732 non-null    float64\n",
      " 8   Country    732 non-null    object \n",
      " 9   Year       732 non-null    int64  \n",
      " 10  Month      732 non-null    int64  \n",
      " 11  Day        732 non-null    int64  \n",
      " 12  Hour       732 non-null    int64  \n",
      "dtypes: float64(2), int64(4), object(7)\n",
      "memory usage: 74.5+ KB\n"
     ]
    }
   ],
   "source": [
    "# Removing columns we do not need for this analysis\n",
    "sm = sm.drop(columns=['Unnamed: 0.1', 'Unnamed: 0'])\n",
    "sm.info()"
   ]
  },
  {
   "cell_type": "markdown",
   "metadata": {},
   "source": [
    "[Back to Table of Contents](#back)"
   ]
  },
  {
   "cell_type": "markdown",
   "metadata": {},
   "source": [
    "### Data Structure Overhaul"
   ]
  },
  {
   "cell_type": "code",
   "execution_count": 8,
   "metadata": {},
   "outputs": [
    {
     "name": "stdout",
     "output_type": "stream",
     "text": [
      "<class 'pandas.core.frame.DataFrame'>\n",
      "RangeIndex: 732 entries, 0 to 731\n",
      "Data columns (total 13 columns):\n",
      " #   Column     Non-Null Count  Dtype  \n",
      "---  ------     --------------  -----  \n",
      " 0   Text       732 non-null    object \n",
      " 1   Sentiment  732 non-null    object \n",
      " 2   Timestamp  732 non-null    object \n",
      " 3   User       732 non-null    object \n",
      " 4   Platform   732 non-null    object \n",
      " 5   Hashtags   732 non-null    object \n",
      " 6   Retweets   732 non-null    float64\n",
      " 7   Likes      732 non-null    float64\n",
      " 8   Country    732 non-null    object \n",
      " 9   Year       732 non-null    int64  \n",
      " 10  Month      732 non-null    int64  \n",
      " 11  Day        732 non-null    int64  \n",
      " 12  Hour       732 non-null    int64  \n",
      "dtypes: float64(2), int64(4), object(7)\n",
      "memory usage: 74.5+ KB\n"
     ]
    },
    {
     "data": {
      "text/html": [
       "<div>\n",
       "<style scoped>\n",
       "    .dataframe tbody tr th:only-of-type {\n",
       "        vertical-align: middle;\n",
       "    }\n",
       "\n",
       "    .dataframe tbody tr th {\n",
       "        vertical-align: top;\n",
       "    }\n",
       "\n",
       "    .dataframe thead th {\n",
       "        text-align: right;\n",
       "    }\n",
       "</style>\n",
       "<table border=\"1\" class=\"dataframe\">\n",
       "  <thead>\n",
       "    <tr style=\"text-align: right;\">\n",
       "      <th></th>\n",
       "      <th>Text</th>\n",
       "      <th>Sentiment</th>\n",
       "      <th>Timestamp</th>\n",
       "      <th>User</th>\n",
       "      <th>Platform</th>\n",
       "      <th>Hashtags</th>\n",
       "      <th>Retweets</th>\n",
       "      <th>Likes</th>\n",
       "      <th>Country</th>\n",
       "      <th>Year</th>\n",
       "      <th>Month</th>\n",
       "      <th>Day</th>\n",
       "      <th>Hour</th>\n",
       "    </tr>\n",
       "  </thead>\n",
       "  <tbody>\n",
       "    <tr>\n",
       "      <th>0</th>\n",
       "      <td>Enjoying a beautiful day at the park!        ...</td>\n",
       "      <td>Positive</td>\n",
       "      <td>2023-01-15 12:30:00</td>\n",
       "      <td>User123</td>\n",
       "      <td>Twitter</td>\n",
       "      <td>#Nature #Park</td>\n",
       "      <td>15.0</td>\n",
       "      <td>30.0</td>\n",
       "      <td>USA</td>\n",
       "      <td>2023</td>\n",
       "      <td>1</td>\n",
       "      <td>15</td>\n",
       "      <td>12</td>\n",
       "    </tr>\n",
       "    <tr>\n",
       "      <th>1</th>\n",
       "      <td>Traffic was terrible this morning.           ...</td>\n",
       "      <td>Negative</td>\n",
       "      <td>2023-01-15 08:45:00</td>\n",
       "      <td>CommuterX</td>\n",
       "      <td>Twitter</td>\n",
       "      <td>#Traffic #Morning</td>\n",
       "      <td>5.0</td>\n",
       "      <td>10.0</td>\n",
       "      <td>Canada</td>\n",
       "      <td>2023</td>\n",
       "      <td>1</td>\n",
       "      <td>15</td>\n",
       "      <td>8</td>\n",
       "    </tr>\n",
       "    <tr>\n",
       "      <th>2</th>\n",
       "      <td>Just finished an amazing workout! 💪          ...</td>\n",
       "      <td>Positive</td>\n",
       "      <td>2023-01-15 15:45:00</td>\n",
       "      <td>FitnessFan</td>\n",
       "      <td>Instagram</td>\n",
       "      <td>#Fitness #Workout</td>\n",
       "      <td>20.0</td>\n",
       "      <td>40.0</td>\n",
       "      <td>USA</td>\n",
       "      <td>2023</td>\n",
       "      <td>1</td>\n",
       "      <td>15</td>\n",
       "      <td>15</td>\n",
       "    </tr>\n",
       "    <tr>\n",
       "      <th>3</th>\n",
       "      <td>Excited about the upcoming weekend getaway!  ...</td>\n",
       "      <td>Positive</td>\n",
       "      <td>2023-01-15 18:20:00</td>\n",
       "      <td>AdventureX</td>\n",
       "      <td>Facebook</td>\n",
       "      <td>#Travel #Adventure</td>\n",
       "      <td>8.0</td>\n",
       "      <td>15.0</td>\n",
       "      <td>UK</td>\n",
       "      <td>2023</td>\n",
       "      <td>1</td>\n",
       "      <td>15</td>\n",
       "      <td>18</td>\n",
       "    </tr>\n",
       "    <tr>\n",
       "      <th>4</th>\n",
       "      <td>Trying out a new recipe for dinner tonight.  ...</td>\n",
       "      <td>Neutral</td>\n",
       "      <td>2023-01-15 19:55:00</td>\n",
       "      <td>ChefCook</td>\n",
       "      <td>Instagram</td>\n",
       "      <td>#Cooking #Food</td>\n",
       "      <td>12.0</td>\n",
       "      <td>25.0</td>\n",
       "      <td>Australia</td>\n",
       "      <td>2023</td>\n",
       "      <td>1</td>\n",
       "      <td>15</td>\n",
       "      <td>19</td>\n",
       "    </tr>\n",
       "  </tbody>\n",
       "</table>\n",
       "</div>"
      ],
      "text/plain": [
       "                                                Text    Sentiment  \\\n",
       "0   Enjoying a beautiful day at the park!        ...   Positive     \n",
       "1   Traffic was terrible this morning.           ...   Negative     \n",
       "2   Just finished an amazing workout! 💪          ...   Positive     \n",
       "3   Excited about the upcoming weekend getaway!  ...   Positive     \n",
       "4   Trying out a new recipe for dinner tonight.  ...   Neutral      \n",
       "\n",
       "             Timestamp            User     Platform  \\\n",
       "0  2023-01-15 12:30:00   User123          Twitter     \n",
       "1  2023-01-15 08:45:00   CommuterX        Twitter     \n",
       "2  2023-01-15 15:45:00   FitnessFan      Instagram    \n",
       "3  2023-01-15 18:20:00   AdventureX       Facebook    \n",
       "4  2023-01-15 19:55:00   ChefCook        Instagram    \n",
       "\n",
       "                                     Hashtags  Retweets  Likes       Country  \\\n",
       "0   #Nature #Park                                  15.0   30.0     USA         \n",
       "1   #Traffic #Morning                               5.0   10.0     Canada      \n",
       "2   #Fitness #Workout                              20.0   40.0   USA           \n",
       "3   #Travel #Adventure                              8.0   15.0     UK          \n",
       "4   #Cooking #Food                                 12.0   25.0    Australia    \n",
       "\n",
       "   Year  Month  Day  Hour  \n",
       "0  2023      1   15    12  \n",
       "1  2023      1   15     8  \n",
       "2  2023      1   15    15  \n",
       "3  2023      1   15    18  \n",
       "4  2023      1   15    19  "
      ]
     },
     "execution_count": 8,
     "metadata": {},
     "output_type": "execute_result"
    }
   ],
   "source": [
    "# Getting general information about the dataset\n",
    "sm.info()\n",
    "sm.head()"
   ]
  },
  {
   "cell_type": "markdown",
   "metadata": {},
   "source": [
    "#### Cleaning Headers"
   ]
  },
  {
   "cell_type": "code",
   "execution_count": 9,
   "metadata": {},
   "outputs": [
    {
     "data": {
      "text/plain": [
       "Index(['Text', 'Sentiment', 'Timestamp', 'User', 'Platform', 'Hashtags',\n",
       "       'Retweets', 'Likes', 'Country', 'Year', 'Month', 'Day', 'Hour'],\n",
       "      dtype='object')"
      ]
     },
     "execution_count": 9,
     "metadata": {},
     "output_type": "execute_result"
    }
   ],
   "source": [
    "#checking for snakecase format\n",
    "sm.columns"
   ]
  },
  {
   "cell_type": "code",
   "execution_count": 10,
   "metadata": {},
   "outputs": [
    {
     "data": {
      "text/plain": [
       "Index(['text', 'sentiment', 'timestamp', 'user', 'platform', 'hashtags',\n",
       "       'reshared', 'likes', 'country', 'year', 'month', 'day', 'hour'],\n",
       "      dtype='object')"
      ]
     },
     "execution_count": 10,
     "metadata": {},
     "output_type": "execute_result"
    }
   ],
   "source": [
    "# Renaming column names to snake_case format\n",
    "sm = sm.rename(columns={'Text': 'text',\n",
    "                        'Sentiment': 'sentiment',\n",
    "                        'Timestamp': 'timestamp',\n",
    "                        'User': 'user',\n",
    "                        'Platform': 'platform',\n",
    "                        'Hashtags': 'hashtags',\n",
    "                        'Retweets': 'reshared',\n",
    "                        'Likes': 'likes',\n",
    "                        'Country': 'country',\n",
    "                        'Year': 'year',\n",
    "                        'Month': 'month',\n",
    "                        'Day': 'day',\n",
    "                        'Hour': 'hour'})\n",
    "sm.columns"
   ]
  },
  {
   "cell_type": "markdown",
   "metadata": {},
   "source": [
    "[Back to Table of Contents](#back)"
   ]
  },
  {
   "cell_type": "markdown",
   "metadata": {},
   "source": [
    "#### Cleaning Column Elements"
   ]
  },
  {
   "cell_type": "code",
   "execution_count": 11,
   "metadata": {},
   "outputs": [
    {
     "data": {
      "text/html": [
       "<div>\n",
       "<style scoped>\n",
       "    .dataframe tbody tr th:only-of-type {\n",
       "        vertical-align: middle;\n",
       "    }\n",
       "\n",
       "    .dataframe tbody tr th {\n",
       "        vertical-align: top;\n",
       "    }\n",
       "\n",
       "    .dataframe thead th {\n",
       "        text-align: right;\n",
       "    }\n",
       "</style>\n",
       "<table border=\"1\" class=\"dataframe\">\n",
       "  <thead>\n",
       "    <tr style=\"text-align: right;\">\n",
       "      <th></th>\n",
       "      <th>text</th>\n",
       "      <th>sentiment</th>\n",
       "      <th>timestamp</th>\n",
       "      <th>user</th>\n",
       "      <th>platform</th>\n",
       "      <th>hashtags</th>\n",
       "      <th>reshared</th>\n",
       "      <th>likes</th>\n",
       "      <th>country</th>\n",
       "      <th>year</th>\n",
       "      <th>month</th>\n",
       "      <th>day</th>\n",
       "      <th>hour</th>\n",
       "    </tr>\n",
       "  </thead>\n",
       "  <tbody>\n",
       "    <tr>\n",
       "      <th>727</th>\n",
       "      <td>Collaborating on a science project that receiv...</td>\n",
       "      <td>Happy</td>\n",
       "      <td>2017-08-18 18:20:00</td>\n",
       "      <td>ScienceProjectSuccessHighSchool</td>\n",
       "      <td>Facebook</td>\n",
       "      <td>#ScienceFairWinner #HighSchoolScience</td>\n",
       "      <td>20.0</td>\n",
       "      <td>39.0</td>\n",
       "      <td>UK</td>\n",
       "      <td>2017</td>\n",
       "      <td>8</td>\n",
       "      <td>18</td>\n",
       "      <td>18</td>\n",
       "    </tr>\n",
       "    <tr>\n",
       "      <th>728</th>\n",
       "      <td>Attending a surprise birthday party organized ...</td>\n",
       "      <td>Happy</td>\n",
       "      <td>2018-06-22 14:15:00</td>\n",
       "      <td>BirthdayPartyJoyHighSchool</td>\n",
       "      <td>Instagram</td>\n",
       "      <td>#SurpriseCelebration #HighSchoolFriendship</td>\n",
       "      <td>25.0</td>\n",
       "      <td>48.0</td>\n",
       "      <td>USA</td>\n",
       "      <td>2018</td>\n",
       "      <td>6</td>\n",
       "      <td>22</td>\n",
       "      <td>14</td>\n",
       "    </tr>\n",
       "    <tr>\n",
       "      <th>729</th>\n",
       "      <td>Successfully fundraising for a school charity ...</td>\n",
       "      <td>Happy</td>\n",
       "      <td>2019-04-05 17:30:00</td>\n",
       "      <td>CharityFundraisingTriumphHighSchool</td>\n",
       "      <td>Twitter</td>\n",
       "      <td>#CommunityGiving #HighSchoolPhilanthropy</td>\n",
       "      <td>22.0</td>\n",
       "      <td>42.0</td>\n",
       "      <td>Canada</td>\n",
       "      <td>2019</td>\n",
       "      <td>4</td>\n",
       "      <td>5</td>\n",
       "      <td>17</td>\n",
       "    </tr>\n",
       "    <tr>\n",
       "      <th>730</th>\n",
       "      <td>Participating in a multicultural festival, cel...</td>\n",
       "      <td>Happy</td>\n",
       "      <td>2020-02-29 20:45:00</td>\n",
       "      <td>MulticulturalFestivalJoyHighSchool</td>\n",
       "      <td>Facebook</td>\n",
       "      <td>#CulturalCelebration #HighSchoolUnity</td>\n",
       "      <td>21.0</td>\n",
       "      <td>43.0</td>\n",
       "      <td>UK</td>\n",
       "      <td>2020</td>\n",
       "      <td>2</td>\n",
       "      <td>29</td>\n",
       "      <td>20</td>\n",
       "    </tr>\n",
       "    <tr>\n",
       "      <th>731</th>\n",
       "      <td>Organizing a virtual talent show during challe...</td>\n",
       "      <td>Happy</td>\n",
       "      <td>2020-11-15 15:15:00</td>\n",
       "      <td>VirtualTalentShowSuccessHighSchool</td>\n",
       "      <td>Instagram</td>\n",
       "      <td>#VirtualEntertainment #HighSchoolPositivity</td>\n",
       "      <td>24.0</td>\n",
       "      <td>47.0</td>\n",
       "      <td>USA</td>\n",
       "      <td>2020</td>\n",
       "      <td>11</td>\n",
       "      <td>15</td>\n",
       "      <td>15</td>\n",
       "    </tr>\n",
       "  </tbody>\n",
       "</table>\n",
       "</div>"
      ],
      "text/plain": [
       "                                                  text sentiment  \\\n",
       "727  Collaborating on a science project that receiv...    Happy    \n",
       "728  Attending a surprise birthday party organized ...    Happy    \n",
       "729  Successfully fundraising for a school charity ...    Happy    \n",
       "730  Participating in a multicultural festival, cel...    Happy    \n",
       "731  Organizing a virtual talent show during challe...    Happy    \n",
       "\n",
       "               timestamp                                   user     platform  \\\n",
       "727  2017-08-18 18:20:00       ScienceProjectSuccessHighSchool     Facebook    \n",
       "728  2018-06-22 14:15:00            BirthdayPartyJoyHighSchool    Instagram    \n",
       "729  2019-04-05 17:30:00   CharityFundraisingTriumphHighSchool      Twitter    \n",
       "730  2020-02-29 20:45:00    MulticulturalFestivalJoyHighSchool     Facebook    \n",
       "731  2020-11-15 15:15:00    VirtualTalentShowSuccessHighSchool    Instagram    \n",
       "\n",
       "                                          hashtags  reshared  likes  country  \\\n",
       "727         #ScienceFairWinner #HighSchoolScience       20.0   39.0       UK   \n",
       "728    #SurpriseCelebration #HighSchoolFriendship       25.0   48.0      USA   \n",
       "729      #CommunityGiving #HighSchoolPhilanthropy       22.0   42.0   Canada   \n",
       "730         #CulturalCelebration #HighSchoolUnity       21.0   43.0       UK   \n",
       "731   #VirtualEntertainment #HighSchoolPositivity       24.0   47.0      USA   \n",
       "\n",
       "     year  month  day  hour  \n",
       "727  2017      8   18    18  \n",
       "728  2018      6   22    14  \n",
       "729  2019      4    5    17  \n",
       "730  2020      2   29    20  \n",
       "731  2020     11   15    15  "
      ]
     },
     "execution_count": 11,
     "metadata": {},
     "output_type": "execute_result"
    }
   ],
   "source": [
    "sm.tail()"
   ]
  },
  {
   "cell_type": "code",
   "execution_count": 12,
   "metadata": {},
   "outputs": [],
   "source": [
    "# This function that converts object elements into snakecase format\n",
    "def clean_col(col):\n",
    "    col = col.lower()\n",
    "    col = col.strip()\n",
    "    col = col.rstrip()\n",
    "    col = col.replace(' ', '_')\n",
    "    col = col.replace('[^a-zA-Z0-9_]', '')\n",
    "    return col"
   ]
  },
  {
   "cell_type": "code",
   "execution_count": 13,
   "metadata": {},
   "outputs": [
    {
     "data": {
      "text/plain": [
       "30      Weekend road trip to explore scenic views.   ...\n",
       "520    At a Justin Bieber concert, the infectious bea...\n",
       "223     Embracing life's imperfections, finding accep...\n",
       "335    Thrilled to witness the grandeur of a cultural...\n",
       "185     Helplessness engulfs me, drowning in a sea of...\n",
       "Name: text, dtype: object"
      ]
     },
     "execution_count": 13,
     "metadata": {},
     "output_type": "execute_result"
    }
   ],
   "source": [
    "sm['text'].sample(5)"
   ]
  },
  {
   "cell_type": "code",
   "execution_count": 14,
   "metadata": {},
   "outputs": [
    {
     "data": {
      "text/html": [
       "<div>\n",
       "<style scoped>\n",
       "    .dataframe tbody tr th:only-of-type {\n",
       "        vertical-align: middle;\n",
       "    }\n",
       "\n",
       "    .dataframe tbody tr th {\n",
       "        vertical-align: top;\n",
       "    }\n",
       "\n",
       "    .dataframe thead th {\n",
       "        text-align: right;\n",
       "    }\n",
       "</style>\n",
       "<table border=\"1\" class=\"dataframe\">\n",
       "  <thead>\n",
       "    <tr style=\"text-align: right;\">\n",
       "      <th></th>\n",
       "      <th>text</th>\n",
       "      <th>sentiment</th>\n",
       "      <th>timestamp</th>\n",
       "      <th>user</th>\n",
       "      <th>platform</th>\n",
       "      <th>hashtags</th>\n",
       "      <th>reshared</th>\n",
       "      <th>likes</th>\n",
       "      <th>country</th>\n",
       "      <th>year</th>\n",
       "      <th>month</th>\n",
       "      <th>day</th>\n",
       "      <th>hour</th>\n",
       "      <th>text_len</th>\n",
       "    </tr>\n",
       "  </thead>\n",
       "  <tbody>\n",
       "    <tr>\n",
       "      <th>727</th>\n",
       "      <td>collaborating_on_a_science_project_that_receiv...</td>\n",
       "      <td>Happy</td>\n",
       "      <td>2017-08-18 18:20:00</td>\n",
       "      <td>ScienceProjectSuccessHighSchool</td>\n",
       "      <td>Facebook</td>\n",
       "      <td>#ScienceFairWinner #HighSchoolScience</td>\n",
       "      <td>20.0</td>\n",
       "      <td>39.0</td>\n",
       "      <td>UK</td>\n",
       "      <td>2017</td>\n",
       "      <td>8</td>\n",
       "      <td>18</td>\n",
       "      <td>18</td>\n",
       "      <td>109</td>\n",
       "    </tr>\n",
       "    <tr>\n",
       "      <th>728</th>\n",
       "      <td>attending_a_surprise_birthday_party_organized_...</td>\n",
       "      <td>Happy</td>\n",
       "      <td>2018-06-22 14:15:00</td>\n",
       "      <td>BirthdayPartyJoyHighSchool</td>\n",
       "      <td>Instagram</td>\n",
       "      <td>#SurpriseCelebration #HighSchoolFriendship</td>\n",
       "      <td>25.0</td>\n",
       "      <td>48.0</td>\n",
       "      <td>USA</td>\n",
       "      <td>2018</td>\n",
       "      <td>6</td>\n",
       "      <td>22</td>\n",
       "      <td>14</td>\n",
       "      <td>105</td>\n",
       "    </tr>\n",
       "    <tr>\n",
       "      <th>729</th>\n",
       "      <td>successfully_fundraising_for_a_school_charity_...</td>\n",
       "      <td>Happy</td>\n",
       "      <td>2019-04-05 17:30:00</td>\n",
       "      <td>CharityFundraisingTriumphHighSchool</td>\n",
       "      <td>Twitter</td>\n",
       "      <td>#CommunityGiving #HighSchoolPhilanthropy</td>\n",
       "      <td>22.0</td>\n",
       "      <td>42.0</td>\n",
       "      <td>Canada</td>\n",
       "      <td>2019</td>\n",
       "      <td>4</td>\n",
       "      <td>5</td>\n",
       "      <td>17</td>\n",
       "      <td>98</td>\n",
       "    </tr>\n",
       "    <tr>\n",
       "      <th>730</th>\n",
       "      <td>participating_in_a_multicultural_festival,_cel...</td>\n",
       "      <td>Happy</td>\n",
       "      <td>2020-02-29 20:45:00</td>\n",
       "      <td>MulticulturalFestivalJoyHighSchool</td>\n",
       "      <td>Facebook</td>\n",
       "      <td>#CulturalCelebration #HighSchoolUnity</td>\n",
       "      <td>21.0</td>\n",
       "      <td>43.0</td>\n",
       "      <td>UK</td>\n",
       "      <td>2020</td>\n",
       "      <td>2</td>\n",
       "      <td>29</td>\n",
       "      <td>20</td>\n",
       "      <td>103</td>\n",
       "    </tr>\n",
       "    <tr>\n",
       "      <th>731</th>\n",
       "      <td>organizing_a_virtual_talent_show_during_challe...</td>\n",
       "      <td>Happy</td>\n",
       "      <td>2020-11-15 15:15:00</td>\n",
       "      <td>VirtualTalentShowSuccessHighSchool</td>\n",
       "      <td>Instagram</td>\n",
       "      <td>#VirtualEntertainment #HighSchoolPositivity</td>\n",
       "      <td>24.0</td>\n",
       "      <td>47.0</td>\n",
       "      <td>USA</td>\n",
       "      <td>2020</td>\n",
       "      <td>11</td>\n",
       "      <td>15</td>\n",
       "      <td>15</td>\n",
       "      <td>96</td>\n",
       "    </tr>\n",
       "  </tbody>\n",
       "</table>\n",
       "</div>"
      ],
      "text/plain": [
       "                                                  text sentiment  \\\n",
       "727  collaborating_on_a_science_project_that_receiv...    Happy    \n",
       "728  attending_a_surprise_birthday_party_organized_...    Happy    \n",
       "729  successfully_fundraising_for_a_school_charity_...    Happy    \n",
       "730  participating_in_a_multicultural_festival,_cel...    Happy    \n",
       "731  organizing_a_virtual_talent_show_during_challe...    Happy    \n",
       "\n",
       "               timestamp                                   user     platform  \\\n",
       "727  2017-08-18 18:20:00       ScienceProjectSuccessHighSchool     Facebook    \n",
       "728  2018-06-22 14:15:00            BirthdayPartyJoyHighSchool    Instagram    \n",
       "729  2019-04-05 17:30:00   CharityFundraisingTriumphHighSchool      Twitter    \n",
       "730  2020-02-29 20:45:00    MulticulturalFestivalJoyHighSchool     Facebook    \n",
       "731  2020-11-15 15:15:00    VirtualTalentShowSuccessHighSchool    Instagram    \n",
       "\n",
       "                                          hashtags  reshared  likes  country  \\\n",
       "727         #ScienceFairWinner #HighSchoolScience       20.0   39.0       UK   \n",
       "728    #SurpriseCelebration #HighSchoolFriendship       25.0   48.0      USA   \n",
       "729      #CommunityGiving #HighSchoolPhilanthropy       22.0   42.0   Canada   \n",
       "730         #CulturalCelebration #HighSchoolUnity       21.0   43.0       UK   \n",
       "731   #VirtualEntertainment #HighSchoolPositivity       24.0   47.0      USA   \n",
       "\n",
       "     year  month  day  hour  text_len  \n",
       "727  2017      8   18    18       109  \n",
       "728  2018      6   22    14       105  \n",
       "729  2019      4    5    17        98  \n",
       "730  2020      2   29    20       103  \n",
       "731  2020     11   15    15        96  "
      ]
     },
     "execution_count": 14,
     "metadata": {},
     "output_type": "execute_result"
    }
   ],
   "source": [
    "sm['text'] = sm['text'].apply(clean_col)\n",
    "sm['text_len'] = sm['text'].str.len()\n",
    "sm.tail()"
   ]
  },
  {
   "cell_type": "code",
   "execution_count": 15,
   "metadata": {},
   "outputs": [
    {
     "data": {
      "text/plain": [
       "625       Contentment \n",
       "298        Loneliness \n",
       "401     Radiance      \n",
       "487           Success \n",
       "90       Acceptance   \n",
       "Name: sentiment, dtype: object"
      ]
     },
     "execution_count": 15,
     "metadata": {},
     "output_type": "execute_result"
    }
   ],
   "source": [
    "sm['sentiment'].sample(5)"
   ]
  },
  {
   "cell_type": "code",
   "execution_count": 16,
   "metadata": {},
   "outputs": [
    {
     "data": {
      "text/html": [
       "<div>\n",
       "<style scoped>\n",
       "    .dataframe tbody tr th:only-of-type {\n",
       "        vertical-align: middle;\n",
       "    }\n",
       "\n",
       "    .dataframe tbody tr th {\n",
       "        vertical-align: top;\n",
       "    }\n",
       "\n",
       "    .dataframe thead th {\n",
       "        text-align: right;\n",
       "    }\n",
       "</style>\n",
       "<table border=\"1\" class=\"dataframe\">\n",
       "  <thead>\n",
       "    <tr style=\"text-align: right;\">\n",
       "      <th></th>\n",
       "      <th>text</th>\n",
       "      <th>sentiment</th>\n",
       "      <th>timestamp</th>\n",
       "      <th>user</th>\n",
       "      <th>platform</th>\n",
       "      <th>hashtags</th>\n",
       "      <th>reshared</th>\n",
       "      <th>likes</th>\n",
       "      <th>country</th>\n",
       "      <th>year</th>\n",
       "      <th>month</th>\n",
       "      <th>day</th>\n",
       "      <th>hour</th>\n",
       "      <th>text_len</th>\n",
       "    </tr>\n",
       "  </thead>\n",
       "  <tbody>\n",
       "    <tr>\n",
       "      <th>727</th>\n",
       "      <td>collaborating_on_a_science_project_that_receiv...</td>\n",
       "      <td>happy</td>\n",
       "      <td>2017-08-18 18:20:00</td>\n",
       "      <td>ScienceProjectSuccessHighSchool</td>\n",
       "      <td>Facebook</td>\n",
       "      <td>#ScienceFairWinner #HighSchoolScience</td>\n",
       "      <td>20.0</td>\n",
       "      <td>39.0</td>\n",
       "      <td>UK</td>\n",
       "      <td>2017</td>\n",
       "      <td>8</td>\n",
       "      <td>18</td>\n",
       "      <td>18</td>\n",
       "      <td>109</td>\n",
       "    </tr>\n",
       "    <tr>\n",
       "      <th>728</th>\n",
       "      <td>attending_a_surprise_birthday_party_organized_...</td>\n",
       "      <td>happy</td>\n",
       "      <td>2018-06-22 14:15:00</td>\n",
       "      <td>BirthdayPartyJoyHighSchool</td>\n",
       "      <td>Instagram</td>\n",
       "      <td>#SurpriseCelebration #HighSchoolFriendship</td>\n",
       "      <td>25.0</td>\n",
       "      <td>48.0</td>\n",
       "      <td>USA</td>\n",
       "      <td>2018</td>\n",
       "      <td>6</td>\n",
       "      <td>22</td>\n",
       "      <td>14</td>\n",
       "      <td>105</td>\n",
       "    </tr>\n",
       "    <tr>\n",
       "      <th>729</th>\n",
       "      <td>successfully_fundraising_for_a_school_charity_...</td>\n",
       "      <td>happy</td>\n",
       "      <td>2019-04-05 17:30:00</td>\n",
       "      <td>CharityFundraisingTriumphHighSchool</td>\n",
       "      <td>Twitter</td>\n",
       "      <td>#CommunityGiving #HighSchoolPhilanthropy</td>\n",
       "      <td>22.0</td>\n",
       "      <td>42.0</td>\n",
       "      <td>Canada</td>\n",
       "      <td>2019</td>\n",
       "      <td>4</td>\n",
       "      <td>5</td>\n",
       "      <td>17</td>\n",
       "      <td>98</td>\n",
       "    </tr>\n",
       "    <tr>\n",
       "      <th>730</th>\n",
       "      <td>participating_in_a_multicultural_festival,_cel...</td>\n",
       "      <td>happy</td>\n",
       "      <td>2020-02-29 20:45:00</td>\n",
       "      <td>MulticulturalFestivalJoyHighSchool</td>\n",
       "      <td>Facebook</td>\n",
       "      <td>#CulturalCelebration #HighSchoolUnity</td>\n",
       "      <td>21.0</td>\n",
       "      <td>43.0</td>\n",
       "      <td>UK</td>\n",
       "      <td>2020</td>\n",
       "      <td>2</td>\n",
       "      <td>29</td>\n",
       "      <td>20</td>\n",
       "      <td>103</td>\n",
       "    </tr>\n",
       "    <tr>\n",
       "      <th>731</th>\n",
       "      <td>organizing_a_virtual_talent_show_during_challe...</td>\n",
       "      <td>happy</td>\n",
       "      <td>2020-11-15 15:15:00</td>\n",
       "      <td>VirtualTalentShowSuccessHighSchool</td>\n",
       "      <td>Instagram</td>\n",
       "      <td>#VirtualEntertainment #HighSchoolPositivity</td>\n",
       "      <td>24.0</td>\n",
       "      <td>47.0</td>\n",
       "      <td>USA</td>\n",
       "      <td>2020</td>\n",
       "      <td>11</td>\n",
       "      <td>15</td>\n",
       "      <td>15</td>\n",
       "      <td>96</td>\n",
       "    </tr>\n",
       "  </tbody>\n",
       "</table>\n",
       "</div>"
      ],
      "text/plain": [
       "                                                  text sentiment  \\\n",
       "727  collaborating_on_a_science_project_that_receiv...     happy   \n",
       "728  attending_a_surprise_birthday_party_organized_...     happy   \n",
       "729  successfully_fundraising_for_a_school_charity_...     happy   \n",
       "730  participating_in_a_multicultural_festival,_cel...     happy   \n",
       "731  organizing_a_virtual_talent_show_during_challe...     happy   \n",
       "\n",
       "               timestamp                                   user     platform  \\\n",
       "727  2017-08-18 18:20:00       ScienceProjectSuccessHighSchool     Facebook    \n",
       "728  2018-06-22 14:15:00            BirthdayPartyJoyHighSchool    Instagram    \n",
       "729  2019-04-05 17:30:00   CharityFundraisingTriumphHighSchool      Twitter    \n",
       "730  2020-02-29 20:45:00    MulticulturalFestivalJoyHighSchool     Facebook    \n",
       "731  2020-11-15 15:15:00    VirtualTalentShowSuccessHighSchool    Instagram    \n",
       "\n",
       "                                          hashtags  reshared  likes  country  \\\n",
       "727         #ScienceFairWinner #HighSchoolScience       20.0   39.0       UK   \n",
       "728    #SurpriseCelebration #HighSchoolFriendship       25.0   48.0      USA   \n",
       "729      #CommunityGiving #HighSchoolPhilanthropy       22.0   42.0   Canada   \n",
       "730         #CulturalCelebration #HighSchoolUnity       21.0   43.0       UK   \n",
       "731   #VirtualEntertainment #HighSchoolPositivity       24.0   47.0      USA   \n",
       "\n",
       "     year  month  day  hour  text_len  \n",
       "727  2017      8   18    18       109  \n",
       "728  2018      6   22    14       105  \n",
       "729  2019      4    5    17        98  \n",
       "730  2020      2   29    20       103  \n",
       "731  2020     11   15    15        96  "
      ]
     },
     "execution_count": 16,
     "metadata": {},
     "output_type": "execute_result"
    }
   ],
   "source": [
    "sm['sentiment'] = sm['sentiment'].apply(clean_col)\n",
    "sm.tail()"
   ]
  },
  {
   "cell_type": "code",
   "execution_count": 17,
   "metadata": {},
   "outputs": [
    {
     "data": {
      "text/plain": [
       "positive    467\n",
       "negative    195\n",
       "neutral      70\n",
       "Name: sentiment, dtype: int64"
      ]
     },
     "execution_count": 17,
     "metadata": {},
     "output_type": "execute_result"
    }
   ],
   "source": [
    "# For this analysis, we are going to reduce the number of values in the sentiment column to positive, neutral, \n",
    "# and negative to make it easier to read and filter since many of these values are expressing a form of both feelings.\n",
    "pos_list = ['joy', 'excitement', 'contentment', 'gratitude', 'curiosity',\n",
    "            'serenity', 'happy', 'nostalgia', 'awe', 'hopeful',\n",
    "            'euphoria', 'enthusiasm', 'pride', 'elation', 'determination',\n",
    "            'inspiration', 'playful', 'surprise', 'happiness', 'inspired',\n",
    "            'hope', 'empowerment', 'admiration', 'compassionate', 'compassion',\n",
    "            'proud', 'calmness', 'reverence', 'fulfillment', 'tenderness',\n",
    "            'arousal', 'enchantment', 'grateful', 'thrill', 'confident',\n",
    "            'kind', 'creativity', 'accomplishment', 'harmony', 'free-spirited',\n",
    "            'empathetic', 'satisfaction', 'amusement', 'adventure', 'love',\n",
    "            'enjoyment', 'exploration', 'adoration', 'zest', 'affection',\n",
    "            'radiance', 'rejuvenation', 'resilience', 'coziness', 'whimsy',\n",
    "            'captivation', 'tranquility', 'positivity', 'playfuljoy', 'overjoyed',\n",
    "            'optimism', 'ocean\\'s_freedom', 'nature\\'s_beauty', 'relief', 'motivation',\n",
    "            'amazement', 'mindfulness', 'mesmerizing', 'melodic', 'marvel',\n",
    "            'kindness', 'joyfulreunion', 'joy_in_baking', 'intrigue', 'appreciation',\n",
    "            'grandeur', 'artisticburst', 'iconic', 'imagination', 'renewed_effort',\n",
    "            'runway_creativity', 'freedom', 'friendship', 'heartwarming', 'success',\n",
    "            'blessed', 'engagement', 'festivejoy', 'thrilling_journey', 'touched',\n",
    "            'triumph', 'vibrancy', 'winter_magic', 'breakthrough', 'celebration ',\n",
    "            'energy', 'elegance', 'ecstasy', 'dreamchaser', 'dazzle',\n",
    "            'culinaryodyssey', 'culinary_adventure', 'creative_inspiration', 'confidence', 'colorful',\n",
    "            'charm', 'celebration', 'celestial_wonder', 'wonderment', 'positive',\n",
    "            'romance']\n",
    "\n",
    "neu_list = ['acceptance', 'indifference', 'ambivalence', 'reflection', 'anticipation',\n",
    "            'wonder', 'emotion', 'contemplation', 'intimidation', 'adrenaline',\n",
    "            'journey', 'innerjourney', 'hypnotic', 'immersion', 'bittersweet',\n",
    "            'solitude', 'spark', 'suspense', 'envisioning_history', 'sympathy', \n",
    "            'emotionalstorm', 'whispers_of_the_past', 'connection', 'challenge', 'obstacle', \n",
    "            'neutral']\n",
    "\n",
    "neg_list = ['despair', 'sad', 'grief', 'loneliness', 'embarrassed',\n",
    "            'confusion', 'melancholy', 'numbness', 'frustration',\n",
    "            'regret', 'hate', 'bad', 'disgust', 'betrayal',\n",
    "            'bitterness', 'frustrated', 'desolation', 'boredom', 'overwhelmed',\n",
    "            'jealousy', 'jealous', 'heartbreak', 'dismissive', 'fearful',\n",
    "            'envious', 'resentment', 'bitter', 'shame', 'devastated', \n",
    "            'envy', 'loss', 'fear', 'helplessness', 'isolation',\n",
    "            'mischievous', 'disappointed', 'sadness', 'sorrow', 'disappointment',\n",
    "            'anxiety', 'apprehensive', 'yearning', 'anger', 'pensive',\n",
    "            'miscalculation', 'lostlove', 'pressure', 'solace', 'ruins',\n",
    "            'exhaustion', 'heartache', 'suffering', 'desperation', 'negative',\n",
    "            'darkness']\n",
    "\n",
    "def sentiment_func(value):\n",
    "    if value in pos_list:\n",
    "        return 'positive'\n",
    "    if value in neu_list:\n",
    "        return 'neutral'\n",
    "    if value in neg_list:\n",
    "        return 'negative'\n",
    "\n",
    "sm['sentiment'] = sm['sentiment'].apply(sentiment_func)\n",
    "sm['sentiment'] = sm['sentiment'].astype('category')\n",
    "sm['sentiment'].value_counts()"
   ]
  },
  {
   "cell_type": "code",
   "execution_count": 18,
   "metadata": {},
   "outputs": [
    {
     "data": {
      "text/plain": [
       "0   2023-01-15 12:30:00\n",
       "1   2023-01-15 08:45:00\n",
       "2   2023-01-15 15:45:00\n",
       "3   2023-01-15 18:20:00\n",
       "4   2023-01-15 19:55:00\n",
       "Name: timestamp, dtype: datetime64[ns]"
      ]
     },
     "execution_count": 18,
     "metadata": {},
     "output_type": "execute_result"
    }
   ],
   "source": [
    "sm['timestamp'] = pd.to_datetime(sm['timestamp'], format='%Y-%m-%d %H:%M:%S')\n",
    "sm['timestamp'].head()"
   ]
  },
  {
   "cell_type": "code",
   "execution_count": 19,
   "metadata": {},
   "outputs": [
    {
     "data": {
      "text/plain": [
       "0       user123\n",
       "1     commuterx\n",
       "2    fitnessfan\n",
       "3    adventurex\n",
       "4      chefcook\n",
       "Name: user, dtype: object"
      ]
     },
     "execution_count": 19,
     "metadata": {},
     "output_type": "execute_result"
    }
   ],
   "source": [
    "sm['user'] = sm['user'].apply(clean_col)\n",
    "sm['user'].head()"
   ]
  },
  {
   "cell_type": "code",
   "execution_count": 20,
   "metadata": {},
   "outputs": [
    {
     "data": {
      "text/plain": [
       " Instagram     258\n",
       " Facebook      231\n",
       " Twitter       128\n",
       " Twitter       115\n",
       "Name: platform, dtype: int64"
      ]
     },
     "execution_count": 20,
     "metadata": {},
     "output_type": "execute_result"
    }
   ],
   "source": [
    "sm['platform'].value_counts()"
   ]
  },
  {
   "cell_type": "code",
   "execution_count": 21,
   "metadata": {},
   "outputs": [
    {
     "data": {
      "text/plain": [
       "0      twitter\n",
       "1      twitter\n",
       "2    instagram\n",
       "3     facebook\n",
       "4    instagram\n",
       "Name: platform, dtype: category\n",
       "Categories (3, object): ['facebook', 'instagram', 'twitter']"
      ]
     },
     "execution_count": 21,
     "metadata": {},
     "output_type": "execute_result"
    }
   ],
   "source": [
    "sm['platform'] = sm['platform'].apply(clean_col)\n",
    "sm['platform'] = sm['platform'].astype('category')\n",
    "sm['platform'].head()"
   ]
  },
  {
   "cell_type": "code",
   "execution_count": 22,
   "metadata": {},
   "outputs": [
    {
     "data": {
      "text/plain": [
       "0         nature_park\n",
       "1     traffic_morning\n",
       "2     fitness_workout\n",
       "3    travel_adventure\n",
       "4        cooking_food\n",
       "Name: hashtags, dtype: object"
      ]
     },
     "execution_count": 22,
     "metadata": {},
     "output_type": "execute_result"
    }
   ],
   "source": [
    "sm['hashtags'] = sm['hashtags'].apply(clean_col)\n",
    "sm['hashtags'] = sm['hashtags'].str.replace('#', '')\n",
    "sm['hashtags'].head()"
   ]
  },
  {
   "cell_type": "code",
   "execution_count": 23,
   "metadata": {},
   "outputs": [
    {
     "data": {
      "text/html": [
       "<div>\n",
       "<style scoped>\n",
       "    .dataframe tbody tr th:only-of-type {\n",
       "        vertical-align: middle;\n",
       "    }\n",
       "\n",
       "    .dataframe tbody tr th {\n",
       "        vertical-align: top;\n",
       "    }\n",
       "\n",
       "    .dataframe thead th {\n",
       "        text-align: right;\n",
       "    }\n",
       "</style>\n",
       "<table border=\"1\" class=\"dataframe\">\n",
       "  <thead>\n",
       "    <tr style=\"text-align: right;\">\n",
       "      <th></th>\n",
       "      <th>index</th>\n",
       "      <th>user</th>\n",
       "      <th>hashtags</th>\n",
       "    </tr>\n",
       "  </thead>\n",
       "  <tbody>\n",
       "    <tr>\n",
       "      <th>0</th>\n",
       "      <td>0</td>\n",
       "      <td>user123</td>\n",
       "      <td>nature_park</td>\n",
       "    </tr>\n",
       "    <tr>\n",
       "      <th>1</th>\n",
       "      <td>1</td>\n",
       "      <td>commuterx</td>\n",
       "      <td>traffic_morning</td>\n",
       "    </tr>\n",
       "    <tr>\n",
       "      <th>2</th>\n",
       "      <td>2</td>\n",
       "      <td>fitnessfan</td>\n",
       "      <td>fitness_workout</td>\n",
       "    </tr>\n",
       "    <tr>\n",
       "      <th>3</th>\n",
       "      <td>3</td>\n",
       "      <td>adventurex</td>\n",
       "      <td>travel_adventure</td>\n",
       "    </tr>\n",
       "    <tr>\n",
       "      <th>4</th>\n",
       "      <td>4</td>\n",
       "      <td>chefcook</td>\n",
       "      <td>cooking_food</td>\n",
       "    </tr>\n",
       "    <tr>\n",
       "      <th>...</th>\n",
       "      <td>...</td>\n",
       "      <td>...</td>\n",
       "      <td>...</td>\n",
       "    </tr>\n",
       "    <tr>\n",
       "      <th>727</th>\n",
       "      <td>727</td>\n",
       "      <td>scienceprojectsuccesshighschool</td>\n",
       "      <td>sciencefairwinner_highschoolscience</td>\n",
       "    </tr>\n",
       "    <tr>\n",
       "      <th>728</th>\n",
       "      <td>728</td>\n",
       "      <td>birthdaypartyjoyhighschool</td>\n",
       "      <td>surprisecelebration_highschoolfriendship</td>\n",
       "    </tr>\n",
       "    <tr>\n",
       "      <th>729</th>\n",
       "      <td>729</td>\n",
       "      <td>charityfundraisingtriumphhighschool</td>\n",
       "      <td>communitygiving_highschoolphilanthropy</td>\n",
       "    </tr>\n",
       "    <tr>\n",
       "      <th>730</th>\n",
       "      <td>730</td>\n",
       "      <td>multiculturalfestivaljoyhighschool</td>\n",
       "      <td>culturalcelebration_highschoolunity</td>\n",
       "    </tr>\n",
       "    <tr>\n",
       "      <th>731</th>\n",
       "      <td>731</td>\n",
       "      <td>virtualtalentshowsuccesshighschool</td>\n",
       "      <td>virtualentertainment_highschoolpositivity</td>\n",
       "    </tr>\n",
       "  </tbody>\n",
       "</table>\n",
       "<p>732 rows × 3 columns</p>\n",
       "</div>"
      ],
      "text/plain": [
       "     index                                 user  \\\n",
       "0        0                              user123   \n",
       "1        1                            commuterx   \n",
       "2        2                           fitnessfan   \n",
       "3        3                           adventurex   \n",
       "4        4                             chefcook   \n",
       "..     ...                                  ...   \n",
       "727    727      scienceprojectsuccesshighschool   \n",
       "728    728           birthdaypartyjoyhighschool   \n",
       "729    729  charityfundraisingtriumphhighschool   \n",
       "730    730   multiculturalfestivaljoyhighschool   \n",
       "731    731   virtualtalentshowsuccesshighschool   \n",
       "\n",
       "                                      hashtags  \n",
       "0                                  nature_park  \n",
       "1                              traffic_morning  \n",
       "2                              fitness_workout  \n",
       "3                             travel_adventure  \n",
       "4                                 cooking_food  \n",
       "..                                         ...  \n",
       "727        sciencefairwinner_highschoolscience  \n",
       "728   surprisecelebration_highschoolfriendship  \n",
       "729     communitygiving_highschoolphilanthropy  \n",
       "730        culturalcelebration_highschoolunity  \n",
       "731  virtualentertainment_highschoolpositivity  \n",
       "\n",
       "[732 rows x 3 columns]"
      ]
     },
     "execution_count": 23,
     "metadata": {},
     "output_type": "execute_result"
    }
   ],
   "source": [
    "hashtag = sm[['user', 'hashtags']]\n",
    "hashtag.reset_index()"
   ]
  },
  {
   "cell_type": "code",
   "execution_count": 24,
   "metadata": {},
   "outputs": [
    {
     "data": {
      "text/plain": [
       "hashtags   \n",
       "serenity       15\n",
       "gratitude      13\n",
       "excitement     13\n",
       "nostalgia      11\n",
       "despair        11\n",
       "curiosity      10\n",
       "contentment    10\n",
       "grief           9\n",
       "loneliness      9\n",
       "awe             9\n",
       "dtype: int64"
      ]
     },
     "execution_count": 24,
     "metadata": {},
     "output_type": "execute_result"
    }
   ],
   "source": [
    "# Splitting the salary column values into a min salary column and a max salary column\n",
    "new_hashtag = hashtag['hashtags'].str.split('_', n=1, expand=True)\n",
    "\n",
    "hash_list = new_hashtag[0].to_list() + new_hashtag[1].to_list()\n",
    "hash_df = pd.DataFrame(hash_list, columns=['hashtags'])\n",
    "hash_df.value_counts().head(10)"
   ]
  },
  {
   "cell_type": "code",
   "execution_count": 25,
   "metadata": {},
   "outputs": [
    {
     "data": {
      "text/plain": [
       "0          usa\n",
       "1       canada\n",
       "2          usa\n",
       "3           uk\n",
       "4    australia\n",
       "Name: country, dtype: object"
      ]
     },
     "execution_count": 25,
     "metadata": {},
     "output_type": "execute_result"
    }
   ],
   "source": [
    "sm['country'] = sm['country'].apply(clean_col)\n",
    "sm['country'].head()"
   ]
  },
  {
   "cell_type": "code",
   "execution_count": 26,
   "metadata": {},
   "outputs": [],
   "source": [
    "sm['reshared'] = sm['reshared'].astype('int')\n",
    "sm['likes'] = sm['likes'].astype('int')\n",
    "sm['year'] = sm['year'].astype('int')\n",
    "sm['month'] = sm['month'].astype('int')\n",
    "sm['day'] = sm['day'].astype('int')"
   ]
  },
  {
   "cell_type": "code",
   "execution_count": 27,
   "metadata": {},
   "outputs": [
    {
     "name": "stdout",
     "output_type": "stream",
     "text": [
      "<class 'pandas.core.frame.DataFrame'>\n",
      "RangeIndex: 732 entries, 0 to 731\n",
      "Data columns (total 14 columns):\n",
      " #   Column     Non-Null Count  Dtype         \n",
      "---  ------     --------------  -----         \n",
      " 0   text       732 non-null    object        \n",
      " 1   sentiment  732 non-null    category      \n",
      " 2   timestamp  732 non-null    datetime64[ns]\n",
      " 3   user       732 non-null    object        \n",
      " 4   platform   732 non-null    category      \n",
      " 5   hashtags   732 non-null    object        \n",
      " 6   reshared   732 non-null    int32         \n",
      " 7   likes      732 non-null    int32         \n",
      " 8   country    732 non-null    object        \n",
      " 9   year       732 non-null    int32         \n",
      " 10  month      732 non-null    int32         \n",
      " 11  day        732 non-null    int32         \n",
      " 12  hour       732 non-null    int64         \n",
      " 13  text_len   732 non-null    int64         \n",
      "dtypes: category(2), datetime64[ns](1), int32(5), int64(2), object(4)\n",
      "memory usage: 56.1+ KB\n"
     ]
    },
    {
     "data": {
      "text/html": [
       "<div>\n",
       "<style scoped>\n",
       "    .dataframe tbody tr th:only-of-type {\n",
       "        vertical-align: middle;\n",
       "    }\n",
       "\n",
       "    .dataframe tbody tr th {\n",
       "        vertical-align: top;\n",
       "    }\n",
       "\n",
       "    .dataframe thead th {\n",
       "        text-align: right;\n",
       "    }\n",
       "</style>\n",
       "<table border=\"1\" class=\"dataframe\">\n",
       "  <thead>\n",
       "    <tr style=\"text-align: right;\">\n",
       "      <th></th>\n",
       "      <th>text</th>\n",
       "      <th>sentiment</th>\n",
       "      <th>timestamp</th>\n",
       "      <th>user</th>\n",
       "      <th>platform</th>\n",
       "      <th>hashtags</th>\n",
       "      <th>reshared</th>\n",
       "      <th>likes</th>\n",
       "      <th>country</th>\n",
       "      <th>year</th>\n",
       "      <th>month</th>\n",
       "      <th>day</th>\n",
       "      <th>hour</th>\n",
       "      <th>text_len</th>\n",
       "    </tr>\n",
       "  </thead>\n",
       "  <tbody>\n",
       "    <tr>\n",
       "      <th>0</th>\n",
       "      <td>enjoying_a_beautiful_day_at_the_park!</td>\n",
       "      <td>positive</td>\n",
       "      <td>2023-01-15 12:30:00</td>\n",
       "      <td>user123</td>\n",
       "      <td>twitter</td>\n",
       "      <td>nature_park</td>\n",
       "      <td>15</td>\n",
       "      <td>30</td>\n",
       "      <td>usa</td>\n",
       "      <td>2023</td>\n",
       "      <td>1</td>\n",
       "      <td>15</td>\n",
       "      <td>12</td>\n",
       "      <td>37</td>\n",
       "    </tr>\n",
       "    <tr>\n",
       "      <th>1</th>\n",
       "      <td>traffic_was_terrible_this_morning.</td>\n",
       "      <td>negative</td>\n",
       "      <td>2023-01-15 08:45:00</td>\n",
       "      <td>commuterx</td>\n",
       "      <td>twitter</td>\n",
       "      <td>traffic_morning</td>\n",
       "      <td>5</td>\n",
       "      <td>10</td>\n",
       "      <td>canada</td>\n",
       "      <td>2023</td>\n",
       "      <td>1</td>\n",
       "      <td>15</td>\n",
       "      <td>8</td>\n",
       "      <td>34</td>\n",
       "    </tr>\n",
       "    <tr>\n",
       "      <th>2</th>\n",
       "      <td>just_finished_an_amazing_workout!_💪</td>\n",
       "      <td>positive</td>\n",
       "      <td>2023-01-15 15:45:00</td>\n",
       "      <td>fitnessfan</td>\n",
       "      <td>instagram</td>\n",
       "      <td>fitness_workout</td>\n",
       "      <td>20</td>\n",
       "      <td>40</td>\n",
       "      <td>usa</td>\n",
       "      <td>2023</td>\n",
       "      <td>1</td>\n",
       "      <td>15</td>\n",
       "      <td>15</td>\n",
       "      <td>35</td>\n",
       "    </tr>\n",
       "    <tr>\n",
       "      <th>3</th>\n",
       "      <td>excited_about_the_upcoming_weekend_getaway!</td>\n",
       "      <td>positive</td>\n",
       "      <td>2023-01-15 18:20:00</td>\n",
       "      <td>adventurex</td>\n",
       "      <td>facebook</td>\n",
       "      <td>travel_adventure</td>\n",
       "      <td>8</td>\n",
       "      <td>15</td>\n",
       "      <td>uk</td>\n",
       "      <td>2023</td>\n",
       "      <td>1</td>\n",
       "      <td>15</td>\n",
       "      <td>18</td>\n",
       "      <td>43</td>\n",
       "    </tr>\n",
       "    <tr>\n",
       "      <th>4</th>\n",
       "      <td>trying_out_a_new_recipe_for_dinner_tonight.</td>\n",
       "      <td>neutral</td>\n",
       "      <td>2023-01-15 19:55:00</td>\n",
       "      <td>chefcook</td>\n",
       "      <td>instagram</td>\n",
       "      <td>cooking_food</td>\n",
       "      <td>12</td>\n",
       "      <td>25</td>\n",
       "      <td>australia</td>\n",
       "      <td>2023</td>\n",
       "      <td>1</td>\n",
       "      <td>15</td>\n",
       "      <td>19</td>\n",
       "      <td>43</td>\n",
       "    </tr>\n",
       "  </tbody>\n",
       "</table>\n",
       "</div>"
      ],
      "text/plain": [
       "                                          text sentiment           timestamp  \\\n",
       "0        enjoying_a_beautiful_day_at_the_park!  positive 2023-01-15 12:30:00   \n",
       "1           traffic_was_terrible_this_morning.  negative 2023-01-15 08:45:00   \n",
       "2          just_finished_an_amazing_workout!_💪  positive 2023-01-15 15:45:00   \n",
       "3  excited_about_the_upcoming_weekend_getaway!  positive 2023-01-15 18:20:00   \n",
       "4  trying_out_a_new_recipe_for_dinner_tonight.   neutral 2023-01-15 19:55:00   \n",
       "\n",
       "         user   platform          hashtags  reshared  likes    country  year  \\\n",
       "0     user123    twitter       nature_park        15     30        usa  2023   \n",
       "1   commuterx    twitter   traffic_morning         5     10     canada  2023   \n",
       "2  fitnessfan  instagram   fitness_workout        20     40        usa  2023   \n",
       "3  adventurex   facebook  travel_adventure         8     15         uk  2023   \n",
       "4    chefcook  instagram      cooking_food        12     25  australia  2023   \n",
       "\n",
       "   month  day  hour  text_len  \n",
       "0      1   15    12        37  \n",
       "1      1   15     8        34  \n",
       "2      1   15    15        35  \n",
       "3      1   15    18        43  \n",
       "4      1   15    19        43  "
      ]
     },
     "execution_count": 27,
     "metadata": {},
     "output_type": "execute_result"
    }
   ],
   "source": [
    "sm.info()\n",
    "sm.head()"
   ]
  },
  {
   "cell_type": "markdown",
   "metadata": {},
   "source": [
    "[Back to Table of Contents](#back)"
   ]
  },
  {
   "cell_type": "markdown",
   "metadata": {},
   "source": [
    "## Exploratory Data Analysis"
   ]
  },
  {
   "cell_type": "markdown",
   "metadata": {},
   "source": [
    "### What are social media users’ preferred methods of engagement?"
   ]
  },
  {
   "cell_type": "code",
   "execution_count": 28,
   "metadata": {},
   "outputs": [
    {
     "data": {
      "image/png": "[encoded data removed]",
      "text/plain": [
       "<Figure size 1500x400 with 2 Axes>"
      ]
     },
     "metadata": {},
     "output_type": "display_data"
    }
   ],
   "source": [
    "# \n",
    "sns.set_theme(style='darkgrid')\n",
    "fig, (axis1, axis2) = plt.subplots(1, 2, figsize=(15, 4))\n",
    "\n",
    "# Creating a bar plot with total likes and reshares\n",
    "plt.subplot(1, 2, 1)\n",
    "sum_engagement = sm.agg({'likes': 'sum',\n",
    "                         'reshared': 'sum'}).plot(kind='bar',\n",
    "                                                  color=['cornflowerblue', 'orange'],\n",
    "                                                  edgecolor='black',\n",
    "                                                  ax=axis1)\n",
    "\n",
    "for r in sum_engagement.patches:\n",
    "    y_value = r.get_height()\n",
    "    x_value = r.get_x() + r.get_width() / 2\n",
    "    space = 1\n",
    "    label = '{:.0f}'.format(y_value)\n",
    "    sum_engagement.annotate(label, (x_value, y_value), xytext=(0, space), textcoords='offset points', ha='center', va='bottom')\n",
    "plt.title('Total Likes and Reshares')\n",
    "plt.xlabel('Engagement Type')\n",
    "plt.xticks(rotation=360)\n",
    "plt.ylabel('Total Likes / Reshares')\n",
    "plt.ylim([0, 35000])\n",
    "\n",
    "\n",
    "plt.subplot(1, 2, 2)\n",
    "platform_engagement = sm.groupby('platform').agg({'likes': 'sum',\n",
    "                                                  'reshared': 'sum'}).plot(kind='bar',\n",
    "                                                                           color=['cornflowerblue', 'orange'],\n",
    "                                                                           edgecolor='black',\n",
    "                                                                           ax=axis2)\n",
    "\n",
    "for r in platform_engagement.patches:\n",
    "    y_value = r.get_height()\n",
    "    x_value = r.get_x() + r.get_width() / 2\n",
    "    space = 1\n",
    "    label = '{:.0f}'.format(y_value)\n",
    "    platform_engagement.annotate(label, (x_value, y_value), xytext=(0, space), textcoords='offset points', ha='center', va='bottom')\n",
    "plt.title('Total Likes and Reshares by Platform')\n",
    "plt.xlabel('Engagement Type')\n",
    "plt.xticks(rotation=360)\n",
    "plt.ylabel('Total Likes / Reshares')\n",
    "plt.ylim([0, 15000])\n",
    "\n",
    "plt.show()"
   ]
  },
  {
   "cell_type": "markdown",
   "metadata": {},
   "source": [
    "Across all social media platforms, likes are the preferred engagement method for social media users. The reshared engagement method is used 50% less than the likes method and this 2 to 1 ratio also occurs across all social media platforms. \n",
    "However, likes engagement only indicates positive sentiment whereas reshared can be perceived as positive or negative. Additionally due to the scarcity of reshared engagement, reshares can be viewed as a more fervent form of engagement displaying the user's intense feelings towards a post. If users have a stronger feeling towards a post, positive or negative, then they are more likely to reshare the post to other users."
   ]
  },
  {
   "cell_type": "markdown",
   "metadata": {},
   "source": [
    "[Back to Table of Contents](#back)"
   ]
  },
  {
   "cell_type": "markdown",
   "metadata": {},
   "source": [
    "### What is the most common sentiment type in a post? Does post sentiment change on different platforms?"
   ]
  },
  {
   "cell_type": "code",
   "execution_count": 29,
   "metadata": {},
   "outputs": [
    {
     "data": {
      "image/png": "[encoded data removed]",
      "text/plain": [
       "<Figure size 1300x400 with 2 Axes>"
      ]
     },
     "metadata": {},
     "output_type": "display_data"
    }
   ],
   "source": [
    "# \n",
    "sns.set_theme(style='darkgrid')\n",
    "fig, (axis1, axis2) = plt.subplots(1, 2, figsize=(13, 4))\n",
    "\n",
    "# Creating a bar plot with total likes and reshares\n",
    "plt.subplot(1, 2, 1)\n",
    "sentiment_type = sm.agg({'sentiment': 'value_counts'}).plot(kind='barh',\n",
    "                                                            edgecolor='black',\n",
    "                                                            ax=axis1)\n",
    "\n",
    "for rect in sentiment_type.patches:\n",
    "    y_value = rect.get_y() + (rect.get_height() - 0.1) / 2\n",
    "    x_value = rect.get_width()\n",
    "    label = '{:.0f}'.format(x_value)\n",
    "    sentiment_type.annotate(label,\n",
    "                        (x_value, y_value),\n",
    "                        xytext=(2, 1),\n",
    "                        textcoords='offset points',\n",
    "                        ha='left',\n",
    "                        va='center') \n",
    "plt.title('Most Common Post Sentiment Type')\n",
    "plt.xlabel('Total Posts')\n",
    "plt.xlim([0, 500])\n",
    "plt.ylabel('Sentiment Type')\n",
    "\n",
    "\n",
    "plt.subplot(1, 2, 2)\n",
    "platform_sentiment = sm.groupby('platform').agg({'sentiment': 'value_counts'}).plot(kind='barh',\n",
    "                                                                                    edgecolor='black',\n",
    "                                                                                    ax=axis2)\n",
    "\n",
    "for rect in platform_sentiment.patches:\n",
    "    y_value = rect.get_y() + (rect.get_height() - 0.1) / 2\n",
    "    x_value = rect.get_width()\n",
    "    label = '{:.0f}'.format(x_value)\n",
    "    platform_sentiment.annotate(label,\n",
    "                        (x_value, y_value),\n",
    "                        xytext=(2, 1),\n",
    "                        textcoords='offset points',\n",
    "                        ha='left',\n",
    "                        va='center') \n",
    "plt.title('Most Common Post Sentiment Type by Platform')\n",
    "plt.xlabel('Total Posts')\n",
    "plt.xlim([0, 180])\n",
    "plt.ylabel('Sentiment Type')\n",
    "plt.tick_params(axis='y',\n",
    "                left=False,\n",
    "                right=True,\n",
    "                labelleft=False,\n",
    "                labelright=True)\n",
    "\n",
    "plt.show()"
   ]
  },
  {
   "cell_type": "markdown",
   "metadata": {},
   "source": [
    "Based on the data posts with positive sentiment are the most common posts overall regardless of which social media platform was used. Posts with negative sentiments appear about 50% less frequently than positive posts and posts with neutral sentiments have about 50-60% less than negative posts."
   ]
  },
  {
   "cell_type": "markdown",
   "metadata": {},
   "source": [
    "[Back to Table of Contents](#back)"
   ]
  },
  {
   "cell_type": "markdown",
   "metadata": {},
   "source": [
    "### "
   ]
  },
  {
   "cell_type": "markdown",
   "metadata": {},
   "source": [
    "[Back to Table of Contents](#back)"
   ]
  },
  {
   "cell_type": "markdown",
   "metadata": {},
   "source": [
    "### "
   ]
  },
  {
   "cell_type": "markdown",
   "metadata": {},
   "source": [
    "[Back to Table of Contents](#back)"
   ]
  },
  {
   "cell_type": "markdown",
   "metadata": {},
   "source": [
    "### "
   ]
  },
  {
   "cell_type": "markdown",
   "metadata": {},
   "source": [
    "[Back to Table of Contents](#back)"
   ]
  },
  {
   "cell_type": "markdown",
   "metadata": {},
   "source": [
    "### "
   ]
  },
  {
   "cell_type": "markdown",
   "metadata": {},
   "source": [
    "[Back to Table of Contents](#back)"
   ]
  },
  {
   "cell_type": "markdown",
   "metadata": {},
   "source": [
    "### "
   ]
  },
  {
   "cell_type": "markdown",
   "metadata": {},
   "source": [
    "[Back to Table of Contents](#back)"
   ]
  },
  {
   "cell_type": "markdown",
   "metadata": {},
   "source": [
    "### "
   ]
  },
  {
   "cell_type": "markdown",
   "metadata": {},
   "source": [
    "[Back to Table of Contents](#back)"
   ]
  },
  {
   "cell_type": "markdown",
   "metadata": {},
   "source": [
    "### "
   ]
  },
  {
   "cell_type": "markdown",
   "metadata": {},
   "source": [
    "[Back to Table of Contents](#back)"
   ]
  },
  {
   "cell_type": "markdown",
   "metadata": {},
   "source": [
    "### "
   ]
  },
  {
   "cell_type": "code",
   "execution_count": null,
   "metadata": {},
   "outputs": [],
   "source": []
  },
  {
   "cell_type": "markdown",
   "metadata": {},
   "source": [
    "[Back to Table of Contents](#back)"
   ]
  },
  {
   "cell_type": "markdown",
   "metadata": {},
   "source": [
    "## Conclusions and Reccomendations"
   ]
  },
  {
   "cell_type": "markdown",
   "metadata": {},
   "source": [
    "[Back to Table of Contents](#back)"
   ]
  },
  {
   "cell_type": "markdown",
   "metadata": {},
   "source": [
    "## Dataset Citation\n",
    "\n",
    "syntax:\n",
    "[Dataset creator's name]. ([Year &amp; Month of dataset creation]). [Name of the dataset], [Version of the dataset]. Retrieved [Date Retrieved] from [Kaggle](URL of the dataset).\n",
    "\n",
    "example:\n",
    "Tatman, R. (2017, November). R vs. Python: The Kitchen Gadget Test, Version 1. Retrieved December 20, 2017 from https://www.kaggle.com/rtatman/r-vs-python-the-kitchen-gadget-test."
   ]
  },
  {
   "cell_type": "markdown",
   "metadata": {},
   "source": [
    "[Back to Table of Contents](#back)"
   ]
  }
 ],
 "metadata": {
  "kernelspec": {
   "display_name": "base",
   "language": "python",
   "name": "python3"
  },
  "language_info": {
   "codemirror_mode": {
    "name": "ipython",
    "version": 3
   },
   "file_extension": ".py",
   "mimetype": "text/x-python",
   "name": "python",
   "nbconvert_exporter": "python",
   "pygments_lexer": "ipython3",
   "version": "3.10.9"
  },
  "orig_nbformat": 4
 },
 "nbformat": 4,
 "nbformat_minor": 2
}
